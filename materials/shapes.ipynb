{
 "cells": [
  {
   "cell_type": "markdown",
   "metadata": {},
   "source": [
    "# Working with shapes\n",
    "\n",
    "Shapes are object created using the package `Shapely` which know about their geometry. They don't need to be associated with a map in any way. We will start with basic shapes, and then use shapes on a map, since shape functions have been included in `cartopy`."
   ]
  },
  {
   "cell_type": "code",
   "execution_count": null,
   "metadata": {
    "collapsed": true
   },
   "outputs": [],
   "source": [
    "import numpy as np\n",
    "import matplotlib.pyplot as plt\n",
    "%matplotlib inline\n",
    "\n",
    "import shapely.geometry\n",
    "import shapely.ops\n",
    "import cartopy\n",
    "import cartopy.io.shapereader as shpreader"
   ]
  },
  {
   "cell_type": "markdown",
   "metadata": {},
   "source": [
    "### 0D shapes: Points"
   ]
  },
  {
   "cell_type": "code",
   "execution_count": null,
   "metadata": {
    "collapsed": true
   },
   "outputs": [],
   "source": [
    "point = shapely.geometry.Point(0.2, 1.0)"
   ]
  },
  {
   "cell_type": "code",
   "execution_count": null,
   "metadata": {
    "collapsed": false
   },
   "outputs": [],
   "source": [
    "# Notice, the ipython '__repr__' (representation) displays the point as the output\n",
    "point"
   ]
  },
  {
   "cell_type": "code",
   "execution_count": null,
   "metadata": {
    "collapsed": false
   },
   "outputs": [],
   "source": [
    "# See some of the point attributes\n",
    "print(point.geom_type)\n",
    "print(point.area)\n",
    "print(point.length)\n",
    "print(point.bounds)\n",
    "print(point.coords)   # explore this object...\n",
    "print(point.coords[:])"
   ]
  },
  {
   "cell_type": "code",
   "execution_count": null,
   "metadata": {
    "collapsed": false
   },
   "outputs": [],
   "source": [
    "# A collection of random points...\n",
    "point1 = shapely.geometry.Point(0.2, 1.0)\n",
    "point2 = shapely.geometry.Point(0.1, 0.2)\n",
    "point3 = shapely.geometry.Point(0.5, 0.0)\n",
    "point4 = shapely.geometry.Point(0.8, 0.5)"
   ]
  },
  {
   "cell_type": "code",
   "execution_count": null,
   "metadata": {
    "collapsed": false
   },
   "outputs": [],
   "source": [
    "# We can see the distance of the points from one another\n",
    "point1.distance(point2)"
   ]
  },
  {
   "cell_type": "markdown",
   "metadata": {},
   "source": [
    "### 1D shapes: Lines and Rings"
   ]
  },
  {
   "cell_type": "code",
   "execution_count": null,
   "metadata": {
    "collapsed": false
   },
   "outputs": [],
   "source": [
    "# An ordered sequence of points is a `LineString'\n",
    "line = shapely.geometry.LineString((point1, point2, point3, point4))\n",
    "line"
   ]
  },
  {
   "cell_type": "code",
   "execution_count": null,
   "metadata": {
    "collapsed": false
   },
   "outputs": [],
   "source": [
    "# To make a closed shape, use a `LinearRing'\n",
    "closed_line = shapely.geometry.LinearRing(line)\n",
    "closed_line"
   ]
  },
  {
   "cell_type": "code",
   "execution_count": null,
   "metadata": {
    "collapsed": false
   },
   "outputs": [],
   "source": [
    "# Some of the attributes of the LinearRing..\n",
    "print(closed_line.area)   # no area since it is not 'filled'\n",
    "print(closed_line.length) # the perimeter of the shape\n",
    "print(closed_line.bounds) # an xy-plane bounding box"
   ]
  },
  {
   "cell_type": "markdown",
   "metadata": {},
   "source": [
    "### 2D shapes, Polygons and Buffers"
   ]
  },
  {
   "cell_type": "code",
   "execution_count": null,
   "metadata": {
    "collapsed": false
   },
   "outputs": [],
   "source": [
    "# Let's make a circle, with some noise\n",
    "\n",
    "N = 50\n",
    "\n",
    "x = np.cos(np.linspace(0, 2.0*np.pi, N+1))[:-1] + 0.05*np.random.randn(50)\n",
    "y = np.sin(np.linspace(0, 2.0*np.pi, N+1))[:-1] + 0.05*np.random.randn(50)\n",
    "\n",
    "plt.plot(x, y, '-')\n"
   ]
  },
  {
   "cell_type": "code",
   "execution_count": null,
   "metadata": {
    "collapsed": false
   },
   "outputs": [],
   "source": [
    "xy = zip(x, y)\n",
    "poly = shapely.geometry.Polygon(xy)\n",
    "poly"
   ]
  },
  {
   "cell_type": "code",
   "execution_count": null,
   "metadata": {
    "collapsed": false
   },
   "outputs": [],
   "source": [
    "# Some of the Polygon attributes\n",
    "print(poly.area)\n",
    "print(poly.centroid)\n",
    "print(poly.contains(point1), poly.contains(point2))\n",
    "poly.boundary"
   ]
  },
  {
   "cell_type": "code",
   "execution_count": null,
   "metadata": {
    "collapsed": false
   },
   "outputs": [],
   "source": [
    "poly.convex_hull"
   ]
  },
  {
   "cell_type": "markdown",
   "metadata": {},
   "source": [
    "We can also create 2D objects by adding buffers to existing 0D and 1D objects"
   ]
  },
  {
   "cell_type": "code",
   "execution_count": null,
   "metadata": {
    "collapsed": false
   },
   "outputs": [],
   "source": [
    "dialated = line.buffer(0.3)\n",
    "eroded = dialated.buffer(-0.2)\n",
    "\n",
    "plt.plot(*line.xy)\n",
    "plt.fill(*dialated.boundary.xy, 'g', alpha=0.2)\n",
    "plt.fill(*eroded.boundary.xy, 'b', alpha=0.2)"
   ]
  },
  {
   "cell_type": "markdown",
   "metadata": {},
   "source": [
    "### Operations"
   ]
  },
  {
   "cell_type": "code",
   "execution_count": null,
   "metadata": {
    "collapsed": false
   },
   "outputs": [],
   "source": [
    "# First, let's make a collection of fat points.\n",
    "xy = np.random.rand(20, 2)\n",
    "points = shapely.geometry.MultiPoint(xy).buffer(0.1)\n",
    "points"
   ]
  },
  {
   "cell_type": "code",
   "execution_count": null,
   "metadata": {
    "collapsed": false
   },
   "outputs": [],
   "source": [
    "regions = shapely.ops.linemerge(points.boundary)\n",
    "regions"
   ]
  },
  {
   "cell_type": "code",
   "execution_count": null,
   "metadata": {
    "collapsed": false
   },
   "outputs": [],
   "source": [
    "# make a new line\n",
    "line2 = shapely.geometry.LineString([(0, 0), (1, 1)])\n",
    "# find where the polygons from regions intersect with line2\n",
    "intersections = [poly.intersects(line2) for poly in regions]"
   ]
  },
  {
   "cell_type": "code",
   "execution_count": null,
   "metadata": {
    "collapsed": false
   },
   "outputs": [],
   "source": [
    "# loop over the polygons in the regions and plot, colored \n",
    "# differently if they intersect line1\n",
    "for poly in regions:\n",
    "    if poly.intersects(line2):\n",
    "        color = 'r'\n",
    "    else:\n",
    "        color = 'k'\n",
    "    coords = poly.coords[:]\n",
    "    x, y = zip(*coords)\n",
    "    plt.fill(x, y, color=color, alpha=0.3)\n",
    "\n",
    "# Plot the line also\n",
    "x, y = zip(*line2.coords[:])\n",
    "plt.plot(x, y, '--k')\n",
    "plt.gca().set_aspect(1.0)"
   ]
  },
  {
   "cell_type": "markdown",
   "metadata": {},
   "source": [
    "## Reading your own shapes and using `cartopy`\n",
    "\n",
    "You can read in shapefiles outside of the Natural Earth dataset and use them on maps with `cartopy`. Here we look at shipping lanes in the northwest Gulf of Mexico.\n",
    "\n",
    "We start with a map:"
   ]
  },
  {
   "cell_type": "code",
   "execution_count": null,
   "metadata": {
    "collapsed": false
   },
   "outputs": [],
   "source": [
    "proj = cartopy.crs.LambertConformal()\n",
    "land_10m = cartopy.feature.NaturalEarthFeature('physical', 'land', '10m', edgecolor='face')\n",
    "\n",
    "fig = plt.figure(figsize=(12,8))\n",
    "ax = fig.add_subplot(111, projection=proj)\n",
    "ax.set_extent([-98, -87, 25, 31], cartopy.crs.PlateCarree())\n",
    "ax.add_feature(land_10m, facecolor='0.8')"
   ]
  },
  {
   "cell_type": "markdown",
   "metadata": {},
   "source": [
    "Set up to read in shipping lane data, which is in the `data` directory:"
   ]
  },
  {
   "cell_type": "code",
   "execution_count": null,
   "metadata": {
    "collapsed": false
   },
   "outputs": [],
   "source": [
    "fname = '../data/fairway/fairway.shp'\n",
    "\n",
    "shape_feature = cartopy.feature.ShapelyFeature(shpreader.Reader(fname).geometries(),\n",
    "                                cartopy.crs.PlateCarree(), facecolor='none')"
   ]
  },
  {
   "cell_type": "markdown",
   "metadata": {},
   "source": [
    "Now we can just add the shipping lanes onto our map!"
   ]
  },
  {
   "cell_type": "code",
   "execution_count": null,
   "metadata": {
    "collapsed": false
   },
   "outputs": [],
   "source": [
    "fig = plt.figure(figsize=(12,8))\n",
    "ax = fig.add_subplot(111, projection=proj)\n",
    "ax.set_extent([-98, -87, 25, 31], cartopy.crs.PlateCarree())\n",
    "ax.add_feature(land_10m, facecolor='0.8')\n",
    "\n",
    "# shipping lanes\n",
    "ax.add_feature(shape_feature, edgecolor='r', linewidth=0.5)"
   ]
  },
  {
   "cell_type": "markdown",
   "metadata": {},
   "source": [
    "## Using geometries on a map\n",
    "\n",
    "Let's work on an example together. What states do you fly over when you fly from LA to NYC?\n",
    "\n",
    "LAX: 33.9425° N, 118.4081° W (LA)\n",
    "\n",
    "EWR: 40.6925° N, 74.1686° W (NYC)\n",
    "\n",
    "What steps do we need to do?\n",
    "\n",
    "1. Look at a map of states and the start and end points\n",
    "1. Plot a line between the two locations. BUT it should be along the Great Circle between the points since that is the real shortest distance between two locations on earth and is the likely flight path.\n",
    "1. See how to loop through states, and access meta data, in order to identify the states to then plot them."
   ]
  },
  {
   "cell_type": "code",
   "execution_count": null,
   "metadata": {
    "collapsed": true
   },
   "outputs": [],
   "source": [
    "# set up our two end points\n",
    "lon_lax, lat_lax = [-118.4081, 33.9425]\n",
    "lon_ewr, lat_ewr = [-74.1686, 40.6925]"
   ]
  },
  {
   "cell_type": "code",
   "execution_count": null,
   "metadata": {
    "collapsed": false
   },
   "outputs": [],
   "source": [
    "# Make map, and overlay states and end points\n"
   ]
  },
  {
   "cell_type": "code",
   "execution_count": null,
   "metadata": {
    "collapsed": false
   },
   "outputs": [],
   "source": [
    "# Get points between the two end points along the great circle distance\n",
    "\n",
    "import pyproj  # another projection package\n",
    "# here we use the projection we already initiated (proj) to initiate one in the package pyproj\n",
    "# which connects to the Geodesic, which is the Earth as an approximate sphere\n",
    "g = pyproj.Geod(proj.proj4_init)\n",
    "# once we have this geodesic, we can calculate 10 points along the great circle connecting the end points\n",
    "xygc = g.npts(lon_lax, lat_lax, lon_ewr, lat_ewr, 10)\n",
    "# sincec xygc is a list of tuples, the following breaks it into two separate sets of tuples\n",
    "xgc, ygc = zip(*xygc)\n",
    "# Now we can just create a list of longitude and latitude for the path, including the start and end points\n",
    "longc = [lon_lax]\n",
    "longc.extend(xgc)\n",
    "longc.extend([lon_ewr])\n",
    "latgc = [lat_lax]\n",
    "latgc.extend(ygc)\n",
    "latgc.extend([lat_ewr])\n",
    "\n",
    "# create a shapely LineString out of the lon/lat\n",
    "# flight_path = shapely.geometry.LineString(zip(longc, latgc))"
   ]
  },
  {
   "cell_type": "code",
   "execution_count": null,
   "metadata": {
    "collapsed": false
   },
   "outputs": [],
   "source": [
    "# Add flight path to plot\n"
   ]
  },
  {
   "cell_type": "code",
   "execution_count": null,
   "metadata": {
    "collapsed": false
   },
   "outputs": [],
   "source": [
    "# Access shapefile metadata along with geometries to loop through states\n",
    "\n",
    "\n",
    "# deal with shapes differently if want to dig into them more\n",
    "shapename = 'admin_1_states_provinces_lakes_shp'\n",
    "states_shp = shpreader.natural_earth(category='cultural', resolution='110m', name=shapename)\n",
    "reader = shpreader.Reader(states_shp)\n",
    "states = reader.records()\n",
    "\n",
    "# Loop through states and see if they intersect flight path\n",
    "for state in states:\n",
    "    pass  # comment this out when code is added here\n",
    "    # Now do stuff with the states\n",
    "    # Use the state shape with state.geometry, like state.geometry.area\n",
    "    # Find information about the state with state.attributes\n"
   ]
  }
 ],
 "metadata": {
  "anaconda-cloud": {},
  "kernelspec": {
   "display_name": "Python [default]",
   "language": "python",
   "name": "python3"
  },
  "language_info": {
   "codemirror_mode": {
    "name": "ipython",
    "version": 3
   },
   "file_extension": ".py",
   "mimetype": "text/x-python",
   "name": "python",
   "nbconvert_exporter": "python",
   "pygments_lexer": "ipython3",
   "version": "3.5.2"
  }
 },
 "nbformat": 4,
 "nbformat_minor": 0
}
