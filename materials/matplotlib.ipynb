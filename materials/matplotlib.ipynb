{
 "cells": [
  {
   "cell_type": "markdown",
   "metadata": {},
   "source": [
    "# matplotlib: plotting package"
   ]
  },
  {
   "cell_type": "markdown",
   "metadata": {},
   "source": [
    "![Salinity](http://pong.tamu.edu/~kthyng/movies/txla_plots/salt/2004-07-30T00.png)\n",
    "http://kristenthyng.com/gallery/txla_salinity.html"
   ]
  },
  {
   "cell_type": "markdown",
   "metadata": {},
   "source": [
    "Data and model results can be abstract if we can't see how they look. Also, it is easy to get too removed from  calculations and end up with answers that don't make sense. A straight-forward way to investigate information and to have a reality check is by plotting it up. Here we will cover the basics for making a variety of commonly-used plots.\n",
    "\n",
    "matplotlib provides a [gallery](http://matplotlib.org/gallery.html) of plot examples, as described by text and shown as plots. This is really helpful for finding what you want to do when you don't know how to describe it, and to get ideas for what possibilities are out there.\n",
    "\n",
    "To produce figures inline in Jupyter notebooks, you need to run the command `%matplotlib inline`."
   ]
  },
  {
   "cell_type": "code",
   "execution_count": null,
   "metadata": {
    "collapsed": false
   },
   "outputs": [],
   "source": [
    "%matplotlib inline\n",
    "import matplotlib.pyplot as plt\n",
    "import numpy as np"
   ]
  },
  {
   "cell_type": "markdown",
   "metadata": {},
   "source": [
    "A quick plot without any setup:"
   ]
  },
  {
   "cell_type": "code",
   "execution_count": null,
   "metadata": {
    "collapsed": false
   },
   "outputs": [],
   "source": [
    "x = np.linspace(0, 10)\n",
    "plt.plot(x, x)"
   ]
  },
  {
   "cell_type": "markdown",
   "metadata": {},
   "source": [
    "You can subsequently alter the plot with commands like `plt.xlabel('xlabel')` which act on the active figure, but you can only reference one figure at a time when they are not named.\n",
    "\n",
    "So, problems with this:\n",
    "\n",
    "* Less control\n",
    "* Harder to make changes later\n",
    "* Alters any figure you may already have open\n",
    "\n",
    "So, don't screw over future you! Set up your plot properly from the beginning"
   ]
  },
  {
   "cell_type": "markdown",
   "metadata": {},
   "source": [
    "# A. Figure overview\n",
    "\n",
    "A figure in matplotlib has several basic pieces, as shown in the following image. Note that `axes` refers to the area within a figure that is used for plotting and `axis` refers to a single x- and y-axis.\n",
    "\n",
    "![fig](http://matplotlib.org/_images/fig_map.png)\n",
    "http://matplotlib.org/faq/usage_faq.html#parts-of-a-figure\n",
    "\n",
    "\n",
    "## Figure and axes setup\n",
    "\n",
    "Steps for setting up a figure:\n",
    "\n",
    "1. Open a figure, save the object to a variable, and size it as desired.\n",
    "2. Add axes to the figure. Axes are the objects in which data is actually plotted.\n",
    "3. Add labels to clearly explain the plot, such as axis labels and a title.\n",
    "4. Plot! Most basically, use the `plot` command to plot lines and markers.\n",
    "\n",
    "Here is a good way to set up a general figure so that you can easily work with it:"
   ]
  },
  {
   "cell_type": "code",
   "execution_count": null,
   "metadata": {
    "collapsed": false
   },
   "outputs": [],
   "source": [
    "fig = plt.figure(figsize=(8, 3))  # figure size is given as a (width, height) tuple\n",
    "ax = fig.add_subplot(111)  # \n",
    "ax.set_xlabel('x axis [units]')\n",
    "ax.set_ylabel('y axis [units]')\n",
    "ax.set_title('Title')"
   ]
  },
  {
   "cell_type": "markdown",
   "metadata": {},
   "source": [
    "## Useful commands and keyword arguments\n",
    "\n",
    "These commands and keyword arguments should be frequently used to customize and properly label your figures. Command syntax shown is common usage, not all available options."
   ]
  },
  {
   "cell_type": "markdown",
   "metadata": {},
   "source": [
    "### labels and text\n",
    "\n",
    "`ax.set_xlabel(xlabel, fontsize, color)`, `ax.set_ylabel(ylabel, fontsize, color)`: Label the x and y axis with strings xlabel and ylabel, respectively. This is where you should state what is being plotted, and also give units.\n",
    "\n",
    "`ax.set_title(Title, fontsize, color)`: Label the top of the axes with a title describing the plot.\n",
    "\n",
    "[`fig.suptitle(Suptitle, fontsize, color)`](http://matplotlib.org/api/pyplot_api.html#matplotlib.pyplot.suptitle): Label the overall figure, above any subplot titles.\n",
    "\n",
    "[`ax.text(x, y, text, color, transform=ax.transAxes)`](http://matplotlib.org/api/text_api.html#matplotlib.text.Text): Write text in your axes. The text will appear at location (x,y) in data coordinates — often it is easier to input the location in units of the axes itself (from 0 to 1), which is done by setting transform=ax.transAxes. The text is input as a string and `color` controls the color of the text."
   ]
  },
  {
   "cell_type": "markdown",
   "metadata": {},
   "source": [
    "### [subplot](http://matplotlib.org/api/pyplot_api.html#matplotlib.pyplot.subplot)\n",
    "\n",
    "`fig.add_subplot(nrows, ncols, plot_number)`\n",
    "\n",
    "Above, we showed an example of adding a single axes to the figure, with the command `fig.add_subplot(111)`. This command can be used to add multiple axes to the figure instead of a single one. These subplots can divide up the available space in the figure only in a simple way, which is enough for most cases.\n",
    "\n",
    "An example with 1 row and 2 columns of axes is shown, with the `plot_number` increasing from 1 across the rows then columns, up to the number of axes (2, in this case)."
   ]
  },
  {
   "cell_type": "code",
   "execution_count": null,
   "metadata": {
    "collapsed": false
   },
   "outputs": [],
   "source": [
    "# subplot example\n",
    "fig = plt.figure(figsize=(16, 3))\n",
    "\n",
    "ax1 = fig.add_subplot(1, 2, 1)  # 1st subplot\n",
    "ax1.set_xlabel('x axis 1', fontsize=14, color='r')\n",
    "ax1.set_ylabel('y axis 1')\n",
    "ax1.set_title('Title 1')\n",
    "\n",
    "ax2 = fig.add_subplot(1, 2, 2)  # 2nd subplot\n",
    "ax2.set_xlabel('x axis 2', fontsize=14, color='b')\n",
    "ax2.set_ylabel('y axis 2')\n",
    "ax2.set_title('Title 2')\n",
    "ax2.set_xlim(0, 0.5)\n",
    "ax2.set_ylim(0, 2)\n",
    "\n",
    "fig.suptitle('Overall title', fontsize=18)\n",
    "#fig.tight_layout()  # helper function to clean up plot"
   ]
  },
  {
   "cell_type": "markdown",
   "metadata": {},
   "source": [
    "### [subplots](http://matplotlib.org/examples/pylab_examples/subplots_demo.html)\n",
    "\n",
    "`fig, axes = plt.subplots(nrows, ncols)`\n",
    "\n",
    "If we want to use many subplots, it is more concise to save the number of axes to an array so that we can loop through them. This function allows us to have subplots with shared x, y, or both axes, which then shares the x and y limits and the ticks and tick labels.\n",
    "\n",
    "An example with 3 rows and 2 columns of axes is shown. We loop through the axes instead of listing each out\n",
    "separately. We demonstrate the ability to share the x axis."
   ]
  },
  {
   "cell_type": "code",
   "execution_count": null,
   "metadata": {
    "collapsed": false
   },
   "outputs": [],
   "source": [
    "fig, axes = plt.subplots(2, 3, sharex=True)\n",
    "\n",
    "# loop through axes\n",
    "for i, ax in enumerate(axes.flat):\n",
    "    \n",
    "    ax.set_title('plot_number=' + str(i+1))  # add 1 to plot_number since it starts counting at 1\n",
    "\n",
    "# make plot look nicer\n",
    "# fig.tight_layout()  # Use to make plot look nicer"
   ]
  },
  {
   "cell_type": "markdown",
   "metadata": {},
   "source": [
    "### axes layout\n",
    "\n",
    "[`fig.tight_layout()`](http://matplotlib.org/api/figure_api.html#matplotlib.figure.Figure.tight_layout): convenience function to automatically improve spacing between subplots (already used above).\n",
    "\n",
    "[`fig.subplots_adjust(left=None, bottom=None, right=None, top=None, wspace=None, hspace=None)`](http://matplotlib.org/api/figure_api.html#matplotlib.figure.Figure.subplots_adjust): Any of the keywords listed may be used to override the default values. In order, the adjust the left, bottom, right, and top of the subplots, the width and height for space between subplots. These values can be altered graphically when using a GUI version of a plot in iPython."
   ]
  },
  {
   "cell_type": "markdown",
   "metadata": {},
   "source": [
    "### axis control\n",
    "\n",
    "`ax.set_xlim(xmin, xmax)`, `ax.set_ylim(ymin, ymax)`: Set the x and y axis limits to xmin, xmax and ymin, ymax, respectively.\n",
    "\n",
    "#### [axis](http://matplotlib.org/api/pyplot_api.html#matplotlib.pyplot.axis)\n",
    "\n",
    "The axis values by default encompass the plotted data comfortably, usually giving some space at the edges, depending on the numbers. However, this can be modified. Common usages:\n",
    "\n",
    "`axis('equal')`: sets x and y limits so that the increments on both axes are equal lengths.\n",
    "\n",
    "`axis('tight')`: sets axis limits to just encompass the data, with no extra space on the ends."
   ]
  },
  {
   "cell_type": "code",
   "execution_count": null,
   "metadata": {
    "collapsed": false
   },
   "outputs": [],
   "source": [
    "# axis examples\n",
    "x = np.linspace(0, 10)\n",
    "\n",
    "fig = plt.figure(figsize=(16, 3))\n",
    "\n",
    "# No adjustments to axis\n",
    "ax1 = fig.add_subplot(1, 3, 1)\n",
    "ax1.plot(x, 9.5*x)\n",
    "ax1.set_title('Default axis')\n",
    "\n",
    "# Using axis('equal')\n",
    "ax2 = fig.add_subplot(1, 3, 2)\n",
    "ax2.plot(x, 9.5*x)\n",
    "ax2.axis('equal')\n",
    "ax2.set_title(\"axis('equal')\")\n",
    "\n",
    "# Using axis('tight')\n",
    "ax3 = fig.add_subplot(1, 3, 3)\n",
    "ax3.plot(x, 9.5*x)\n",
    "ax3.axis('tight')\n",
    "ax3.set_title(\"axis('tight')\")"
   ]
  },
  {
   "cell_type": "markdown",
   "metadata": {},
   "source": [
    "---\n",
    "###  *Exercise*\n",
    "\n",
    "> Create figures with multiple axes two ways: with `add_subplot` and with `subplots`. Plot something simple, then label the x and y axis, and try changing the limits of the x and y axis with `xlim`, `ylim` and `axis`, and adjusting the overall character with `tight_layout` and `subplots_adjust`. Change the fontsize and color of your labels.\n",
    "\n",
    "> Help the other students at your table: if you are finished, you should be looking around to see who could use some help. Be prepared to show off your results!\n",
    "\n",
    "---"
   ]
  },
  {
   "cell_type": "code",
   "execution_count": null,
   "metadata": {
    "collapsed": true
   },
   "outputs": [],
   "source": []
  },
  {
   "cell_type": "markdown",
   "metadata": {},
   "source": [
    "**Plot Example**\n",
    "![sample](http://cbio.ensmp.fr/~nvaroquaux/jhepc/_images/entry10.png)\n",
    "http://cbio.ensmp.fr/~nvaroquaux/jhepc/2013/entry10/index.html"
   ]
  },
  {
   "cell_type": "markdown",
   "metadata": {},
   "source": [
    "### Plotting with `datetime` objects\n",
    "\n",
    "If you want to plot with time, use `datetime` objects to hold the time/dates. Then when you plot, things will work out nicely. In fact, in the following example, the plotted dates will be formatted correctly whether or not you plot with the special function [`plot_date()`](http://matplotlib.org/api/pyplot_api.html#matplotlib.pyplot.plot_date). But, to have them be readable, we need to rotate the labels."
   ]
  },
  {
   "cell_type": "code",
   "execution_count": null,
   "metadata": {
    "collapsed": false
   },
   "outputs": [],
   "source": [
    "from datetime import datetime\n",
    "missing_value = -999\n",
    "\n",
    "# Copied some code from class materials\n",
    "f = open('../data/02_GPS.dat')\n",
    "f.seek(0)  # This sets the pointer back to the beginning of the file. This allows us to run this\n",
    "           # block of code many times without reopening the file each time.\n",
    "\n",
    "gps = {}  # initialize dictionary\n",
    "gps['datetimes'] = []             # initialize datetimes list\n",
    "gps['speed'] = []                 # initialize speed list\n",
    "gps['dir'] = []\n",
    "for line in f.readlines():        # iterate over each line in the file. Each line is a string.\n",
    "    data = line.split('\\t')       # split the line of text into words, each separated by tabs, to get full drifter name\n",
    "    if data[0] == 'Trackpoint':   # We only want to consider lines that begin with 'Trackpoint', as these hold the data\n",
    "        datetimeinfo = data[2].split()\n",
    "        date = datetimeinfo[0].split('/')\n",
    "        month = int(date[0])\n",
    "        day = int(date[1])\n",
    "        year = int(date[2])\n",
    "        time = datetimeinfo[1].split(':')\n",
    "        hour = int(time[0])\n",
    "        mins = int(time[1])\n",
    "        sec = int(time[2])\n",
    "        if datetimeinfo[2] == 'PM':\n",
    "            hour = hour + 12\n",
    "        # create the datetime object for this line and append onto our list\n",
    "        gps['datetimes'].append(datetime(year, month, day, hour, mins, sec))\n",
    "        # now deal with speed\n",
    "        if len(data) > 8:  # this catches the one weird line with fewer tabs, which has no speed\n",
    "            speed = data[7].split(' ')[0]\n",
    "            deg = data[8].split('\\u00b0')[0]\n",
    "            if speed == '':\n",
    "                gps['speed'].append(missing_value)  # there aren't values available for many entries\n",
    "            else:  # it is a string containing a number\n",
    "                gps['speed'].append(float(speed))\n",
    "                gps['dir'].append(float(deg))  \n",
    "        else:\n",
    "            gps['speed'].append(missing_value)\n",
    "            gps['dir'].append(missing_value)  # there aren't values available for many entries\n",
    "            \n",
    "    else:\n",
    "        continue"
   ]
  },
  {
   "cell_type": "code",
   "execution_count": null,
   "metadata": {
    "collapsed": false
   },
   "outputs": [],
   "source": [
    "# Need to mask out missing values\n",
    "imissing = np.asarray(gps['speed'][:]) == -999\n",
    "gps['speed'] = np.ma.masked_where(imissing, gps['speed'])\n",
    "gps['dir'] = np.ma.masked_where(imissing, gps['dir'])"
   ]
  },
  {
   "cell_type": "code",
   "execution_count": null,
   "metadata": {
    "collapsed": false
   },
   "outputs": [],
   "source": [
    "import matplotlib.dates\n",
    "fig = plt.figure()\n",
    "ax = fig.add_subplot(111)\n",
    "ax.plot(gps['datetimes'], gps['speed'], 'rv', ms=5)\n",
    "\n",
    "# labels\n",
    "ax.set_xlabel('Times')\n",
    "ax.set_ylabel('Speed [mph]')\n",
    "\n",
    "# Fix the formatting of the dates since ugly\n",
    "ax.xaxis.set_major_formatter(matplotlib.dates.DateFormatter('%b %d, %H:%M'))\n",
    "plt.xticks(rotation=70);  # rotating usually important for dates"
   ]
  },
  {
   "cell_type": "markdown",
   "metadata": {},
   "source": [
    "### ticks, ticklabels, spines\n",
    "\n",
    "Spines are the lines making up the x and y axis — both top/bottom and left/right. Ticks are the locations of the little marks (ticklines) along the axis, and ticklabels are the text. You can control each of these independently in a couple of ways, including the following and with `tick_params`."
   ]
  },
  {
   "cell_type": "code",
   "execution_count": null,
   "metadata": {
    "collapsed": false
   },
   "outputs": [],
   "source": [
    "x = np.linspace(0, 4)\n",
    "\n",
    "fig = plt.figure(figsize=(2, 3))\n",
    "ax = fig.add_subplot(111)\n",
    "ax.plot(x, x)\n",
    "\n",
    "# turn off right and top spines:\n",
    "ax.spines['right'].set_visible(False)\n",
    "ax.spines['top'].set_visible(False)\n",
    "\n",
    "# Change color of left spine\n",
    "ax.spines['left'].set_color('r')\n",
    "\n",
    "# # But the ticks on the top and right axis are still there!\n",
    "# # That's because they are controlled separately.\n",
    "\n",
    "ax.xaxis.set_ticks_position('bottom')  # turns off top tick marks\n",
    "\n",
    "ax.set_yticklabels('')  # Turn off y tick labels (the text)\n",
    "\n",
    "xticklocs = [0, 2, 4]\n",
    "xticklabels = ['1st', '2nd', '3rd']\n",
    "plt.xticks(xticklocs);"
   ]
  },
  {
   "cell_type": "markdown",
   "metadata": {},
   "source": [
    "### Removing offset from axis\n",
    "\n",
    "By default, matplotlib will format the axis with a relative shift if there is a large difference in the axis value range. Sometimes this is helpful and sometimes it is annoying. We can turn this off with `ax.get_xaxis().get_major_formatter().set_useOffset(False)`."
   ]
  },
  {
   "cell_type": "code",
   "execution_count": null,
   "metadata": {
    "collapsed": false
   },
   "outputs": [],
   "source": [
    "fig = plt.figure()\n",
    "\n",
    "ax1 = fig.add_subplot(121)\n",
    "ax1.plot([1000, 1001, 1002], [1, 2, 3])\n",
    "ax1.set_title('default matplotlib x-axis')\n",
    "\n",
    "ax2 = fig.add_subplot(122)\n",
    "ax2.plot([1000, 1001, 1002], [1, 2, 3])\n",
    "ax2.set_title('turned off default offset')\n",
    "ax2.get_xaxis().get_major_formatter().set_useOffset(False)\n",
    "ax2.grid(True, color='k', linestyle=':', linewidth=0.25)"
   ]
  },
  {
   "cell_type": "markdown",
   "metadata": {},
   "source": [
    "---\n",
    "###  *Exercise*\n",
    "\n",
    "> Using the data read in above from `02_GPS.dat`, plot the drifter direction vs. the datetimes at which the data were taken. Label the plot and make it look nice and readable. Then remove the right and top spines, ticks, and ticklabels so that we are left with just the left and bottom indicators.\n",
    "\n",
    "---"
   ]
  },
  {
   "cell_type": "code",
   "execution_count": null,
   "metadata": {
    "collapsed": false
   },
   "outputs": [],
   "source": []
  },
  {
   "cell_type": "markdown",
   "metadata": {},
   "source": [
    "### Legends\n",
    "\n",
    "[`ax.legend([possible sequence of strings], loc)`](http://matplotlib.org/api/legend_api.html#matplotlib.legend.Legend)\n",
    "\n",
    "where loc tells where in the axes to place the legend:\n",
    "'best'         : 0, (only implemented for axes legends)\n",
    "'upper right'  : 1,\n",
    "'upper left'   : 2,\n",
    "'lower left'   : 3,\n",
    "'lower right'  : 4,\n",
    "'right'        : 5,\n",
    "'center left'  : 6,\n",
    "'center right' : 7,\n",
    "'lower center' : 8,\n",
    "'upper center' : 9,\n",
    "'center'       : 10,\n",
    "\n",
    "A legend or key for a plot can be produced by matplotlib by either labeling plots as they are plotted and then calling the legend command, or by plotting and then labeling them in order within the legend command.\n",
    "\n",
    "Note also that when a marker is used for plotting, the legend by default puts two of them in the legend, which is rather ugly. This can be changed by adding `numpoints=1` into the `legend()` call."
   ]
  },
  {
   "cell_type": "code",
   "execution_count": null,
   "metadata": {
    "collapsed": false
   },
   "outputs": [],
   "source": [
    "x = np.linspace(0, 10)\n",
    "\n",
    "fig = plt.figure()\n",
    "\n",
    "# Using default legend location and labeled plots as they were plotted\n",
    "ax1 = fig.add_subplot(121)\n",
    "ax1.plot(x, x, label='y=x')\n",
    "ax1.plot(x, x**2, '.', label='y=x$^2$')\n",
    "ax1.legend()\n",
    "ax1.set_title('labeled entries,\\n default legend loc,\\n 2 markers in legend')\n",
    "\n",
    "# Chose \"best\" location for legend and labeled plots in the legend in order of plotting\n",
    "ax2 = fig.add_subplot(122)\n",
    "ax2.plot(x, x)\n",
    "ax2.plot(x, x**2, '.')\n",
    "ax2.legend(('y=x', 'y=x$^2$'), loc=0, numpoints=1)\n",
    "ax2.set_title('labeled entries in legend,\\n best legend loc,\\n 1 marker in legend')\n"
   ]
  },
  {
   "cell_type": "markdown",
   "metadata": {},
   "source": [
    "### Plotting inputs\n",
    "\n",
    "#### [colors](http://matplotlib.org/api/colors_api.html#module-matplotlib.colors)\n",
    "\n",
    "A handful of colors are available by a single letter code:\n",
    "- b: blue\n",
    "- g: green\n",
    "- r: red\n",
    "- c: cyan\n",
    "- m: magenta\n",
    "- y: yellow\n",
    "- k: black\n",
    "- w: white, \n",
    "- and many more are available by (html) name:\n",
    "\n",
    "![color chart](http://i.stack.imgur.com/k2VzI.png)\n",
    "http://stackoverflow.com/questions/22408237/named-colors-in-matplotlib\n",
    "\n",
    "Other inputs to matplotlib possible:\n",
    "\n",
    "* Gray scale: a string with a float in it between 0 (black) and 1 (white)\n",
    "* Hex: '#eeefff'\n",
    "* RGB tuple in the range [0,1]: [0.1, 0.2, 0.3]\n",
    "\n",
    "#### [line styles and markers](http://matplotlib.org/1.3.1/examples/pylab_examples/line_styles.html)\n",
    "\n",
    "There are several line styles and many markers available for plotting. You can plot a marker alone, a line alone, or a combination of the two for even more options. Here are some examples:\n",
    "\n",
    "![line styles and markers](http://matplotlib.org/1.3.1/_images/line_styles.png)\n",
    "http://matplotlib.org/1.3.1/examples/pylab_examples/line_styles.html\n",
    "\n",
    "#### options\n",
    "\n",
    "- `markersize` or `ms`: how large the markers are, if used\n",
    "- `markeredgecolor` or `mec`: color of marker edge, can be None\n",
    "- `markerfacecolor` or `mfc`: color of marker face, case be None\n",
    "- `linewidth` or `lw`: width of line if using a linestyle\n",
    "- `color`: color of line or marker\n",
    "- `alpha`: transparency of lines/markers, from 0 (transparent) to 1 (opaque)"
   ]
  },
  {
   "cell_type": "markdown",
   "metadata": {},
   "source": [
    "#### Plotting usage examples\n",
    "\n",
    "Many usage examples for `plot` can be found with\n",
    "\n",
    "    plt.plot?\n",
    "    \n",
    "Can use some shortcuts for simple options:"
   ]
  },
  {
   "cell_type": "code",
   "execution_count": null,
   "metadata": {
    "collapsed": false
   },
   "outputs": [],
   "source": [
    "x = np.linspace(0, 10, 100)\n",
    "y = np.random.rand(100)\n",
    "\n",
    "fig, axes = plt.subplots(3, 1, sharex=True)\n",
    "axes[0].plot(x, y, 'k-')  # Plots with a black line\n",
    "axes[1].plot(x, y, 'r*--')  # Plots with a red dashed line with stars\n",
    "axes[2].plot(x, y, 'k*', x, x, 'r')  # can plot more than one line with one call without keywords"
   ]
  },
  {
   "cell_type": "markdown",
   "metadata": {},
   "source": [
    "For more control, need to use keyword arguments. For example, unless you want to use one of the single-letter color names, you need to use the keyword `color` to choose your color."
   ]
  },
  {
   "cell_type": "code",
   "execution_count": null,
   "metadata": {
    "collapsed": false
   },
   "outputs": [],
   "source": [
    "fig, axes = plt.subplots(3, 1, figsize=(10, 6))\n",
    "# Large light blue squares (defined by hex) with red edges\n",
    "axes[0].plot(x, y, color='#eeefff', markersize=10, marker='s', markeredgecolor='r')  \n",
    "axes[1].plot(x, y, color='palevioletred', linewidth=10, alpha=0.5)  # Thick, half-transparent line\n",
    "axes[2].plot(x, y, '-.', color='0.6', lw=3)  # grayscale line\n",
    "fig.subplots_adjust(hspace = 0.3)"
   ]
  },
  {
   "cell_type": "markdown",
   "metadata": {},
   "source": [
    "---\n",
    "###  *Exercise*\n",
    "\n",
    "> The following don't work. Why?\n",
    "\n",
    "    plt.plot(x, y, 'r*b:')\n",
    "    plt.plot(x, y, 'r*', ms=20, x, y, 'b:')\n",
    "\n",
    "---"
   ]
  },
  {
   "cell_type": "code",
   "execution_count": null,
   "metadata": {
    "collapsed": false
   },
   "outputs": [],
   "source": []
  },
  {
   "cell_type": "markdown",
   "metadata": {},
   "source": [
    "## Example\n",
    "\n",
    "Let's plot something from the CTD data we used in numpy."
   ]
  },
  {
   "cell_type": "code",
   "execution_count": null,
   "metadata": {
    "collapsed": false
   },
   "outputs": [],
   "source": [
    "data = np.loadtxt('../data/CTD.txt', comments='*')\n",
    "\n",
    "# set up figure\n",
    "fig = plt.figure()\n",
    "ax = fig.add_subplot(111)\n",
    "\n",
    "# plot data\n",
    "ax.plot(data[:,0], data[:,1], 'g-^', lw=4, ms=15, alpha=0.5)\n",
    "ax.invert_yaxis()\n",
    "\n",
    "# labels\n",
    "ax.set_xlabel(\"Pressure [db]\", fontsize=20)\n",
    "ax.set_ylabel(\"Depth [m]\", fontsize=20)"
   ]
  },
  {
   "cell_type": "markdown",
   "metadata": {},
   "source": [
    "---\n",
    "###  *Exercise*\n",
    "\n",
    "> Use the CTD data set from the previous example and compare two sets of temperature data: the temperature and the potential temperature. They are related but different measures, but they have similar values that we'd like to compare. Plot both of them vs. depth, making sure that you distinguish the two lines, label your plot appropriately, and use a legend.\n",
    "\n",
    "---"
   ]
  },
  {
   "cell_type": "code",
   "execution_count": null,
   "metadata": {
    "collapsed": false
   },
   "outputs": [],
   "source": []
  },
  {
   "cell_type": "markdown",
   "metadata": {},
   "source": [
    "![Sample Pic](http://stsdas.stsci.edu/download/mdroe/plotting-2015/_images/entry15.png)\n",
    "http://stsdas.stsci.edu/download/mdroe/plotting-2015/entry15/index.html"
   ]
  },
  {
   "cell_type": "markdown",
   "metadata": {},
   "source": [
    "### Get current plot\n",
    "\n",
    "These can be used if you didn't properly set up your figure in the first place and want to be able to reference the current plot.\n",
    "\n",
    "[`plt.gca()`](http://matplotlib.org/api/pyplot_api.html#matplotlib.pyplot.gca): Gets the current Axes instance.\n",
    "\n",
    "[`plt.gcf()`](http://matplotlib.org/api/pyplot_api.html#matplotlib.pyplot.gcf): Gets the current Figure instance."
   ]
  },
  {
   "cell_type": "markdown",
   "metadata": {},
   "source": [
    "### Labels with math\n",
    "\n",
    "Sometimes we want to be able to use $\\LaTeX$ to write math in axis labels, especially for units. We can do this in matplotlib! We just have to use proper $\\LaTeX$ notation for writing the math, and put an 'r' in front of the string, though often the 'r' doesn't appear to be needed."
   ]
  },
  {
   "cell_type": "code",
   "execution_count": null,
   "metadata": {
    "collapsed": false
   },
   "outputs": [],
   "source": [
    "fig = plt.figure(figsize=(2, 1))\n",
    "ax = fig.add_subplot(111)\n",
    "ax.set_xlabel('Speed [m s$^{-1}$]')\n",
    "ax.set_ylabel('Volume [m$^{3}$]')"
   ]
  },
  {
   "cell_type": "markdown",
   "metadata": {},
   "source": [
    "### [savefig](http://matplotlib.org/api/pyplot_api.html#matplotlib.pyplot.savefig)\n",
    "\n",
    "`fig.savefig(fname, dpi=None, bbox_inches='tight')`\n",
    "\n",
    "This is how you can save the figure that you have made. Input a file name with file extension you want, fname,  and the dots per inch if you want something higher than the default. `bbox_inches='tight'` trims the white space around the figure; alternatively a number can be input to pad the figure if it cuts too close, but the 'tight' option works most of the time."
   ]
  },
  {
   "cell_type": "markdown",
   "metadata": {},
   "source": [
    "### *Good design principles*\n",
    "\n",
    "We all need to spend a bit of extra time to make really good plots instead of just-ok plots. This is worth the time because of how much clearer the result can be, which improves clarity, understanding, and communication.\n",
    "\n",
    "[Edward Tufte](http://www.edwardtufte.com/tufte/) has books about how to think about design principles. A fundamental part of his thinking is to show the data without extra junk that doesn't add to the plot — he calls this extra plotting stuff \"chartjunk\". For example, if you have a plot with gridlines, make sure the gridlines are visible but not dominating the actual data.\n",
    "\n",
    "Some guidelines to follow:\n",
    "* Always label all axes, with units if appropriate;\n",
    "* Make all text large enough to be easily seen by whatever type of viewer will be seeing your image — fontsize needs to be larger for a presentation than for a paper — this includes the ticklabels!;\n",
    "* Make all lines thick enough to be easily seen;\n",
    "* Make all lines/markers distinct in both color and line/marker style so that the legend is correct even in grayscale;\n",
    "* Use colors that are complementary! The default choices aren't usually so pretty (though `matplotlib` is having a style defaults update soon);\n",
    "* Don't forget to pay attention to edge lines on markers and bars, the font style, and other details;\n",
    "* You can update your own defaults with the [matplotlibrc file](http://matplotlib.org/users/customizing.html) or you can use other people's, like from the [seaborn](http://stanford.edu/~mwaskom/software/seaborn/) (statistical data visualization) package:\n",
    "\n",
    "![Seaborn Example](http://stanford.edu/~mwaskom/software/seaborn/_images/hexbin_marginals.png)\n",
    "http://stanford.edu/~mwaskom/software/seaborn/examples/hexbin_marginals.html\n"
   ]
  },
  {
   "cell_type": "code",
   "execution_count": null,
   "metadata": {
    "collapsed": false
   },
   "outputs": [],
   "source": [
    "x = np.linspace(0, 10)\n",
    "\n",
    "fig = plt.figure(figsize=(12, 6))\n",
    "ax1 = fig.add_subplot(1, 2, 1)\n",
    "ax1.plot(x, x, x, x**2)\n",
    "ax1.grid(True, color='r', linestyle='-', linewidth=2)\n",
    "ax1.set_title('Where is the data?\\nHow would this look in black and white?')\n",
    "ax1.legend(('x=x', 'x=x$^2$'))\n",
    "\n",
    "ax2 = fig.add_subplot(1, 2, 2)\n",
    "ax2.plot(x, x, '0.3', linewidth=3)\n",
    "ax2.plot(x, x**2, '0.6', linewidth=4, linestyle='--')\n",
    "ax2.grid(True, color='k', linestyle=':', linewidth=0.25)\n",
    "ax2.set_title('Data displayed prominantly and clearly', fontsize=14)\n",
    "ax2.set_xlabel('xlabel [units]', fontsize=14)\n",
    "ax2.set_ylabel('ylabel [units]', fontsize=14)\n",
    "plt.xticks(fontsize=14);\n",
    "plt.yticks(fontsize=14);\n",
    "ax2.legend(('x=x', 'x=x$^2$'), loc='best')"
   ]
  },
  {
   "cell_type": "markdown",
   "metadata": {},
   "source": [
    "---\n",
    "### *Exercise*\n",
    "\n",
    "> Go back to the plots you've worked on and look at them again — what can you improve to make the plot more clear?\n",
    "\n",
    "---"
   ]
  },
  {
   "cell_type": "markdown",
   "metadata": {},
   "source": [
    "# C. Histogram\n",
    "\n",
    "A histogram shows how many instances of data are in a particular bin in your data set. This is more of a mathematical thing, but it doesn't mean much without a plot.\n",
    "\n",
    "We are using the matplotlib `hist` function, but note that there are several options available for 1D or 2D analysis, and depending on how much control you want (`hist2d`, `histogram`, `histogram2d`, `histogramdd`)."
   ]
  },
  {
   "cell_type": "code",
   "execution_count": null,
   "metadata": {
    "collapsed": false
   },
   "outputs": [],
   "source": [
    "import scipy.stats\n",
    "\n",
    "rv = scipy.stats.cosine.rvs(size=1000)\n",
    "\n",
    "fig = plt.figure(figsize=(12,6))\n",
    "ax1 = fig.add_subplot(1, 2, 1)\n",
    "ax1.hist(rv, bins=10)\n",
    "ax1.set_xlabel('PDF')\n",
    "ax1.set_ylabel('Number of data points')\n",
    "\n",
    "ax2 = fig.add_subplot(1, 2, 2)\n",
    "ax2.hist(rv, bins=10, color='darkcyan', lw=0.1)\n",
    "ax2.set_xlabel('PDF', fontsize=14)\n",
    "ax2.set_ylabel('Number of data points', fontsize=14)\n",
    "plt.xticks(fontsize=14);\n",
    "plt.yticks(fontsize=14);\n",
    "ax2.set_title('A little bit of extra work\\ncan make your plot look much nicer...', fontsize=14)\n"
   ]
  },
  {
   "cell_type": "markdown",
   "metadata": {},
   "source": [
    "---\n",
    "### *Exercise*\n",
    "\n",
    "> Make two axes in a figure and compare two different distributions. (Use tab completion to see what options are available.) \n",
    "\n",
    "> What happens if the size of the random variable vector is very small? Large? How does this relate to the `bins` keyword argument in the histogram plotting function?\n",
    "\n",
    "---"
   ]
  },
  {
   "cell_type": "code",
   "execution_count": null,
   "metadata": {
    "collapsed": true
   },
   "outputs": [],
   "source": []
  },
  {
   "cell_type": "markdown",
   "metadata": {},
   "source": [
    "# D. 2D plots\n",
    "\n",
    "A fundamental part of 2 dimensional plots is how to iput the (x, y) coordinates, and this mainly depends on whether we have *structured* or *unstructured* data. A 2D array of values that correspond to (x,y) points that increase monotonically is structured. Unstructured data cannot be easily put into an array because the corresponding (x,y) points do not need to be consistent in each dimension. \n",
    "\n",
    "The function `scatter` can be used to plot unstructured data whereas `pcolor`/`pcolormesh` and `contour`/`contourf` required structured data. The following examples illustrate these differences."
   ]
  },
  {
   "cell_type": "markdown",
   "metadata": {},
   "source": [
    "## scatter\n",
    "\n",
    "Scatter plots are good for plotting x, y, z triplets when they are in triplet form (lists of x, y, z, coordinates) which may be randomly ordered, instead of ordered arrays. In fact, you may use 4 sets of data as well (e.g., x, y, z, t).\n",
    "\n",
    "We can really capture 4 sets of information together in a `scatter` plot:\n",
    "\n",
    "* x vs. y with markers (just like we can do with `plot`)\n",
    "* x vs y with marker color representing z\n",
    "* x v. y with marker color and marker size representing two more sets of data"
   ]
  },
  {
   "cell_type": "code",
   "execution_count": null,
   "metadata": {
    "collapsed": false
   },
   "outputs": [],
   "source": [
    "# from http://matplotlib.org/examples/shapes_and_collections/scatter_demo.html\n",
    "N = 50\n",
    "x = np.random.rand(N)\n",
    "y = np.random.rand(N)\n",
    "colors = np.random.rand(N)\n",
    "area = np.pi * (15 * np.random.rand(N))**2  # 0 to 15 point radiuses\n",
    "\n",
    "fig, axes = plt.subplots(1, 3, sharey=True, figsize=(14,6))\n",
    "axes[0].scatter(x, y, s=100, alpha=0.5)\n",
    "axes[0].set_title('2 dimensions of data:\\nJust like plot')\n",
    "axes[1].scatter(x, y, s=100, c=colors, alpha=0.5)\n",
    "axes[1].set_title('3 dimensions of data')\n",
    "axes[2].scatter(x, y, s=area, c=colors, alpha=0.5)\n",
    "axes[2].set_title('4 dimensions of data')\n"
   ]
  },
  {
   "cell_type": "markdown",
   "metadata": {},
   "source": [
    "## `quiver(x, y, u, v)`\n",
    "\n",
    "The quiver command allows us to plot arrows. Typically they are used to show the direction of flow. They can be pretty difficult to work with because of the necessary number of available parameters you can tweak, but they are very useful for showing movement from your data."
   ]
  },
  {
   "cell_type": "code",
   "execution_count": null,
   "metadata": {
    "collapsed": false
   },
   "outputs": [],
   "source": [
    "# http://matplotlib.org/examples/pylab_examples/quiver_demo.html\n",
    "X, Y = np.meshgrid(np.arange(0, 2 * np.pi, .2), np.arange(0, 2 * np.pi, .2))\n",
    "U = np.cos(X)\n",
    "V = np.sin(Y)\n",
    "\n",
    "fig = plt.figure()\n",
    "ax = fig.add_subplot(111)\n",
    "Q = ax.quiver(X, Y, U, V)\n",
    "qk = ax.quiverkey(Q, 0.5, 0.92, 2, r'$2 \\frac{m}{s}$', labelpos='W', fontproperties={'weight': 'bold'})\n"
   ]
  },
  {
   "cell_type": "markdown",
   "metadata": {},
   "source": [
    "## `pcolor/pcolormesh(X, Y, C, cmap=colormap, vmin=data_min, vmax=data_max)`\n",
    "\n",
    "`pcolor` and `pcolormesh` are very similar and plot arrays. `X` and `Y` are coordinate locations of the data array `C`. The `cmap` keyword argument will take in a colormap instance (some strings are allowed here too), and `vmin`, `vmax` set the minimum and maximum values represented in the plot.\n",
    "\n",
    "A few notes:\n",
    "* The `X` and `Y` locations associated with the `C` values are assumed to be at the corners of the block of information represented by an element in `C`; so `X` and `Y` should have one more element in both the x and y directions.\n",
    " - if `X` and `Y` are given with the same shape as `C`, the final row and column in `C` will be ignored.\n",
    "* `pcolormesh` is an alternative to `pcolor` that is much faster due to the differences in their basic setup — basically we can just always use `pcolormesh` and not worry about the differences.\n",
    "* These functions cannot have an element with `np.nan` — but `contourf` can. Masked arrays are fine."
   ]
  },
  {
   "cell_type": "markdown",
   "metadata": {},
   "source": [
    "> John Hunter wrote `matplotlib` originally and passed away suddenly in 2012. He was [memorialized](https://mail.scipy.org/pipermail/ipython-dev/2012-August/010135.html) online by his friend Fernando Perez, author of iPython and head of the Jupyter project.\n",
    "\n",
    "> In his honor, we will use a photo of the man himself to learn about some `matplotlib` functions, take from the [front page](http://matplotlib.org/) of `matplotlib`. We have simplified the photo to be grayscale; that is, the intensity of the color is represented by a combination of the previous 3D colorspace as a number between 0 and 1. We have simplified the photo to be grayscale; that is, the intensity of the color is represented by a combination of the previous 3D colorspace as a number between 0 and 1.\n",
    "\n",
    "![John Hunter](http://matplotlib.org/_static/John-hunter-crop-2.jpg)"
   ]
  },
  {
   "cell_type": "code",
   "execution_count": null,
   "metadata": {
    "collapsed": false
   },
   "outputs": [],
   "source": [
    "# Using an image of John Hunter, the original author of matplotlib\n",
    "john = plt.imread('../data/john_hunter_bw.png')[::-1,:,0]  # flipped to counter typical image reading direction and only need\n",
    "                                                 # one plane of data for grayscale\n",
    "\n",
    "# Create x and y matrices to go with image\n",
    "x = np.arange(john.shape[1])\n",
    "y = np.arange(john.shape[0])\n",
    "X, Y = np.meshgrid(x, y)\n",
    "\n",
    "# Create x and y matrices (larger size) to go with image\n",
    "x = np.arange(john.shape[1]+1)\n",
    "y = np.arange(john.shape[0]+1)\n",
    "Xp1, Yp1 = np.meshgrid(x, y)\n",
    "\n",
    "fig = plt.figure(figsize=(20,8))\n",
    "ax = fig.add_subplot(1, 2, 1)\n",
    "ax.pcolormesh(X, Y, john, cmap='gray')  # use the gray colormap to look more realistic\n",
    "ax.axis([Xp1.min(), Xp1.max(), Yp1.min(), Yp1.max()])\n",
    "ax.set_title('Using X, Y arrays', fontsize=20)\n",
    "\n",
    "ax2 = fig.add_subplot(1, 2, 2)\n",
    "ax2.pcolormesh(Xp1, Yp1, john, cmap='gray')  # use the gray colormap to look more realistic\n",
    "ax2.axis([Xp1.min(), Xp1.max(), Yp1.min(), Yp1.max()])\n",
    "ax2.set_title('Using Xp1, Yp1 arrays', fontsize=20)\n"
   ]
  },
  {
   "cell_type": "markdown",
   "metadata": {},
   "source": [
    "#### *Why is there a blank column at the far right side of the first image and blank row at the top?*"
   ]
  },
  {
   "cell_type": "markdown",
   "metadata": {},
   "source": [
    "## `contour/contourf(X, Y, Z, N, V, colors, cmap, levels)`\n",
    "\n",
    "The setup for `contour` and `contourf` are similar: both take in structured x, y arrays with Z information to plot in two dimensions. However, while `pcolor` plots boxes of data, `contourf` groups together similarly-sized data for plotting. `contour` plots isolines, which have equal values along the lines (like contours on a terrain map). Also, `contour` and `contourf` assume that the input x, y locations give the location of the datapoint itself, as opposed to the edges of a box in `pcolor`.\n",
    "\n",
    "Some useful optional inputs include N, the number of bins of data to use (default 10); V, a sequence of values at which to plot; colors, a string or tuple of color inputs to use for the contours; cmap, a colormap instance to use instead of the colors; and levels, where you can specify the actual levels to use in the contours. There is an option to input `vmin` and `vmax` like in `pcolor` but this typically doesn't work as intended — it's better to use `levels` instead.\n",
    "\n",
    "Note that you can also use `contour` in conjunction with `cslabel` to label in the plot the value of the contours."
   ]
  },
  {
   "cell_type": "code",
   "execution_count": null,
   "metadata": {
    "collapsed": false
   },
   "outputs": [],
   "source": [
    "fig = plt.figure(figsize=(20,8))\n",
    "ax = fig.add_subplot(1, 2, 1)\n",
    "ax.contour(X, Y, john, cmap='gray')  # use the gray colormap to look more realistic\n",
    "ax.set_xticks([])  # turn off ticks since they don't help us here\n",
    "ax.set_yticks([])\n",
    "ax.set_title('contour', fontsize=20)\n",
    "\n",
    "ax2 = fig.add_subplot(1, 2, 2)\n",
    "ax2.contourf(X, Y, john, cmap='gray')  # use the gray colormap to look more realistic\n",
    "ax2.set_xticks([])  # turn off ticks since they don't help us here\n",
    "ax2.set_yticks([])\n",
    "ax2.set_title('contourf', fontsize=20)\n"
   ]
  },
  {
   "cell_type": "markdown",
   "metadata": {},
   "source": [
    "---\n",
    "### *Exercise*\n",
    "\n",
    "> What happens as you increase the number of contours used in the `contourf` plot of John? Also, try inputting different sequences of contour values to plot (the `V` keyword argument).\n",
    "\n",
    "> Can you layer `contour` lines over `contourf` plots?\n",
    "\n",
    "---"
   ]
  },
  {
   "cell_type": "code",
   "execution_count": null,
   "metadata": {
    "collapsed": true
   },
   "outputs": [],
   "source": []
  },
  {
   "cell_type": "markdown",
   "metadata": {},
   "source": [
    "## colorbar\n",
    "\n",
    "When you plot multiple subplots that have the same colormap, you need to individually set them up to properly show the range of colors in the colorbar.\n",
    "\n",
    "- For `pcolor/pcolormesh` this mean setting the `vmin/vmax` for each subplot to the same values.\n",
    "- For `contourf` this means setting the `levels` attributes to be the same for all subplots.\n",
    "\n",
    "Then you need to give the colorbar call a `mappable` instance to know what range of colors to provide. You can get a `mappable` instance by setting the call to `pcolor/pcolormesh/contourf` to a variable."
   ]
  },
  {
   "cell_type": "code",
   "execution_count": null,
   "metadata": {
    "collapsed": false
   },
   "outputs": [],
   "source": [
    "Z = np.random.rand(5, 10)\n",
    "\n",
    "fig = plt.figure(figsize=(10,8))\n",
    "ax1 = fig.add_subplot(2, 3, 1)\n",
    "ax1.pcolormesh(Z, cmap='viridis')\n",
    "ax1.set_ylabel('This row is incorrect', fontsize=16)\n",
    "\n",
    "ax2 = fig.add_subplot(2, 3, 2)\n",
    "ax2.pcolormesh(Z*2, cmap='viridis')\n",
    "\n",
    "ax3 = fig.add_subplot(2, 3, 3)\n",
    "mappable = ax3.pcolormesh(Z*5, cmap='viridis')  # we choose some pcolormesh call to set the mappable variable\n",
    "\n",
    "fig.colorbar(mappable)\n",
    "\n",
    "# for this row of plots, we will set the max and min data values properly\n",
    "dmin = Z.min()  # min over the three plots\n",
    "dmax = (Z*5).max()  # max over the three plots\n",
    "\n",
    "ax4 = fig.add_subplot(2, 3, 4)\n",
    "ax4.pcolormesh(Z, cmap='viridis', vmin=dmin, vmax=dmax)\n",
    "ax4.set_ylabel('This row is correct', fontsize=16)\n",
    "\n",
    "ax5 = fig.add_subplot(2, 3, 5)\n",
    "mappable = ax5.pcolormesh(Z*2, cmap='viridis', vmin=dmin, vmax=dmax)\n",
    "\n",
    "ax6 = fig.add_subplot(2, 3, 6)\n",
    "ax6.pcolormesh(Z*5, cmap='viridis', vmin=dmin, vmax=dmax)\n",
    "\n",
    "fig.colorbar(mappable)"
   ]
  },
  {
   "cell_type": "markdown",
   "metadata": {},
   "source": [
    "***Why are these two rows different, even though the same things are being plotted?***"
   ]
  },
  {
   "cell_type": "markdown",
   "metadata": {},
   "source": [
    "## Colormaps"
   ]
  },
  {
   "cell_type": "code",
   "execution_count": null,
   "metadata": {
    "collapsed": false
   },
   "outputs": [],
   "source": [
    "import matplotlib.cm as cm\n",
    "\n",
    "fig, axes = plt.subplots(2, 4, figsize=(16,8))\n",
    "\n",
    "# Colormap experiments with a familiar face\n",
    "axes[0][0].pcolormesh(john, cmap='viridis')\n",
    "axes[0][1].pcolormesh(john, cmap=cm.jet)\n",
    "axes[0][2].pcolormesh(john, cmap=cm.BrBG)\n",
    "axes[0][3].pcolormesh(john, cmap=cm.gray)\n",
    "\n",
    "# Colormap experiments with data centered around 0\n",
    "Z = np.random.normal(size=(20, 30))  # gives us normally-distributed values between -1 and 1\n",
    "Zmax = abs(Z).max()  # find the overall maximum deviation from 0\n",
    "\n",
    "mappable = axes[1][0].pcolormesh(Z, cmap=cm.viridis, vmin=-Zmax, vmax=Zmax)\n",
    "plt.colorbar(mappable, ax=axes[1,0])\n",
    "mappable = axes[1][1].pcolormesh(Z, cmap=cm.jet, vmin=-Zmax, vmax=Zmax)\n",
    "plt.colorbar(mappable, ax=axes[1,1])\n",
    "mappable = axes[1][2].pcolormesh(Z, cmap=cm.BrBG, vmin=-Zmax, vmax=Zmax)\n",
    "plt.colorbar(mappable, ax=axes[1,2])\n",
    "mappable = axes[1][3].pcolormesh(Z, cmap=cm.gray, vmin=-Zmax, vmax=Zmax)\n",
    "plt.colorbar(mappable, ax=axes[1,3])\n",
    "\n",
    "for ax in axes.flat:  # turn off ticks and ticklabels\n",
    "    ax.set_yticks([])\n",
    "    ax.set_xticks([])"
   ]
  },
  {
   "cell_type": "markdown",
   "metadata": {},
   "source": [
    "***Which colormap is better for the top row? What about the bottom row? Why are there differences in which is better?***"
   ]
  },
  {
   "cell_type": "markdown",
   "metadata": {},
   "source": [
    "### Good colormaps to use:\n",
    "\n",
    "#### Use for sequential data (no 0 or critical value):\n",
    "\n",
    "Both of these sets are ok, though the first have better perceptual properties.\n",
    "\n",
    "![](http://matplotlib.org/_images/colormaps_reference_00.png)\n",
    "![](http://matplotlib.org/_images/colormaps_reference_01.png)\n",
    "\n",
    "#### Use for diverging data (data that diverges away from a critical value, often 0):\n",
    "\n",
    "![](http://matplotlib.org/_images/colormaps_reference_03.png)\n",
    "http://matplotlib.org/examples/color/colormaps_reference.html\n",
    "\n",
    "Reference:\n",
    "http://matplotlib.org/users/colormaps.html\n",
    "\n",
    "####  `cmocean`\n",
    "\n",
    "I have a set of colormaps available through [`matplotlib`](http://matplotlib.org/cmocean/) and a [paper](http://tos.org/oceanography/assets/docs/29-3_thyng.pdf) about how to choose good colormaps. I'll expect you to make good choices for your colormaps — this means choosing a sequential colormap for sequential data, and diverging for diverging data. Since we know from science that the `jet` rainbow colormap is generally not a good way to represent your data, choose something else to use.\n",
    "\n",
    "![](http://matplotlib.org/cmocean/_images/index-1.png)\n"
   ]
  },
  {
   "cell_type": "code",
   "execution_count": null,
   "metadata": {
    "collapsed": false
   },
   "outputs": [],
   "source": [
    "import cmocean.cm as cmo  # this is an easy way to access the colormaps, using cmo.haline, for example\n",
    "\n",
    "X = np.random.randn(10, 15)\n",
    "\n",
    "plt.pcolormesh(X, cmap=cmo.thermal)"
   ]
  },
  {
   "cell_type": "markdown",
   "metadata": {},
   "source": [
    "# E. Advanced\n",
    "\n",
    "## Animations\n",
    "\n",
    "The `animation` package is included with matplotlib, and can be used to animate individual plots together. An example of this is shown below. Note that some extra lines are necessary because we are in a Jupyter notebook.\n",
    "\n",
    "I have generally found it more flexible to save individual `png` files and then connect them with the program `ffmpeg`, which is easily available on all operating systems (though is not always straight-forward to use...)."
   ]
  },
  {
   "cell_type": "code",
   "execution_count": null,
   "metadata": {
    "collapsed": false
   },
   "outputs": [],
   "source": [
    "import matplotlib.animation as animation\n",
    "from IPython.display import HTML  # this is needed because we are using a Jupyter notebook\n",
    "\n",
    "fig, ax = plt.subplots()\n",
    "\n",
    "x = np.arange(0, 2*np.pi, 0.01)\n",
    "line, = ax.plot(x, np.sin(x))\n",
    "\n",
    "\n",
    "def animate(i):\n",
    "    line.set_ydata(np.sin(x + i/10.0))  # update the data\n",
    "    return line,\n",
    "\n",
    "\n",
    "# Init only required for blitting to give a clean slate.\n",
    "def init():\n",
    "    line.set_ydata(np.ma.array(x, mask=True))\n",
    "    return line,\n",
    "\n",
    "ani = animation.FuncAnimation(fig, animate, np.arange(1, 200), init_func=init,\n",
    "                              interval=25, blit=True)\n",
    "\n",
    "HTML(ani.to_html5_video())  # this is needed because we are using a Jupyter notebook"
   ]
  },
  {
   "cell_type": "markdown",
   "metadata": {},
   "source": [
    "## Define your own axes\n",
    "\n",
    "### Overlaid axes\n",
    "![](http://matplotlib.org/_images/demo_axes_hbox_divider.png)\n",
    "http://matplotlib.org/examples/axes_grid/demo_axes_hbox_divider.html\n",
    "\n",
    "### Complementary axes\n",
    "\n",
    "![](http://matplotlib.org/_images/scatter_hist1.png)\n",
    "http://matplotlib.org/examples/pylab_examples/scatter_hist.html"
   ]
  },
  {
   "cell_type": "markdown",
   "metadata": {},
   "source": [
    "## Complex tiling: `axes_grid1`\n",
    "\n",
    "![Example 1](http://matplotlib.org/_images/demo_axes_rgb_00.png)\n",
    "http://matplotlib.org/examples/axes_grid/demo_axes_rgb.html\n",
    "\n",
    "![Example 2](http://matplotlib.org/_images/simple_axesgrid2.png)\n",
    "http://matplotlib.org/examples/axes_grid/simple_axesgrid2.html"
   ]
  },
  {
   "cell_type": "markdown",
   "metadata": {},
   "source": [
    "## Magnification: `inset_axes`\n",
    "\n",
    "![Example of inset_axes](http://matplotlib.org/_images/inset_locator_demo2.png)\n",
    "\n",
    "http://matplotlib.org/examples/axes_grid/inset_locator_demo2.html"
   ]
  },
  {
   "cell_type": "markdown",
   "metadata": {},
   "source": [
    "# F. Other plotting packages\n",
    "\n",
    "Note that there are many other plotting packages to explore. Here is a brief list:\n",
    "\n",
    "* 3D (in matplotlib)\n",
    "* Bokeh\n",
    "* mpl3d\n",
    "* mayavi"
   ]
  },
  {
   "cell_type": "markdown",
   "metadata": {},
   "source": [
    "# Bonus!\n",
    "\n",
    "Matplotlib, good colormaps, and strong design principles were used in a 2015 LIGO paper!\n",
    "\n",
    "![LIGO paper](https://pbs.twimg.com/media/Ca8jlVIWcAUmeP8.png:large)"
   ]
  }
 ],
 "metadata": {
  "kernelspec": {
   "display_name": "Python [default]",
   "language": "python",
   "name": "python3"
  },
  "language_info": {
   "codemirror_mode": {
    "name": "ipython",
    "version": 3
   },
   "file_extension": ".py",
   "mimetype": "text/x-python",
   "name": "python",
   "nbconvert_exporter": "python",
   "pygments_lexer": "ipython3",
   "version": "3.5.2"
  }
 },
 "nbformat": 4,
 "nbformat_minor": 0
}
