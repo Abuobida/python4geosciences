{
 "cells": [
  {
   "cell_type": "markdown",
   "metadata": {},
   "source": [
    "# Numpy"
   ]
  },
  {
   "cell_type": "code",
   "execution_count": null,
   "metadata": {
    "collapsed": true
   },
   "outputs": [],
   "source": [
    "import numpy as np"
   ]
  },
  {
   "cell_type": "markdown",
   "metadata": {},
   "source": [
    "The core of the `numpy` package is the `array` class. Let's examine that first. We can make an array out of a sequence, like a list."
   ]
  },
  {
   "cell_type": "code",
   "execution_count": null,
   "metadata": {
    "collapsed": false
   },
   "outputs": [],
   "source": [
    "d = [1, 2, 3, 4, 5]\n",
    "np.array(d)"
   ]
  },
  {
   "cell_type": "markdown",
   "metadata": {},
   "source": [
    "### data types\n",
    "\n",
    "Unlike lists, arrays must be homogeneous, in that the data types of each element must be the same. The data type of the array is upcast to be able to represent all of the data. So, if only one element is a float, all elements will be converted to floats."
   ]
  },
  {
   "cell_type": "code",
   "execution_count": null,
   "metadata": {
    "collapsed": false
   },
   "outputs": [],
   "source": [
    "d = [1, 2, 3.1415, 4, 5]\n",
    "np.array(d)"
   ]
  },
  {
   "cell_type": "markdown",
   "metadata": {},
   "source": [
    "You can query the datatype by examining the `dtype` attribute of the array."
   ]
  },
  {
   "cell_type": "code",
   "execution_count": null,
   "metadata": {
    "collapsed": false
   },
   "outputs": [],
   "source": [
    "d = [1, 2, 3.1415, 4, 5]\n",
    "arr = np.array(d)\n",
    "arr.dtype"
   ]
  },
  {
   "cell_type": "markdown",
   "metadata": {},
   "source": [
    "Array types may be defined explicity in the call"
   ]
  },
  {
   "cell_type": "code",
   "execution_count": null,
   "metadata": {
    "collapsed": false
   },
   "outputs": [],
   "source": [
    "arr = np.array([1, 2, 3, 4, 5], dtype='float32')\n",
    "arr"
   ]
  },
  {
   "cell_type": "markdown",
   "metadata": {},
   "source": [
    "Complex numbers are noted with a lowercase `j` or uppercase `J`, like this"
   ]
  },
  {
   "cell_type": "code",
   "execution_count": null,
   "metadata": {
    "collapsed": false
   },
   "outputs": [],
   "source": [
    "cmplx = np.array([1.0+2.0j, 3.0+4.0J])\n",
    "print(cmplx)\n",
    "cmplx.dtype"
   ]
  },
  {
   "cell_type": "markdown",
   "metadata": {},
   "source": [
    "As we have seen before, arrays are like multidimensional sequences. We can create a 2D array by supplying a list of lists as the argument."
   ]
  },
  {
   "cell_type": "code",
   "execution_count": null,
   "metadata": {
    "collapsed": false
   },
   "outputs": [],
   "source": [
    "arr = np.array([[1., 2., 3.,], [4., 5., 6.]])\n",
    "arr"
   ]
  },
  {
   "cell_type": "markdown",
   "metadata": {},
   "source": [
    "### Array attributes\n",
    "\n",
    "Arrays have a few other important attributes. Note attributes never have paretheses after them. Methods always do."
   ]
  },
  {
   "cell_type": "code",
   "execution_count": null,
   "metadata": {
    "collapsed": false
   },
   "outputs": [],
   "source": [
    "arr.size          # The number of elements in the array"
   ]
  },
  {
   "cell_type": "code",
   "execution_count": null,
   "metadata": {
    "collapsed": false
   },
   "outputs": [],
   "source": [
    "arr.shape         # The shape of the array (i.e., the size of each dimension)"
   ]
  },
  {
   "cell_type": "code",
   "execution_count": null,
   "metadata": {
    "collapsed": false
   },
   "outputs": [],
   "source": [
    "arr.ndim          # The number of dimensions of the array"
   ]
  },
  {
   "cell_type": "markdown",
   "metadata": {},
   "source": [
    "### Setting array shape\n",
    "\n",
    "You can set the `array.shape` attribute to change the shape of the array. This attribute does not change the elements of the array, or how it is stored in memory, just how it is seen."
   ]
  },
  {
   "cell_type": "code",
   "execution_count": null,
   "metadata": {
    "collapsed": false
   },
   "outputs": [],
   "source": [
    "arr.shape = (3, 2)\n",
    "arr"
   ]
  },
  {
   "cell_type": "code",
   "execution_count": null,
   "metadata": {
    "collapsed": false
   },
   "outputs": [],
   "source": [
    "arr.shape = (6,)\n",
    "arr"
   ]
  },
  {
   "cell_type": "markdown",
   "metadata": {},
   "source": [
    "Singleton dimensions add to the dimensionality of an array. The last example was a 1D array, the next are 2D arrays."
   ]
  },
  {
   "cell_type": "code",
   "execution_count": null,
   "metadata": {
    "collapsed": false
   },
   "outputs": [],
   "source": [
    "arr.shape = (1, 6)\n",
    "arr   # Note that there are *two* square brackets in the output sequence."
   ]
  },
  {
   "cell_type": "code",
   "execution_count": null,
   "metadata": {
    "collapsed": false
   },
   "outputs": [],
   "source": [
    "arr.shape = (6, 1)\n",
    "arr   # this is also a 2D array, like a column vector"
   ]
  },
  {
   "cell_type": "markdown",
   "metadata": {},
   "source": [
    "## Array indexing\n",
    "\n",
    "Arrays are indexed in a similar way to sequences, with `start:stop:stride` notation, except that this is used for each dimension in the array. Colons denote all the values in a particular dimension, slices indicate some particular subset of the data in that particular dimension. \n",
    "\n",
    "A common use case is to get a single row or column from a 2D array (a table of data)."
   ]
  },
  {
   "cell_type": "code",
   "execution_count": null,
   "metadata": {
    "collapsed": false
   },
   "outputs": [],
   "source": [
    "arr = np.arange(60).reshape(6, 10)\n",
    "arr"
   ]
  },
  {
   "cell_type": "code",
   "execution_count": null,
   "metadata": {
    "collapsed": false
   },
   "outputs": [],
   "source": [
    "arr[:, 4]   # the 5th column"
   ]
  },
  {
   "cell_type": "code",
   "execution_count": null,
   "metadata": {
    "collapsed": false
   },
   "outputs": [],
   "source": [
    "arr[2, :]   # the 3rd row"
   ]
  },
  {
   "cell_type": "code",
   "execution_count": null,
   "metadata": {
    "collapsed": false
   },
   "outputs": [],
   "source": [
    "arr[2]     # Trailing colons do not need to be explicitly typed. This is equivalent to the last example."
   ]
  },
  {
   "cell_type": "code",
   "execution_count": null,
   "metadata": {
    "collapsed": false
   },
   "outputs": [],
   "source": [
    "arr[4, 7]   # an individual element in the table"
   ]
  },
  {
   "cell_type": "markdown",
   "metadata": {},
   "source": [
    "---\n",
    "### *Exercise*\n",
    "\n",
    "> Slices can be combined in any way. Define a new array or use array `arr` and grab out every other row and the 4th column and above.\n",
    "\n",
    "---"
   ]
  },
  {
   "cell_type": "code",
   "execution_count": null,
   "metadata": {
    "collapsed": true
   },
   "outputs": [],
   "source": []
  },
  {
   "cell_type": "markdown",
   "metadata": {},
   "source": [
    "### Conventions concerning arrays containing spatio-temporal information\n",
    "\n",
    "Generally, you will want to think of arrays as representing dimensions in space and time. The conventional way to think of this is that the dimensions are $(t, z, y, x)$; missing dimensions are omitted. This will help make plotting and analysis easier. Some examples might be:\n",
    "\n",
    "    temp[:, :, :, :]     # A 4D array (time, height, latitude, longitude)\n",
    "    press[:, :]          # A 2D array (time, height)\n",
    "    humid[:, :]          # A 2D array (latitude, longitude)"
   ]
  },
  {
   "cell_type": "markdown",
   "metadata": {},
   "source": [
    "## Array methods\n",
    "\n",
    "Arrays have a number of methods. Let's take a look at the `mean` method as an example. "
   ]
  },
  {
   "cell_type": "code",
   "execution_count": null,
   "metadata": {
    "collapsed": false
   },
   "outputs": [],
   "source": [
    "arr = np.array([[1., 2., 3.,], [4., 5., 6.]])  # reset the array to our 2x3 array.\n",
    "\n",
    "arr.mean()        # The mean of all of the elements in the array"
   ]
  },
  {
   "cell_type": "markdown",
   "metadata": {},
   "source": [
    "`Mean` takes the optional argument `axis` that can be used to take the mean along a single axis of the array. Just like with indexing, the axes are reference in a zero-based system; `axis=0` means the first dimension. "
   ]
  },
  {
   "cell_type": "code",
   "execution_count": null,
   "metadata": {
    "collapsed": false
   },
   "outputs": [],
   "source": [
    "arr.mean(axis=0)  # The mean "
   ]
  },
  {
   "cell_type": "markdown",
   "metadata": {},
   "source": [
    "In this case, there are two rows in the first dimension, and `arr.mean(axis=0)` takes the average in the 'row' direction, resulting in a 1D array that is the average of each column."
   ]
  },
  {
   "cell_type": "markdown",
   "metadata": {},
   "source": [
    "---\n",
    "### *Exercise*\n",
    "\n",
    "> Find the mean of the array in the 'column' direction, along `axis=1`.\n",
    "\n",
    "> Use the `sum` method of the array class to get the sum of the numbers in each column. The result should be a 1D array with three elements.\n",
    "\n",
    "---"
   ]
  },
  {
   "cell_type": "code",
   "execution_count": null,
   "metadata": {
    "collapsed": true
   },
   "outputs": [],
   "source": []
  },
  {
   "cell_type": "markdown",
   "metadata": {
    "collapsed": true
   },
   "source": [
    "You can also use the `reshape` method to change the shape of an array."
   ]
  },
  {
   "cell_type": "code",
   "execution_count": null,
   "metadata": {
    "collapsed": false
   },
   "outputs": [],
   "source": [
    "arr.reshape(3, 2)"
   ]
  },
  {
   "cell_type": "markdown",
   "metadata": {},
   "source": [
    "You can find the mininum and maximum of an array with the `min` and `max` methods. Sometimes it is useful to find the indices of these minima and maxima. For this use `argmin` and `argmax`, like"
   ]
  },
  {
   "cell_type": "code",
   "execution_count": null,
   "metadata": {
    "collapsed": false
   },
   "outputs": [],
   "source": [
    "x = np.random.rand(10)\n",
    "imax = x.argmax()\n",
    "print(imax, x[imax], x.max())"
   ]
  },
  {
   "cell_type": "markdown",
   "metadata": {
    "collapsed": true
   },
   "source": [
    "## Array views\n",
    "\n",
    "The data for an array may be stored in memory using `C` or `FORTRAN` ordered memory. Typically, there is no need to think about this, some details can be found [here](http://docs.scipy.org/doc/numpy-1.10.0/reference/internals.html).\n",
    "\n",
    "However, it is important to remember that subsets of an array can produce a different 'view' of the array that addresses the same memory as the original array. This can lead to some unexpected behaviors. One way to think of this is that assignment in Python is more like a C-pointer (i.e., a reference to a memory location) than an actual value."
   ]
  },
  {
   "cell_type": "code",
   "execution_count": null,
   "metadata": {
    "collapsed": false
   },
   "outputs": [],
   "source": [
    "a = np.arange(10.0)\n",
    "b = a[::2]\n",
    "print(a)\n",
    "print(b)"
   ]
  },
  {
   "cell_type": "code",
   "execution_count": null,
   "metadata": {
    "collapsed": false
   },
   "outputs": [],
   "source": [
    "a[4] = -999   # this will modify b as well...\n",
    "print(a)\n",
    "print(b)"
   ]
  },
  {
   "cell_type": "code",
   "execution_count": null,
   "metadata": {
    "collapsed": false
   },
   "outputs": [],
   "source": [
    "b[-1] = -888  # this will modify a as well...\n",
    "print(a)\n",
    "print(b)"
   ]
  },
  {
   "cell_type": "markdown",
   "metadata": {},
   "source": [
    "Normally, this will not be a problem, but if you need to make sure that a subset of an array has it's own memory, make sure you make a `copy` of the array, like"
   ]
  },
  {
   "cell_type": "code",
   "execution_count": null,
   "metadata": {
    "collapsed": false
   },
   "outputs": [],
   "source": [
    "a = np.arange(10.0)\n",
    "b = a.copy()[::2]     # or np.copy(a)\n",
    "a[4] = -999   # this will modify b as well...\n",
    "print(a)\n",
    "print(b)"
   ]
  },
  {
   "cell_type": "markdown",
   "metadata": {},
   "source": [
    "## Vectorization\n",
    "\n",
    "The best way to do mathematical operations using numpy arrays is to do `vector` operations. That is, mathematical operations are defined to be element by element, and this is done much faster than looping. As a rule of thumb, you should be very concerned if your code has more than one significant `for` loop in the numerical analysis section."
   ]
  },
  {
   "cell_type": "code",
   "execution_count": null,
   "metadata": {
    "collapsed": false
   },
   "outputs": [],
   "source": [
    "a = np.arange(1024.0).reshape(4, 8, 16, 2)   # a 4D array using sequential numbers\n",
    "b = np.random.rand(4, 8, 16, 2)              # a 4D array using random numbers\n",
    "\n",
    "sol = a * b       # element-by-element multiplication. This operation is about as fast as it can be on your computer."
   ]
  },
  {
   "cell_type": "markdown",
   "metadata": {},
   "source": [
    "### Ufuncs\n",
    "\n",
    "`Ufunc`s or Universal functions are ways to apply a function to every element in the array. Let's check [Euler's formula](https://en.wikipedia.org/wiki/Euler%27s_formula):\n",
    "\n",
    "$e^{ix} = \\cos(x) + i\\sin(x) $\n",
    "\n",
    "by using universal function `real` to see if the real part of the exponential really is equal to the real part of the right-hand side of the equation, $\\cos(x)$."
   ]
  },
  {
   "cell_type": "code",
   "execution_count": null,
   "metadata": {
    "collapsed": false
   },
   "outputs": [],
   "source": [
    "a = np.random.rand(3, 4, 5)  # create a random 3 x 4 x 5 array\n",
    "\n",
    "res1 = np.exp(1.0J*a).real    # The `real` attribute returns the real part of a complex number\n",
    "res2 = np.cos(a)\n",
    "\n",
    "np.allclose(res1, res2)       # Checks if all of the elements are close, within some small tolerance."
   ]
  },
  {
   "cell_type": "markdown",
   "metadata": {},
   "source": [
    "## Array broadcasting\n",
    "\n",
    "Arrays may be operated on using vector operations even if they are different sizes, however, they need to follow the rules of `array broadcasting`.  One way to think of this is that a larger dimension will be 'broadcast' across a singleton dimension. Generally, all of the dimensions need to be either the same size, or one of the dimension sizes for a particular dimension should be of size 1. Arrays always have as many 'singleton' dimensions to the left as needed.  For example, these arrays will all 'broadcast'\n",
    "\n",
    "      a: 5 x 7 x 1 x 8\n",
    "      b:             8\n",
    "      c:     7 x 3 x 8\n",
    "      d: 5 x 1 x 3 x 1\n",
    "    \n",
    "    sol: 5 x 7 x 3 x 8   \n",
    "\n",
    "Let's create these arrays with random numbers"
   ]
  },
  {
   "cell_type": "code",
   "execution_count": null,
   "metadata": {
    "collapsed": false
   },
   "outputs": [],
   "source": [
    "a = np.random.rand(5, 7, 1, 8)\n",
    "b = np.random.rand(8)\n",
    "c = np.random.rand(7, 3, 8)\n",
    "d = np.random.rand(5, 1, 3, 1)\n",
    "print(a.shape, b.shape, c.shape, d.shape)\n",
    "\n",
    "sol = a * b * c * d\n",
    "print(sol.shape)"
   ]
  },
  {
   "cell_type": "markdown",
   "metadata": {},
   "source": [
    "---\n",
    "### *Exercise*\n",
    "\n",
    "> Experiment with multiplying just two of the arrays together. Try to predict the resulting shape.\n",
    "\n",
    "---"
   ]
  },
  {
   "cell_type": "code",
   "execution_count": null,
   "metadata": {
    "collapsed": true
   },
   "outputs": [],
   "source": []
  },
  {
   "cell_type": "markdown",
   "metadata": {},
   "source": [
    "Array broadcasting sometimes requires creating new singleton dimensions in arrays. This can be done by putting `np.newaxis` in the appropriate space when indexing the array. For example"
   ]
  },
  {
   "cell_type": "code",
   "execution_count": null,
   "metadata": {
    "collapsed": false
   },
   "outputs": [],
   "source": [
    "x = np.arange(6)   # a 1D array. shape (6,)\n",
    "\n",
    "x1 = x[:, np.newaxis]   # 2D array, shape (6, 1)\n",
    "x2 = x[np.newaxis, :]   # 2D array, shape (1, 6)\n",
    "\n",
    "np.abs(x1 - x2)  # A 'distance' matrix, a 2D array, shape (6, 6)"
   ]
  },
  {
   "cell_type": "markdown",
   "metadata": {},
   "source": [
    "---\n",
    "### *Exercise*\n",
    "\n",
    "> Let's alter some of the previous arrays to instead have: `b = np.random.rand(8)` and `c = np.random.rand(8, 3, 7)`. What happens when you try to multiply these together? How can you fix it so it works?\n",
    "\n",
    "---"
   ]
  },
  {
   "cell_type": "code",
   "execution_count": null,
   "metadata": {
    "collapsed": false
   },
   "outputs": [],
   "source": []
  },
  {
   "cell_type": "markdown",
   "metadata": {},
   "source": [
    "## Combining and splitting arrays\n",
    "\n",
    "Generally, arrays can be combined with the `np.concatenate` function. The arguments are a sequence of arrays to join, and the axis along which to join them (default=0).\n",
    "\n",
    "There are a number of convenience functions that act like concatenate for specific axes:\n",
    "\n",
    " - `np.vstack` – vertical stack (stack along axis=0)\n",
    " - `np.hstack` – horizontal stack (stack along axis=1)\n",
    " - `np.dstack` – depth stack (stack along axis=2)\n",
    "\n"
   ]
  },
  {
   "cell_type": "code",
   "execution_count": null,
   "metadata": {
    "collapsed": false
   },
   "outputs": [],
   "source": [
    "x = np.random.rand(4, 5, 6)\n",
    "y = np.random.rand(4, 5, 6)\n",
    "\n",
    "print(np.concatenate((x, y)).shape)\n",
    "print()\n",
    "print(np.concatenate((x, y), axis=0).shape)\n",
    "print(np.concatenate((x, y), axis=1).shape)\n",
    "print(np.concatenate((x, y), axis=2).shape)\n",
    "print()\n",
    "print(np.vstack((x, y)).shape)\n",
    "print(np.hstack((x, y)).shape)\n",
    "print(np.dstack((x, y)).shape)"
   ]
  },
  {
   "cell_type": "markdown",
   "metadata": {},
   "source": [
    "Likewise, arrays can be split with `np.split` or `np.array_split`. There are also convenience functions to split horizontally, vertically, and with depth."
   ]
  },
  {
   "cell_type": "code",
   "execution_count": null,
   "metadata": {
    "collapsed": false
   },
   "outputs": [],
   "source": [
    "x = np.random.rand(12, 2, 5)\n",
    "np.split(x, 4, axis=0)[2].shape"
   ]
  },
  {
   "cell_type": "markdown",
   "metadata": {},
   "source": [
    "---\n",
    "### *Exercise*\n",
    "\n",
    "> Create a random array of shape (40, 50, 60). Split it along axis=1 five ways. Concatenate it along axis=2.\n",
    "\n",
    "> What is the resulting shape?  _[Advanced: can you calculate this on one line?]_\n",
    "\n",
    "---"
   ]
  },
  {
   "cell_type": "code",
   "execution_count": null,
   "metadata": {
    "collapsed": false
   },
   "outputs": [],
   "source": []
  },
  {
   "cell_type": "markdown",
   "metadata": {},
   "source": [
    "---\n",
    "### *Exercise*\n",
    "\n",
    "> Concatenate newly-defined arrays `b` and `c`: b = np.random.rand(8) and c = np.random.rand(8, 3). Which of the above functions (`hstack`, `vstack`, `dstack`) would make sense with the arrays dimensions? Do you need to make any changes to get this to work?\n",
    "\n",
    "---"
   ]
  },
  {
   "cell_type": "code",
   "execution_count": null,
   "metadata": {
    "collapsed": false
   },
   "outputs": [],
   "source": []
  },
  {
   "cell_type": "markdown",
   "metadata": {},
   "source": [
    "## Flattening arrays with `a.flat` and `a.flatten()`\n",
    "\n",
    "There are two basic ways to turn any array into a 1D array. They are slightly different.\n",
    "\n",
    "`a.flatten()` returns a copy of an array, in one dimension."
   ]
  },
  {
   "cell_type": "code",
   "execution_count": null,
   "metadata": {
    "collapsed": false
   },
   "outputs": [],
   "source": [
    "a = np.arange(12).reshape(3, 4)\n",
    "print(a)\n",
    "b = a.flatten()\n",
    "print(b)"
   ]
  },
  {
   "cell_type": "markdown",
   "metadata": {},
   "source": [
    "the `flat` attribute on the other hand gives a view of the array in 1D. It looks like an iterator object (like `range` and `zip`). This allows"
   ]
  },
  {
   "cell_type": "code",
   "execution_count": null,
   "metadata": {
    "collapsed": false
   },
   "outputs": [],
   "source": [
    "a.flat[6] = -999\n",
    "print(a)"
   ]
  },
  {
   "cell_type": "markdown",
   "metadata": {},
   "source": [
    "In contrast, this does not work as expected.  _WHY?_"
   ]
  },
  {
   "cell_type": "code",
   "execution_count": null,
   "metadata": {
    "collapsed": false
   },
   "outputs": [],
   "source": [
    "a.flatten()[5] = -888\n",
    "print(a)"
   ]
  },
  {
   "cell_type": "markdown",
   "metadata": {},
   "source": [
    "Other operations can be done to the array first. For example, we can take a transpose of the array before we flatten it."
   ]
  },
  {
   "cell_type": "code",
   "execution_count": null,
   "metadata": {
    "collapsed": false
   },
   "outputs": [],
   "source": [
    "a.T.flat[6] = -999\n",
    "print(a)"
   ]
  },
  {
   "cell_type": "markdown",
   "metadata": {},
   "source": [
    "Here, the `T` attribute (equivalent to the `a.transpose()` method) gives a view of the array transposed (similar to MATLAB's tick notation)."
   ]
  },
  {
   "cell_type": "code",
   "execution_count": null,
   "metadata": {
    "collapsed": false
   },
   "outputs": [],
   "source": [
    "print(a.T)"
   ]
  },
  {
   "cell_type": "markdown",
   "metadata": {},
   "source": [
    "## Creating standard arrays\n",
    "\n",
    "There are a few standard arrays, for example, arrays filled with zeros or ones (or empty). Here are some examples of creating arrays"
   ]
  },
  {
   "cell_type": "code",
   "execution_count": null,
   "metadata": {
    "collapsed": false
   },
   "outputs": [],
   "source": [
    "o = np.ones((3, 4, 5))    # The argument is a shape, so is a tuple with the length of each dimension as an argument\n",
    "b = np.ones((2, 3), dtype=np.bool)\n",
    "z = np.zeros((2, 3), dtype=np.float32)\n",
    "\n",
    "b"
   ]
  },
  {
   "cell_type": "markdown",
   "metadata": {},
   "source": [
    "You can also create these arrays with the same shape and datatype of the input array using `np.ones_like` and `np.zeros_like`."
   ]
  },
  {
   "cell_type": "code",
   "execution_count": null,
   "metadata": {
    "collapsed": false
   },
   "outputs": [],
   "source": [
    "zb = np.zeros_like(b)\n",
    "zb"
   ]
  },
  {
   "cell_type": "markdown",
   "metadata": {},
   "source": [
    "You can also create a diagonal array with a given vector along the diagonal. These can be offset with an optional argument `k` (default=0). This example creates a tri-diagonal array similar to that used for finite difference calculations"
   ]
  },
  {
   "cell_type": "code",
   "execution_count": null,
   "metadata": {
    "collapsed": false
   },
   "outputs": [],
   "source": [
    "np.diag(-2*np.ones(6)) + np.diag(np.ones(5), k=-1) + np.diag(np.ones(5), k=1)"
   ]
  },
  {
   "cell_type": "markdown",
   "metadata": {},
   "source": [
    "There are also a number of ways to generate sequences of numbers.\n",
    " - `np.arange([start,] stop [[, stride]])` Create a sequence of numbers, similar to `range`\n",
    " - `np.linspace(min, max, length)` Create a uniform series of specified `length` between `min` and `max`, inclusive.\n",
    " - `np.logspace(minpow, maxpow, length)` Create a uniform series in logspace of specified `length` between `10**minpow` and `10**maxpow`, inclusive.\n",
    " "
   ]
  },
  {
   "cell_type": "code",
   "execution_count": null,
   "metadata": {
    "collapsed": false
   },
   "outputs": [],
   "source": [
    "np.arange(10)"
   ]
  },
  {
   "cell_type": "code",
   "execution_count": null,
   "metadata": {
    "collapsed": false
   },
   "outputs": [],
   "source": [
    "np.arange(2, 10, 2)"
   ]
  },
  {
   "cell_type": "code",
   "execution_count": null,
   "metadata": {
    "collapsed": false
   },
   "outputs": [],
   "source": [
    "np.linspace(2, 4, 17)"
   ]
  },
  {
   "cell_type": "code",
   "execution_count": null,
   "metadata": {
    "collapsed": false
   },
   "outputs": [],
   "source": [
    "np.logspace(-2, 2, 9)"
   ]
  },
  {
   "cell_type": "markdown",
   "metadata": {},
   "source": [
    "## Finding values\n",
    "\n",
    "There are a number of ways to find values in an array. The simplest is always to create a boolean array, like"
   ]
  },
  {
   "cell_type": "code",
   "execution_count": null,
   "metadata": {
    "collapsed": false
   },
   "outputs": [],
   "source": [
    "x = np.random.rand(5, 5)\n",
    "print(x)\n",
    "ind = x > 0.5\n",
    "print(ind)"
   ]
  },
  {
   "cell_type": "markdown",
   "metadata": {},
   "source": [
    "The boolean array can be used as an index to other arrays. Note this will return a 1D array, no matter what dimension the origial arrays are, because there is no way to know what structure the true values have."
   ]
  },
  {
   "cell_type": "code",
   "execution_count": null,
   "metadata": {
    "collapsed": false
   },
   "outputs": [],
   "source": [
    "x = np.random.rand(5, 5)\n",
    "y = np.sin(x)\n",
    "\n",
    "y[x > 0.5]\n",
    "# or, equivalently, as two lines\n",
    "# idx = x > 0.5\n",
    "# y[idx]"
   ]
  },
  {
   "cell_type": "markdown",
   "metadata": {},
   "source": [
    "To get the indices of the places where the conditional is true (i.e., the locations of the `True` values in the boolean array), use the `np.where` command. "
   ]
  },
  {
   "cell_type": "code",
   "execution_count": null,
   "metadata": {
    "collapsed": false
   },
   "outputs": [],
   "source": [
    "x = np.random.rand(5, 5)\n",
    "idx = np.where(x > 0.5)\n",
    "idx"
   ]
  },
  {
   "cell_type": "markdown",
   "metadata": {},
   "source": [
    "Note that `np.where` ~always returns a tuple of indices for each dimension. This is a little strange for 1D arrays, but is done for consistency across all input values. Often, you will want to explicitly pull out the (single) array of indices from the tuple, like"
   ]
  },
  {
   "cell_type": "code",
   "execution_count": null,
   "metadata": {
    "collapsed": false
   },
   "outputs": [],
   "source": [
    "x = np.random.rand(10)\n",
    "idx = np.where(x>0.5)[0]\n",
    "print(idx)"
   ]
  },
  {
   "cell_type": "markdown",
   "metadata": {},
   "source": [
    "_What happens with the [0] is missing behind the call to `where`?_"
   ]
  },
  {
   "cell_type": "markdown",
   "metadata": {},
   "source": [
    "---\n",
    "### *Exercise*\n",
    "\n",
    "> You can also use these calculated indices, or boolean matricies on the left hand side for assignment.\n",
    "\n",
    "> Create a 10x10 random array, with values between 0 and 1. Replace all of the numbers smaller than 0.5 with zero.\n",
    "\n",
    "---"
   ]
  },
  {
   "cell_type": "code",
   "execution_count": null,
   "metadata": {
    "collapsed": true
   },
   "outputs": [],
   "source": []
  },
  {
   "cell_type": "markdown",
   "metadata": {},
   "source": [
    "## Importing data\n",
    "\n",
    "One of the basic commands in numpy for loading in data is the `loadtxt` command. There are other ways to do this, such as the [`genfromtxt`](http://docs.scipy.org/doc/numpy-dev/user/basics.io.genfromtxt.html) command, but `loadtxt` is sufficient for most purposes, and is easy to use."
   ]
  },
  {
   "cell_type": "code",
   "execution_count": null,
   "metadata": {
    "collapsed": false
   },
   "outputs": [],
   "source": [
    "data = np.loadtxt('../data/CTD.txt', comments='*')\n",
    "data[:,2]    # a column of data representing temperature"
   ]
  },
  {
   "cell_type": "markdown",
   "metadata": {},
   "source": [
    "## Linear algebra\n",
    "\n",
    "One of the key elements of the `numpy` package is the `numpy.linalg` subpackage that contains a number of linear algebra functions that work efficiently on arrays."
   ]
  },
  {
   "cell_type": "code",
   "execution_count": null,
   "metadata": {
    "collapsed": false
   },
   "outputs": [],
   "source": [
    "a = np.random.randn(100, 100)\n",
    "e, v = np.linalg.eig(a)\n",
    "\n",
    "b = np.random.randn(500, 200)\n",
    "u, s, v = np.linalg.svd(b)"
   ]
  },
  {
   "cell_type": "markdown",
   "metadata": {},
   "source": [
    "Matrix multiplication is done using the `np.dot` function. In this case, matrices do _not_ need to be the same shape, but must follow the rules of matrix multiplication. E.g., the operation dot(<4x5 array>, <5x12 array>) results in a 4x12 array; i.e., the inner dimensions must match (technically last and second-to-last, for arrays with more than two dimensions).   "
   ]
  },
  {
   "cell_type": "code",
   "execution_count": null,
   "metadata": {
    "collapsed": false
   },
   "outputs": [],
   "source": [
    "x = np.random.rand(4, 5)\n",
    "y = np.random.rand(5, 12)\n",
    "\n",
    "res = np.dot(x, y)\n",
    "print(res.shape)\n",
    "\n",
    "# np.dot(y, x)  # This gives an error -- order is important."
   ]
  },
  {
   "cell_type": "markdown",
   "metadata": {},
   "source": [
    "## Polynomial fitting\n",
    "\n",
    "The basic function for fitting a polynomial (e.g., a straight line) is `np.polyfit(x, y, deg)`. There are a number of other functions that let you add (`np.polyadd`), multiply (`np.polymul`), find zeros (`np.roots`), and do other operations to polynomials."
   ]
  },
  {
   "cell_type": "code",
   "execution_count": null,
   "metadata": {
    "collapsed": false
   },
   "outputs": [],
   "source": [
    "x = np.random.rand(100)\n",
    "y = 5 + 3*x + 0.1*np.random.randn(100)   # A line with some noise\n",
    "\n",
    "p = np.polyfit(x, y, 1)\n",
    "print(p)  # The coefficients of the polynomial, with highest order first. (i.e,. [slope, intercept])"
   ]
  },
  {
   "cell_type": "markdown",
   "metadata": {},
   "source": [
    "You can also use the `np.polynomial.Polynomial` class to work with polynomials. Note, these define polynomials the opposite way, with the _lowest_ order first. The Polynomial class gives an excellent example of operator overloading, and the flexibility of classes."
   ]
  },
  {
   "cell_type": "code",
   "execution_count": null,
   "metadata": {
    "collapsed": false
   },
   "outputs": [],
   "source": [
    "p1 = np.polynomial.Polynomial([5, 3])         # y = 5 + 3 x\n",
    "p2 = np.polynomial.Polynomial([3, 6, 8, 2])   # y = 3 + 6 x + 8 x**2 + 2 x**3\n",
    "\n",
    "print('Evaluation')\n",
    "print('p1(0.0) = ', p1(0))\n",
    "print('p1(5.0) = ', p2(5))\n",
    "print()\n",
    "print('Roots')\n",
    "print('Roots of p2 = ', p2.roots())\n",
    "print()\n",
    "print('Operations')\n",
    "print('p1 + p2 = ', p1 + p2)\n",
    "print('p1 * p2 = ', p1 * p2)\n",
    "print()\n",
    "print('Calculus')\n",
    "print('Derivative of p1', p1.deriv(1))\n",
    "print('Inegral of p2', p2.integ(4, k=[4, 3, 2, 1]))"
   ]
  },
  {
   "cell_type": "markdown",
   "metadata": {},
   "source": [
    "## Basic performance evaluation\n",
    "\n",
    "We can do some very basic perfomance testing using the `%time` special function in jupyter notebooks. Lets use this to examine the time it takes to do a singular value decomposition for different sized matricies."
   ]
  },
  {
   "cell_type": "code",
   "execution_count": null,
   "metadata": {
    "collapsed": false
   },
   "outputs": [],
   "source": [
    "b = np.random.randn(500, 200)\n",
    "%time u, s, v = np.linalg.svd(b)"
   ]
  },
  {
   "cell_type": "markdown",
   "metadata": {},
   "source": [
    "If the time might change, say based on the values chosen, the `%timeit` function can be used to perform the test a number of times to get an average calculation time."
   ]
  },
  {
   "cell_type": "code",
   "execution_count": null,
   "metadata": {
    "collapsed": false
   },
   "outputs": [],
   "source": [
    "%timeit b = np.random.randn(50, 20); u, s, v = np.linalg.svd(b)"
   ]
  },
  {
   "cell_type": "markdown",
   "metadata": {},
   "source": [
    "For statements that are longer than a single line, the `time.time` function can be used."
   ]
  },
  {
   "cell_type": "code",
   "execution_count": null,
   "metadata": {
    "collapsed": false
   },
   "outputs": [],
   "source": [
    "import time\n",
    "\n",
    "t_start = time.time()\n",
    "time.sleep(0.25)   # Do nothing for 0.25 seconds\n",
    "t_stop = time.time()\n",
    "\n",
    "print('{:6.4f} seconds have passed.'.format(t_stop-t_start))"
   ]
  },
  {
   "cell_type": "markdown",
   "metadata": {},
   "source": [
    "## Masked arrays\n",
    "\n",
    "Masked arrays are ways to create arrays with missing values. MATLAB&trade; uses NaNs (NaN stands for 'Not a Number'), and the NaNs are the values of the arrays at those points. This approach also works in Python. Masked arrays are preferred since they retain the masked array vaules, and also some plotting routines require masked arrays when plotting arrays with missing values. Masked arrays are usually created through some condition, like"
   ]
  },
  {
   "cell_type": "code",
   "execution_count": null,
   "metadata": {
    "collapsed": false
   },
   "outputs": [],
   "source": [
    "arr = np.random.randn(7, 8)\n",
    "cond = np.random.rand(7, 8) > 0.5   # `cond` is True for the random values greater than 0.5\n",
    "\n",
    "marr = np.ma.masked_where(cond, arr)\n",
    "\n",
    "print(marr)\n",
    "\n",
    "np.allclose(marr.data, arr)"
   ]
  },
  {
   "cell_type": "markdown",
   "metadata": {},
   "source": [
    "The mask can also be supplied explicity when creating the masked array,"
   ]
  },
  {
   "cell_type": "code",
   "execution_count": null,
   "metadata": {
    "collapsed": false
   },
   "outputs": [],
   "source": [
    "marr = np.ma.masked_array([1, 2, 3, 4, 5], mask=[True, True, False, False, True])\n",
    "marr"
   ]
  },
  {
   "cell_type": "markdown",
   "metadata": {},
   "source": [
    "## Overview of scipy packages\n",
    "\n",
    "The `scipy` package contains a number of specialized numerical computational tools. These tools are usually very specific, and in the case of the linear algebra tools, may be optimized for your particular hardware.\n",
    "\n",
    "     cluster                      --- Vector Quantization / Kmeans\n",
    "     fftpack                      --- Discrete Fourier Transform algorithms\n",
    "     integrate                    --- Integration routines\n",
    "     interpolate                  --- Interpolation Tools\n",
    "     io                           --- Data input and output\n",
    "     lib                          --- Python wrappers to external libraries\n",
    "     lib.lapack                   --- Wrappers to LAPACK library\n",
    "     linalg                       --- Linear algebra routines\n",
    "     misc                         --- Various utilities that don't have\n",
    "                                      another home.\n",
    "     ndimage                      --- n-dimensional image package\n",
    "     odr                          --- Orthogonal Distance Regression\n",
    "     optimize                     --- Optimization Tools\n",
    "     signal                       --- Signal Processing Tools\n",
    "     sparse                       --- Sparse Matrices\n",
    "     sparse.linalg                --- Sparse Linear Algebra\n",
    "     sparse.linalg.dsolve         --- Linear Solvers\n",
    "     sparse.linalg.dsolve.umfpack --- :Interface to the UMFPACK library:\n",
    "                                      Conjugate Gradient Method (LOBPCG)\n",
    "     sparse.linalg.eigen.lobpcg   --- Locally Optimal Block Preconditioned\n",
    "                                      Conjugate Gradient Method (LOBPCG) [*]\n",
    "     special                      --- Airy Functions [*]\n",
    "     lib.blas                     --- Wrappers to BLAS library [*]\n",
    "     sparse.linalg.eigen          --- Sparse Eigenvalue Solvers [*]\n",
    "     stats                        --- Statistical Functions [*]\n",
    "     lib                          --- Python wrappers to external libraries\n",
    "                                      [*]\n",
    "     lib.lapack                   --- Wrappers to LAPACK library [*]\n",
    "     integrate                    --- Integration routines [*]\n",
    "     ndimage                      --- n-dimensional image package [*]\n",
    "     linalg                       --- Linear algebra routines [*]\n",
    "     spatial                      --- Spatial data structures and algorithms\n",
    "     special                      --- Airy Functions\n",
    "     stats                        --- Statistical Functions\n"
   ]
  },
  {
   "cell_type": "code",
   "execution_count": null,
   "metadata": {
    "collapsed": true
   },
   "outputs": [],
   "source": [
    "import scipy   # This actually does nothing. Submodules must be explicitly imported"
   ]
  },
  {
   "cell_type": "markdown",
   "metadata": {},
   "source": [
    "## `scipy.stats`"
   ]
  },
  {
   "cell_type": "code",
   "execution_count": null,
   "metadata": {
    "collapsed": true
   },
   "outputs": [],
   "source": [
    "import scipy.stats"
   ]
  },
  {
   "cell_type": "code",
   "execution_count": null,
   "metadata": {
    "collapsed": false
   },
   "outputs": [],
   "source": [
    "rv = scipy.stats.laplace(loc=0, scale=1)\n",
    "rv.pdf(np.linspace(-3, 3, 101))    # create a pdf of the laplace distribution with parameters loc=0, scale=1"
   ]
  },
  {
   "cell_type": "code",
   "execution_count": null,
   "metadata": {
    "collapsed": false
   },
   "outputs": [],
   "source": [
    "r = scipy.stats.laplace.rvs(size=100) # Generate 100 random numbers based on the laplace distribution\n",
    "r"
   ]
  },
  {
   "cell_type": "markdown",
   "metadata": {},
   "source": [
    "## `scipy.integrate`"
   ]
  },
  {
   "cell_type": "code",
   "execution_count": null,
   "metadata": {
    "collapsed": false
   },
   "outputs": [],
   "source": [
    "import scipy.integrate\n",
    "\n",
    "sigma=10.0\n",
    "beta=8.0/3.0\n",
    "rho=28.0\n",
    "\n",
    "def lorenz(state, to):\n",
    "    x, y, z = state\n",
    "    xdot = sigma*(y-x)\n",
    "    ydot = x*(rho-z)-y\n",
    "    zdot = x*y - beta*z\n",
    "    return (xdot, ydot, zdot)\n",
    "    \n",
    "t = np.linspace(0, 30, 3000)\n",
    "sol = scipy.integrate.odeint(lorenz, (1., 2., 3.), t)\n",
    "x, y, z = sol.T"
   ]
  },
  {
   "cell_type": "code",
   "execution_count": null,
   "metadata": {
    "collapsed": false
   },
   "outputs": [],
   "source": [
    "import matplotlib.pyplot as plt\n",
    "from mpl_toolkits.mplot3d import Axes3D\n",
    "% matplotlib inline\n",
    "\n",
    "fig = plt.figure(figsize=(10, 10))\n",
    "ax = fig.add_subplot(111, projection='3d')\n",
    "ax.plot(x, y, z)"
   ]
  },
  {
   "cell_type": "markdown",
   "metadata": {},
   "source": [
    "---\n",
    "### *Exercise*\n",
    "\n",
    "> Read in again the oceanographic data file '../data/CTD.txt' into an array. You can look at the data file itself to see what variables are stored in each column.\n",
    "\n",
    "> Using this data, write a function to calculate the linear equation of state. This is an approximation of the density of water, as it depends on salinity, temperature, and some empirical constants. We will use the following form for the linear equation of state:\n",
    "\n",
    "> $\\rho = 1027[1+7.6\\times 10^{-4}(S-35) -1.7\\times 10^{-4}(T-25)]$\n",
    "\n",
    "> where $\\rho$ is the density, $S$ is the salinity, and $T$ is the temperature.\n",
    "\n",
    "> This is more free form than the homework, so you should set up all of the associated code to call the function, and write out the function yourself. Don't forget docstrings! For a check, the first value of your density array in order should equal 1021.7519981630001 and the last should equal 1028.0471353619998.\n",
    "\n",
    "---"
   ]
  },
  {
   "cell_type": "code",
   "execution_count": null,
   "metadata": {
    "collapsed": false
   },
   "outputs": [],
   "source": []
  },
  {
   "cell_type": "markdown",
   "metadata": {},
   "source": [
    "---\n",
    "### *Exercise*\n",
    "\n",
    "> Output from a numerical model of the northwestern Gulf of Mexico are saved in a file `../data/model.npz`. Read in this file. Among other things, it contains `h`, the depths within the numerical domain, and `ssh`, the sea surface heights at two time steps. The sea surface height gives the deviation above and below sea level from a reference water level (which changes in time as the water moves), and the depths of the seabed are also given with respect to that reference water level. \n",
    "\n",
    "> Find the full water column depth, between the seabed and the sea surface, for the two given times. \n",
    "\n",
    "> You can use as a comparison that at the first time step the [0,0] value of this array should be 3007.6088347392124, and at the second time step the [0,-1] value should be 605.25282427018749. Note that there is a differences between the two time steps though it is generally quite small since it is the difference between time steps in the numerical circulation model.\n",
    "\n",
    "---"
   ]
  },
  {
   "cell_type": "code",
   "execution_count": null,
   "metadata": {
    "collapsed": false
   },
   "outputs": [],
   "source": []
  },
  {
   "cell_type": "markdown",
   "metadata": {},
   "source": [
    "---\n",
    "### *Exercise*\n",
    "\n",
    "> Earlier, we discussed using array operations instead of looping because it is faster. Let's compare.\n",
    "\n",
    "> Calculate the time it takes to do what we did before:\n",
    "\n",
    "    a = np.arange(1024.0).reshape(4, 8, 16, 2)   # a 4D array using sequential numbers\n",
    "    b = np.random.rand(4, 8, 16, 2)              # a 4D array using random numbers\n",
    "    sol = a * b  # element-by-element multiplication. This operation is about as fast as it can be on your computer.\n",
    "\n",
    "> and the time required for doing the same operation with a series of 4 `for` loops, one for each dimension of the arrays. Compare the times by calculating a ratio.\n",
    "\n",
    "---"
   ]
  },
  {
   "cell_type": "code",
   "execution_count": null,
   "metadata": {
    "collapsed": true
   },
   "outputs": [],
   "source": []
  }
 ],
 "metadata": {
  "kernelspec": {
   "display_name": "Python [default]",
   "language": "python",
   "name": "python3"
  },
  "language_info": {
   "codemirror_mode": {
    "name": "ipython",
    "version": 3
   },
   "file_extension": ".py",
   "mimetype": "text/x-python",
   "name": "python",
   "nbconvert_exporter": "python",
   "pygments_lexer": "ipython3",
   "version": "3.5.2"
  }
 },
 "nbformat": 4,
 "nbformat_minor": 0
}
