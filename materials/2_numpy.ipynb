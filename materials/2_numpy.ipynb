{
 "cells": [
  {
   "cell_type": "markdown",
   "metadata": {},
   "source": [
    "# Numpy"
   ]
  },
  {
   "cell_type": "code",
   "execution_count": 2,
   "metadata": {
    "collapsed": true
   },
   "outputs": [],
   "source": [
    "import numpy as np"
   ]
  },
  {
   "cell_type": "markdown",
   "metadata": {},
   "source": [
    "The core of the `numpy` package is the `array` class. Let's examine that first. We can make an array out of a sequence, like a list."
   ]
  },
  {
   "cell_type": "code",
   "execution_count": 3,
   "metadata": {
    "collapsed": false
   },
   "outputs": [
    {
     "data": {
      "text/plain": [
       "array([1, 2, 3, 4, 5])"
      ]
     },
     "execution_count": 3,
     "metadata": {},
     "output_type": "execute_result"
    }
   ],
   "source": [
    "d = [1, 2, 3, 4, 5]\n",
    "np.array(d)"
   ]
  },
  {
   "cell_type": "markdown",
   "metadata": {},
   "source": [
    "### data types\n",
    "\n",
    "Unlike lists, arrays must be homogeneous, in that the data types of each element must be the same. The data type of the array is upcast to be able to represent all of the data. So, if only one element is a float, all elements will be converted to floats."
   ]
  },
  {
   "cell_type": "code",
   "execution_count": 4,
   "metadata": {
    "collapsed": false
   },
   "outputs": [
    {
     "data": {
      "text/plain": [
       "array([ 1.    ,  2.    ,  3.1415,  4.    ,  5.    ])"
      ]
     },
     "execution_count": 4,
     "metadata": {},
     "output_type": "execute_result"
    }
   ],
   "source": [
    "d = [1, 2, 3.1415, 4, 5]\n",
    "np.array(d)"
   ]
  },
  {
   "cell_type": "markdown",
   "metadata": {},
   "source": [
    "You can query the datatype by examining the `dtype` attribute of the array."
   ]
  },
  {
   "cell_type": "code",
   "execution_count": 5,
   "metadata": {
    "collapsed": false
   },
   "outputs": [
    {
     "data": {
      "text/plain": [
       "dtype('float64')"
      ]
     },
     "execution_count": 5,
     "metadata": {},
     "output_type": "execute_result"
    }
   ],
   "source": [
    "d = [1, 2, 3.1415, 4, 5]\n",
    "arr = np.array(d)\n",
    "arr.dtype"
   ]
  },
  {
   "cell_type": "markdown",
   "metadata": {},
   "source": [
    "Array types may be defined explicity in the call"
   ]
  },
  {
   "cell_type": "code",
   "execution_count": 6,
   "metadata": {
    "collapsed": false
   },
   "outputs": [
    {
     "data": {
      "text/plain": [
       "array([ 1.,  2.,  3.,  4.,  5.], dtype=float32)"
      ]
     },
     "execution_count": 6,
     "metadata": {},
     "output_type": "execute_result"
    }
   ],
   "source": [
    "arr = np.array([1, 2, 3, 4, 5], dtype='float32')\n",
    "arr"
   ]
  },
  {
   "cell_type": "markdown",
   "metadata": {},
   "source": [
    "Complex numbers are noted with a lowercase `j` or uppercase `J`, like this"
   ]
  },
  {
   "cell_type": "code",
   "execution_count": 7,
   "metadata": {
    "collapsed": false
   },
   "outputs": [
    {
     "name": "stdout",
     "output_type": "stream",
     "text": [
      "[ 1.+2.j  3.+4.j]\n"
     ]
    },
    {
     "data": {
      "text/plain": [
       "dtype('complex128')"
      ]
     },
     "execution_count": 7,
     "metadata": {},
     "output_type": "execute_result"
    }
   ],
   "source": [
    "cmplx = np.array([1.0+2.0j, 3.0+4.0J])\n",
    "print(cmplx)\n",
    "cmplx.dtype"
   ]
  },
  {
   "cell_type": "markdown",
   "metadata": {},
   "source": [
    "As we have seen before, arrays are like multidimensional sequences. We can create a 2D array by supplying a list of lists as the argument."
   ]
  },
  {
   "cell_type": "code",
   "execution_count": 8,
   "metadata": {
    "collapsed": false
   },
   "outputs": [
    {
     "data": {
      "text/plain": [
       "array([[ 1.,  2.,  3.],\n",
       "       [ 4.,  5.,  6.]])"
      ]
     },
     "execution_count": 8,
     "metadata": {},
     "output_type": "execute_result"
    }
   ],
   "source": [
    "arr = np.array([[1., 2., 3.,], [4., 5., 6.]])\n",
    "arr"
   ]
  },
  {
   "cell_type": "markdown",
   "metadata": {},
   "source": [
    "### Array attributes\n",
    "\n",
    "Arrays have a few other important attributes. Note attributes never have paretheses after them. Methods always do."
   ]
  },
  {
   "cell_type": "code",
   "execution_count": 9,
   "metadata": {
    "collapsed": false
   },
   "outputs": [
    {
     "data": {
      "text/plain": [
       "6"
      ]
     },
     "execution_count": 9,
     "metadata": {},
     "output_type": "execute_result"
    }
   ],
   "source": [
    "arr.size          # The number of elements in the array"
   ]
  },
  {
   "cell_type": "code",
   "execution_count": 10,
   "metadata": {
    "collapsed": false
   },
   "outputs": [
    {
     "data": {
      "text/plain": [
       "(2, 3)"
      ]
     },
     "execution_count": 10,
     "metadata": {},
     "output_type": "execute_result"
    }
   ],
   "source": [
    "arr.shape         # The shape of the array (i.e., the size of each dimension)"
   ]
  },
  {
   "cell_type": "code",
   "execution_count": 11,
   "metadata": {
    "collapsed": false
   },
   "outputs": [
    {
     "data": {
      "text/plain": [
       "2"
      ]
     },
     "execution_count": 11,
     "metadata": {},
     "output_type": "execute_result"
    }
   ],
   "source": [
    "arr.ndim          # The number of dimensions of the array"
   ]
  },
  {
   "cell_type": "markdown",
   "metadata": {},
   "source": [
    "### Setting array shape\n",
    "\n",
    "You can set the `array.shape` attribute to change the shape of the array. This attribute does not change the elements of the array, or how it is stored in memory, just how it is seen."
   ]
  },
  {
   "cell_type": "code",
   "execution_count": 12,
   "metadata": {
    "collapsed": false
   },
   "outputs": [
    {
     "data": {
      "text/plain": [
       "array([[ 1.,  2.],\n",
       "       [ 3.,  4.],\n",
       "       [ 5.,  6.]])"
      ]
     },
     "execution_count": 12,
     "metadata": {},
     "output_type": "execute_result"
    }
   ],
   "source": [
    "arr.shape = (3, 2)\n",
    "arr"
   ]
  },
  {
   "cell_type": "code",
   "execution_count": 13,
   "metadata": {
    "collapsed": false
   },
   "outputs": [
    {
     "data": {
      "text/plain": [
       "array([ 1.,  2.,  3.,  4.,  5.,  6.])"
      ]
     },
     "execution_count": 13,
     "metadata": {},
     "output_type": "execute_result"
    }
   ],
   "source": [
    "arr.shape = (6,)\n",
    "arr"
   ]
  },
  {
   "cell_type": "markdown",
   "metadata": {},
   "source": [
    "Singleton dimensions add to the dimensionality of an array. The last example was a 1D array, the next are 2D arrays."
   ]
  },
  {
   "cell_type": "code",
   "execution_count": 14,
   "metadata": {
    "collapsed": false
   },
   "outputs": [
    {
     "data": {
      "text/plain": [
       "array([[ 1.,  2.,  3.,  4.,  5.,  6.]])"
      ]
     },
     "execution_count": 14,
     "metadata": {},
     "output_type": "execute_result"
    }
   ],
   "source": [
    "arr.shape = (1, 6)\n",
    "arr   # Note that there are *two* square brackets in the output sequence."
   ]
  },
  {
   "cell_type": "code",
   "execution_count": 15,
   "metadata": {
    "collapsed": false
   },
   "outputs": [
    {
     "data": {
      "text/plain": [
       "array([[ 1.],\n",
       "       [ 2.],\n",
       "       [ 3.],\n",
       "       [ 4.],\n",
       "       [ 5.],\n",
       "       [ 6.]])"
      ]
     },
     "execution_count": 15,
     "metadata": {},
     "output_type": "execute_result"
    }
   ],
   "source": [
    "arr.shape = (6, 1)\n",
    "arr   # this is also a 2D array, like a column vector"
   ]
  },
  {
   "cell_type": "markdown",
   "metadata": {},
   "source": [
    "## Array indexing\n",
    "\n",
    "Arrays are indexed in a similar way to sequences, with `start:stop:stride` notation, except that this is used for each dimension in the array. Colons denote all the values in a particular dimension, slices indicate some particular subset of the data in that particular dimension. \n",
    "\n",
    "A common use case is to get a single row or column from a 2D array (a table of data)."
   ]
  },
  {
   "cell_type": "code",
   "execution_count": 16,
   "metadata": {
    "collapsed": false
   },
   "outputs": [
    {
     "data": {
      "text/plain": [
       "array([[ 0,  1,  2,  3,  4,  5,  6,  7,  8,  9],\n",
       "       [10, 11, 12, 13, 14, 15, 16, 17, 18, 19],\n",
       "       [20, 21, 22, 23, 24, 25, 26, 27, 28, 29],\n",
       "       [30, 31, 32, 33, 34, 35, 36, 37, 38, 39],\n",
       "       [40, 41, 42, 43, 44, 45, 46, 47, 48, 49],\n",
       "       [50, 51, 52, 53, 54, 55, 56, 57, 58, 59]])"
      ]
     },
     "execution_count": 16,
     "metadata": {},
     "output_type": "execute_result"
    }
   ],
   "source": [
    "arr = np.arange(60).reshape(6, 10)\n",
    "arr"
   ]
  },
  {
   "cell_type": "code",
   "execution_count": 17,
   "metadata": {
    "collapsed": false
   },
   "outputs": [
    {
     "data": {
      "text/plain": [
       "array([ 4, 14, 24, 34, 44, 54])"
      ]
     },
     "execution_count": 17,
     "metadata": {},
     "output_type": "execute_result"
    }
   ],
   "source": [
    "arr[:, 4]   # the 5th column"
   ]
  },
  {
   "cell_type": "code",
   "execution_count": 18,
   "metadata": {
    "collapsed": false
   },
   "outputs": [
    {
     "data": {
      "text/plain": [
       "array([22, 23, 24, 25, 26, 27])"
      ]
     },
     "execution_count": 18,
     "metadata": {},
     "output_type": "execute_result"
    }
   ],
   "source": [
    "arr[2, 2:-2]   # the 3rd row"
   ]
  },
  {
   "cell_type": "code",
   "execution_count": 19,
   "metadata": {
    "collapsed": false
   },
   "outputs": [
    {
     "data": {
      "text/plain": [
       "array([20, 21, 22, 23, 24, 25, 26, 27, 28, 29])"
      ]
     },
     "execution_count": 19,
     "metadata": {},
     "output_type": "execute_result"
    }
   ],
   "source": [
    "arr[2]     # Trailing colons do not need to be explicitly typed. This is equivalent to the last example."
   ]
  },
  {
   "cell_type": "code",
   "execution_count": 20,
   "metadata": {
    "collapsed": false
   },
   "outputs": [
    {
     "data": {
      "text/plain": [
       "47"
      ]
     },
     "execution_count": 20,
     "metadata": {},
     "output_type": "execute_result"
    }
   ],
   "source": [
    "arr[4, 7]   # an individual element in the table"
   ]
  },
  {
   "cell_type": "markdown",
   "metadata": {},
   "source": [
    "---\n",
    "### *Exercise*\n",
    "\n",
    "> Slices can be combined in any way. Define a new array or use array `arr` and grab out every other row and the 4th column and beyond.\n",
    "\n",
    "---"
   ]
  },
  {
   "cell_type": "code",
   "execution_count": 21,
   "metadata": {
    "collapsed": false
   },
   "outputs": [
    {
     "data": {
      "text/plain": [
       "array([[ 3,  4,  5,  6,  7,  8,  9],\n",
       "       [23, 24, 25, 26, 27, 28, 29],\n",
       "       [43, 44, 45, 46, 47, 48, 49]])"
      ]
     },
     "execution_count": 21,
     "metadata": {},
     "output_type": "execute_result"
    }
   ],
   "source": [
    "arr[::2, 3:]"
   ]
  },
  {
   "cell_type": "markdown",
   "metadata": {},
   "source": [
    "### Conventions concerning arrays containing spatio-temporal information\n",
    "\n",
    "Generally, you will want to think of arrays as representing dimensions in space and time. The conventional way to think of this is that the dimensions are $(t, z, y, x)$; missing dimensions are omitted. This will help make plotting and analysis easier. Some examples might be:\n",
    "\n",
    "    temp[:, :, :, :]     # A 4D array (time, height, latitude, longitude)\n",
    "    press[:, :]          # A 2D array (time, height)\n",
    "    humid[:, :]          # A 2D array (latitude, longitude)"
   ]
  },
  {
   "cell_type": "markdown",
   "metadata": {},
   "source": [
    "## Array methods\n",
    "\n",
    "Arrays have a number of methods. Let's take a look at the `mean` method as an example. "
   ]
  },
  {
   "cell_type": "code",
   "execution_count": 22,
   "metadata": {
    "collapsed": false
   },
   "outputs": [
    {
     "data": {
      "text/plain": [
       "3.5"
      ]
     },
     "execution_count": 22,
     "metadata": {},
     "output_type": "execute_result"
    }
   ],
   "source": [
    "arr = np.array([[1., 2., 3.,], [4., 5., 6.]])  # reset the array to our 2x3 array.\n",
    "\n",
    "arr.mean()        # The mean of all of the elements in the array"
   ]
  },
  {
   "cell_type": "code",
   "execution_count": 23,
   "metadata": {
    "collapsed": false
   },
   "outputs": [
    {
     "data": {
      "text/plain": [
       "array([[ 1.,  2.,  3.],\n",
       "       [ 4.,  5.,  6.]])"
      ]
     },
     "execution_count": 23,
     "metadata": {},
     "output_type": "execute_result"
    }
   ],
   "source": [
    "arr"
   ]
  },
  {
   "cell_type": "code",
   "execution_count": null,
   "metadata": {
    "collapsed": true
   },
   "outputs": [],
   "source": []
  },
  {
   "cell_type": "markdown",
   "metadata": {},
   "source": [
    "`Mean` takes the optional argument `axis` that can be used to take the mean along a single axis of the array. Just like with indexing, the axes are reference in a zero-based system; `axis=0` means the first dimension. "
   ]
  },
  {
   "cell_type": "code",
   "execution_count": 24,
   "metadata": {
    "collapsed": false
   },
   "outputs": [
    {
     "data": {
      "text/plain": [
       "array([ 2.,  5.])"
      ]
     },
     "execution_count": 24,
     "metadata": {},
     "output_type": "execute_result"
    }
   ],
   "source": [
    "arr.mean(axis=1)  # The mean "
   ]
  },
  {
   "cell_type": "markdown",
   "metadata": {},
   "source": [
    "In this case, there are two rows in the first dimension, and `arr.mean(axis=0)` takes the average in the 'row' direction, resulting in a 1D array that is the average of each column."
   ]
  },
  {
   "cell_type": "markdown",
   "metadata": {},
   "source": [
    "---\n",
    "### *Exercise*\n",
    "\n",
    "> Find the mean of the array in the 'column' direction, along `axis=1`.\n",
    "\n",
    "> Use the `sum` method of the array class to get the sum of the numbers in each column. The result should be a 1D array with three elements.\n",
    "\n",
    "---"
   ]
  },
  {
   "cell_type": "code",
   "execution_count": 25,
   "metadata": {
    "collapsed": false
   },
   "outputs": [
    {
     "data": {
      "text/plain": [
       "array([ 5.,  7.,  9.])"
      ]
     },
     "execution_count": 25,
     "metadata": {},
     "output_type": "execute_result"
    }
   ],
   "source": [
    "arr.sum(axis=0)"
   ]
  },
  {
   "cell_type": "markdown",
   "metadata": {
    "collapsed": true
   },
   "source": [
    "You can also use the `reshape` method to change the shape of an array."
   ]
  },
  {
   "cell_type": "code",
   "execution_count": 26,
   "metadata": {
    "collapsed": false
   },
   "outputs": [
    {
     "data": {
      "text/plain": [
       "array([[ 1.,  2.],\n",
       "       [ 3.,  4.],\n",
       "       [ 5.,  6.]])"
      ]
     },
     "execution_count": 26,
     "metadata": {},
     "output_type": "execute_result"
    }
   ],
   "source": [
    "arr.reshape(3, 2)"
   ]
  },
  {
   "cell_type": "markdown",
   "metadata": {},
   "source": [
    "You can find the mininum and maximum of an array with the `min` and `max` methods. Sometimes it is useful to find the indices of these minima and maxima. For this use `argmin` and `argmax`, like"
   ]
  },
  {
   "cell_type": "code",
   "execution_count": 27,
   "metadata": {
    "collapsed": false
   },
   "outputs": [
    {
     "name": "stdout",
     "output_type": "stream",
     "text": [
      "5 0.629317819285 0.629317819285\n"
     ]
    }
   ],
   "source": [
    "x = np.random.rand(10)\n",
    "imax = x.argmax()\n",
    "print(imax, x[imax], x.max())"
   ]
  },
  {
   "cell_type": "code",
   "execution_count": 28,
   "metadata": {
    "collapsed": false
   },
   "outputs": [
    {
     "data": {
      "text/plain": [
       "array([ 0.4768983 ,  0.01061681,  0.57758768,  0.23788797,  0.47359525,\n",
       "        0.62931782,  0.32312712,  0.58841701,  0.29289008,  0.10803999])"
      ]
     },
     "execution_count": 28,
     "metadata": {},
     "output_type": "execute_result"
    }
   ],
   "source": [
    "x\n"
   ]
  },
  {
   "cell_type": "markdown",
   "metadata": {
    "collapsed": true
   },
   "source": [
    "## Array views\n",
    "\n",
    "The data for an array may be stored in memory using `C` or `FORTRAN` ordered memory. Typically, there is no need to think about this, some details can be found [here](http://docs.scipy.org/doc/numpy-1.10.0/reference/internals.html).\n",
    "\n",
    "However, it is important to remember that subsets of an array can produce a different 'view' of the array that addresses the same memory as the original array. This can lead to some unexpected behaviors. One way to think of this is that assignment in Python is more like a C-pointer (i.e., a reference to a memory location) than an actual value."
   ]
  },
  {
   "cell_type": "code",
   "execution_count": 29,
   "metadata": {
    "collapsed": false
   },
   "outputs": [
    {
     "name": "stdout",
     "output_type": "stream",
     "text": [
      "[ 0.  1.  2.  3.  4.  5.  6.  7.  8.  9.]\n",
      "[ 0.  2.  4.  6.  8.]\n"
     ]
    }
   ],
   "source": [
    "a = np.arange(10.0)\n",
    "b = a[::2]\n",
    "print(a)\n",
    "print(b)"
   ]
  },
  {
   "cell_type": "code",
   "execution_count": 30,
   "metadata": {
    "collapsed": false
   },
   "outputs": [
    {
     "name": "stdout",
     "output_type": "stream",
     "text": [
      "[   0.    1.    2.    3. -999.    5.    6.    7.    8.    9.]\n",
      "[   0.    2. -999.    6.    8.]\n"
     ]
    }
   ],
   "source": [
    "a[4] = -999   # this will modify b as well...\n",
    "print(a)\n",
    "print(b)"
   ]
  },
  {
   "cell_type": "code",
   "execution_count": 31,
   "metadata": {
    "collapsed": false
   },
   "outputs": [
    {
     "name": "stdout",
     "output_type": "stream",
     "text": [
      "[   0.    1.    2.    3. -999.    5.    6.    7. -888.    9.]\n",
      "[   0.    2. -999.    6. -888.]\n"
     ]
    }
   ],
   "source": [
    "b[-1] = -888  # this will modify a as well...\n",
    "print(a)\n",
    "print(b)"
   ]
  },
  {
   "cell_type": "markdown",
   "metadata": {},
   "source": [
    "Normally, this will not be a problem, but if you need to make sure that a subset of an array has it's own memory, make sure you make a `copy` of the array, like"
   ]
  },
  {
   "cell_type": "code",
   "execution_count": 32,
   "metadata": {
    "collapsed": false
   },
   "outputs": [
    {
     "name": "stdout",
     "output_type": "stream",
     "text": [
      "[   0.    1.    2.    3. -999.    5.    6.    7.    8.    9.]\n",
      "[ 0.  2.  4.  6.  8.]\n"
     ]
    }
   ],
   "source": [
    "a = np.arange(10.0)\n",
    "b = a.copy()[::2]     # or np.copy(a)\n",
    "a[4] = -999   # this will modify b as well...\n",
    "print(a)\n",
    "print(b)"
   ]
  },
  {
   "cell_type": "code",
   "execution_count": 33,
   "metadata": {
    "collapsed": false
   },
   "outputs": [
    {
     "data": {
      "text/plain": [
       "False"
      ]
     },
     "execution_count": 33,
     "metadata": {},
     "output_type": "execute_result"
    }
   ],
   "source": [
    "a = np.arange(10.)\n",
    "b = a.copy()\n",
    "b is a"
   ]
  },
  {
   "cell_type": "markdown",
   "metadata": {},
   "source": [
    "## Vectorization\n",
    "\n",
    "The best way to do mathematical operations using numpy arrays is to do `vector` operations. That is, mathematical operations are defined to be element by element, and this is done much faster than looping. As a rule of thumb, you should be very concerned if your code has more than one significant `for` loop in the numerical analysis section."
   ]
  },
  {
   "cell_type": "code",
   "execution_count": 34,
   "metadata": {
    "collapsed": false
   },
   "outputs": [],
   "source": [
    "a = np.arange(102400.0).reshape(4, 8, 1600, 2)   # a 4D array using sequential numbers\n",
    "b = np.random.rand(4, 8, 1600, 2)              # a 4D array using random numbers\n",
    "\n",
    "sol = a * b       # element-by-element multiplication. This operation is about as fast as it can be on your computer."
   ]
  },
  {
   "cell_type": "markdown",
   "metadata": {},
   "source": [
    "### Ufuncs\n",
    "\n",
    "`Ufunc`s or Universal functions are ways to apply a function to every element in the array. Let's check [Euler's formula](https://en.wikipedia.org/wiki/Euler%27s_formula):\n",
    "\n",
    "$e^{ix} = \\cos(x) + i\\sin(x) $\n",
    "\n",
    "by using universal function `real` to see if the real part of the exponential really is equal to the real part of the right-hand side of the equation, $\\cos(x)$."
   ]
  },
  {
   "cell_type": "code",
   "execution_count": 35,
   "metadata": {
    "collapsed": false
   },
   "outputs": [
    {
     "data": {
      "text/plain": [
       "True"
      ]
     },
     "execution_count": 35,
     "metadata": {},
     "output_type": "execute_result"
    }
   ],
   "source": [
    "x = np.random.rand(3, 4, 5)  # create a random 3 x 4 x 5 array\n",
    "\n",
    "res1 = np.exp(1.0J*x).real    # The `real` attribute returns the real part of a complex number\n",
    "res2 = np.cos(x)\n",
    "\n",
    "np.allclose(res1, res2)       # Checks if all of the elements are close, within some small tolerance."
   ]
  },
  {
   "cell_type": "code",
   "execution_count": null,
   "metadata": {
    "collapsed": false
   },
   "outputs": [],
   "source": []
  },
  {
   "cell_type": "code",
   "execution_count": null,
   "metadata": {
    "collapsed": true
   },
   "outputs": [],
   "source": []
  },
  {
   "cell_type": "markdown",
   "metadata": {},
   "source": [
    "## Array broadcasting\n",
    "\n",
    "Arrays may be operated on using vector operations even if they are different sizes, however, they need to follow the rules of `array broadcasting`.  One way to think of this is that a larger dimension will be 'broadcast' across a singleton dimension. Generally, all of the dimensions need to be either the same size, or one of the dimension sizes for a particular dimension should be of size 1. Arrays always have as many 'singleton' dimensions to the left as needed.  For example, these arrays will all 'broadcast'\n",
    "\n",
    "      a: 5 x 7 x 1 x 8\n",
    "      b:             8\n",
    "      c:     7 x 3 x 8\n",
    "      d: 5 x 1 x 3 x 1\n",
    "    \n",
    "    sol: 5 x 7 x 3 x 8   \n",
    "\n",
    "Let's create these arrays with random numbers"
   ]
  },
  {
   "cell_type": "code",
   "execution_count": 36,
   "metadata": {
    "collapsed": false
   },
   "outputs": [
    {
     "name": "stdout",
     "output_type": "stream",
     "text": [
      "(5, 7, 1, 8) (8,) (7, 3, 8) (5, 1, 3, 1)\n",
      "(5, 7, 3, 8)\n"
     ]
    }
   ],
   "source": [
    "a = np.random.rand(5, 7, 1, 8)\n",
    "b = np.random.rand(8)\n",
    "c = np.random.rand(7, 3, 8)\n",
    "d = np.random.rand(5, 1, 3, 1)\n",
    "print(a.shape, b.shape, c.shape, d.shape)\n",
    "\n",
    "sol = a * b * c * d\n",
    "print(sol.shape)"
   ]
  },
  {
   "cell_type": "markdown",
   "metadata": {},
   "source": [
    "---\n",
    "### *Exercise*\n",
    "\n",
    "> Experiment with multiplying just two of the arrays together. Try to predict the resulting shape.\n",
    "\n",
    "---"
   ]
  },
  {
   "cell_type": "code",
   "execution_count": 37,
   "metadata": {
    "collapsed": false
   },
   "outputs": [
    {
     "name": "stdout",
     "output_type": "stream",
     "text": [
      "(7, 3, 8)\n"
     ]
    }
   ],
   "source": [
    "sol = b * c\n",
    "print(sol.shape)"
   ]
  },
  {
   "cell_type": "markdown",
   "metadata": {},
   "source": [
    "Array broadcasting sometimes requires creating new singleton dimensions in arrays. This can be done by putting `np.newaxis` in the appropriate space when indexing the array. For example"
   ]
  },
  {
   "cell_type": "code",
   "execution_count": 38,
   "metadata": {
    "collapsed": false
   },
   "outputs": [
    {
     "data": {
      "text/plain": [
       "array([[0, 1, 2, 3, 4, 5],\n",
       "       [1, 0, 1, 2, 3, 4],\n",
       "       [2, 1, 0, 1, 2, 3],\n",
       "       [3, 2, 1, 0, 1, 2],\n",
       "       [4, 3, 2, 1, 0, 1],\n",
       "       [5, 4, 3, 2, 1, 0]])"
      ]
     },
     "execution_count": 38,
     "metadata": {},
     "output_type": "execute_result"
    }
   ],
   "source": [
    "x = np.arange(6)   # a 1D array. shape (6,)\n",
    "\n",
    "x1 = x[:, np.newaxis]   # 2D array, shape (6, 1)\n",
    "x2 = x[np.newaxis, :]   # 2D array, shape (1, 6)\n",
    "\n",
    "np.abs(x1 - x2)  # A 'distance' matrix, a 2D array, shape (6, 6)"
   ]
  },
  {
   "cell_type": "code",
   "execution_count": 39,
   "metadata": {
    "collapsed": false
   },
   "outputs": [
    {
     "data": {
      "text/plain": [
       "(6, 1)"
      ]
     },
     "execution_count": 39,
     "metadata": {},
     "output_type": "execute_result"
    }
   ],
   "source": [
    "x1.shape\n"
   ]
  },
  {
   "cell_type": "code",
   "execution_count": null,
   "metadata": {
    "collapsed": true
   },
   "outputs": [],
   "source": []
  },
  {
   "cell_type": "markdown",
   "metadata": {},
   "source": [
    "---\n",
    "### *Exercise*\n",
    "\n",
    "> Let's alter some of the previous arrays to instead have: `b = np.random.rand(8)` and `c = np.random.rand(8, 3, 7)`. What happens when you try to multiply these together? How can you fix it so it works?\n",
    "\n",
    "---"
   ]
  },
  {
   "cell_type": "code",
   "execution_count": 40,
   "metadata": {
    "collapsed": false
   },
   "outputs": [
    {
     "data": {
      "text/plain": [
       "(8, 3, 7)"
      ]
     },
     "execution_count": 40,
     "metadata": {},
     "output_type": "execute_result"
    }
   ],
   "source": [
    "b = np.random.rand(8)\n",
    "c = np.random.rand(8, 3, 7)\n",
    "\n",
    "foo = b[:, np.newaxis, np.newaxis]*c\n",
    "foo.shape"
   ]
  },
  {
   "cell_type": "markdown",
   "metadata": {},
   "source": [
    "## Combining and splitting arrays\n",
    "\n",
    "Generally, arrays can be combined with the `np.concatenate` function. The arguments are a sequence of arrays to join, and the axis along which to join them (default=0).\n",
    "\n",
    "There are a number of convenience functions that act like concatenate for specific axes:\n",
    "\n",
    " - `np.vstack` – vertical stack (stack along axis=0)\n",
    " - `np.hstack` – horizontal stack (stack along axis=1)\n",
    " - `np.dstack` – depth stack (stack along axis=2)\n",
    "\n"
   ]
  },
  {
   "cell_type": "code",
   "execution_count": 41,
   "metadata": {
    "collapsed": false
   },
   "outputs": [
    {
     "name": "stdout",
     "output_type": "stream",
     "text": [
      "(8, 5, 6)\n",
      "\n",
      "(8, 5, 6)\n",
      "(4, 10, 6)\n",
      "(4, 5, 12)\n",
      "\n",
      "(8, 5, 6)\n",
      "(4, 10, 6)\n",
      "(4, 5, 12)\n"
     ]
    }
   ],
   "source": [
    "x = np.random.rand(4, 5, 6)\n",
    "y = np.random.rand(4, 5, 6)\n",
    "\n",
    "print(np.concatenate((x, y)).shape)\n",
    "print()\n",
    "print(np.concatenate((x, y), axis=0).shape)\n",
    "print(np.concatenate((x, y), axis=1).shape)\n",
    "print(np.concatenate((x, y), axis=2).shape)\n",
    "print()\n",
    "print(np.vstack((x, y)).shape)\n",
    "print(np.hstack((x, y)).shape)\n",
    "print(np.dstack((x, y)).shape)"
   ]
  },
  {
   "cell_type": "markdown",
   "metadata": {},
   "source": [
    "Likewise, arrays can be split with `np.split` or `np.array_split`. There are also convenience functions to split horizontally, vertically, and with depth."
   ]
  },
  {
   "cell_type": "code",
   "execution_count": 42,
   "metadata": {
    "collapsed": false
   },
   "outputs": [
    {
     "data": {
      "text/plain": [
       "[(3, 2, 5), (3, 2, 5), (3, 2, 5), (3, 2, 5)]"
      ]
     },
     "execution_count": 42,
     "metadata": {},
     "output_type": "execute_result"
    }
   ],
   "source": [
    "x = np.random.rand(12, 2, 5)\n",
    "[a.shape for a in np.split(x, 4, axis=0)]"
   ]
  },
  {
   "cell_type": "code",
   "execution_count": 43,
   "metadata": {
    "collapsed": true
   },
   "outputs": [],
   "source": [
    "np.split?"
   ]
  },
  {
   "cell_type": "markdown",
   "metadata": {},
   "source": [
    "---\n",
    "### *Exercise*\n",
    "\n",
    "> Create a random array of shape (40, 50, 60). Split it along axis=1 five ways. Concatenate it along axis=2.\n",
    "\n",
    "> What is the resulting shape?  _[Advanced: can you calculate this on one line?]_\n",
    "\n",
    "---"
   ]
  },
  {
   "cell_type": "code",
   "execution_count": 44,
   "metadata": {
    "collapsed": false
   },
   "outputs": [
    {
     "name": "stdout",
     "output_type": "stream",
     "text": [
      "(40, 10, 300)\n"
     ]
    }
   ],
   "source": [
    "print( np.concatenate( np.split(np.random.rand(40, 50, 60), 5, axis=1) , axis=2).shape )"
   ]
  },
  {
   "cell_type": "markdown",
   "metadata": {},
   "source": [
    "---\n",
    "### *Exercise*\n",
    "\n",
    "> Concatenate newly-defined arrays `b` and `c`: b = np.random.rand(8) and c = np.random.rand(8, 3). Which of the above functions (`hstack`, `vstack`, `dstack`) would make sense with the arrays dimensions? Do you need to make any changes to get this to work?\n",
    "\n",
    "---"
   ]
  },
  {
   "cell_type": "code",
   "execution_count": null,
   "metadata": {
    "collapsed": false
   },
   "outputs": [],
   "source": []
  },
  {
   "cell_type": "markdown",
   "metadata": {},
   "source": [
    "## Flattening arrays with `a.flat` and `a.flatten()`\n",
    "\n",
    "There are two basic ways to turn any array into a 1D array. They are slightly different.\n",
    "\n",
    "`a.flatten()` returns a copy of an array, in one dimension."
   ]
  },
  {
   "cell_type": "code",
   "execution_count": 45,
   "metadata": {
    "collapsed": false
   },
   "outputs": [
    {
     "name": "stdout",
     "output_type": "stream",
     "text": [
      "[[ 0  1  2  3]\n",
      " [ 4  5  6  7]\n",
      " [ 8  9 10 11]]\n",
      "[ 0  1  2  3  4  5  6  7  8  9 10 11]\n"
     ]
    }
   ],
   "source": [
    "a = np.arange(12).reshape(3, 4)\n",
    "print(a)\n",
    "b = a.flatten()\n",
    "print(b)"
   ]
  },
  {
   "cell_type": "markdown",
   "metadata": {},
   "source": [
    "the `flat` attribute on the other hand gives a view of the array in 1D. It looks like an iterator object (like `range` and `zip`). This allows"
   ]
  },
  {
   "cell_type": "code",
   "execution_count": 46,
   "metadata": {
    "collapsed": false
   },
   "outputs": [
    {
     "name": "stdout",
     "output_type": "stream",
     "text": [
      "[[   0    1    2    3]\n",
      " [   4    5 -999    7]\n",
      " [   8    9   10   11]]\n"
     ]
    }
   ],
   "source": [
    "a.flat[6] = -999\n",
    "print(a)"
   ]
  },
  {
   "cell_type": "markdown",
   "metadata": {},
   "source": [
    "In contrast, this does not work as expected.  _WHY?_"
   ]
  },
  {
   "cell_type": "code",
   "execution_count": 47,
   "metadata": {
    "collapsed": false
   },
   "outputs": [
    {
     "name": "stdout",
     "output_type": "stream",
     "text": [
      "[[   0    1    2    3]\n",
      " [   4    5 -999    7]\n",
      " [   8    9   10   11]]\n"
     ]
    }
   ],
   "source": [
    "a.flatten()[5] = -888\n",
    "print(a)"
   ]
  },
  {
   "cell_type": "markdown",
   "metadata": {},
   "source": [
    "Other operations can be done to the array first. For example, we can take a transpose of the array before we flatten it."
   ]
  },
  {
   "cell_type": "code",
   "execution_count": 48,
   "metadata": {
    "collapsed": false
   },
   "outputs": [
    {
     "name": "stdout",
     "output_type": "stream",
     "text": [
      "[[   0    1 -998    3]\n",
      " [   4    5 -999    7]\n",
      " [   8    9   10   11]]\n"
     ]
    }
   ],
   "source": [
    "a.T.flat[6] = -998\n",
    "print(a)"
   ]
  },
  {
   "cell_type": "markdown",
   "metadata": {},
   "source": [
    "Here, the `T` attribute (equivalent to the `a.transpose()` method) gives a view of the array transposed (similar to MATLAB's tick notation)."
   ]
  },
  {
   "cell_type": "code",
   "execution_count": 49,
   "metadata": {
    "collapsed": false
   },
   "outputs": [
    {
     "name": "stdout",
     "output_type": "stream",
     "text": [
      "[[   0    4    8]\n",
      " [   1    5    9]\n",
      " [-998 -999   10]\n",
      " [   3    7   11]]\n"
     ]
    }
   ],
   "source": [
    "print(a.T)"
   ]
  },
  {
   "cell_type": "markdown",
   "metadata": {},
   "source": [
    "## Creating standard arrays\n",
    "\n",
    "There are a few standard arrays, for example, arrays filled with zeros or ones (or empty). Here are some examples of creating arrays"
   ]
  },
  {
   "cell_type": "code",
   "execution_count": 50,
   "metadata": {
    "collapsed": false
   },
   "outputs": [
    {
     "data": {
      "text/plain": [
       "array([[ True,  True,  True],\n",
       "       [ True,  True,  True]], dtype=bool)"
      ]
     },
     "execution_count": 50,
     "metadata": {},
     "output_type": "execute_result"
    }
   ],
   "source": [
    "o = np.ones((3, 4, 5))    # The argument is a shape, so is a tuple with the length of each dimension as an argument\n",
    "b = np.ones((2, 3), dtype=np.bool)\n",
    "z = np.zeros((2, 3), dtype=np.float32)\n",
    "\n",
    "b"
   ]
  },
  {
   "cell_type": "markdown",
   "metadata": {},
   "source": [
    "You can also create these arrays with the same shape and datatype of the input array using `np.ones_like` and `np.zeros_like`."
   ]
  },
  {
   "cell_type": "code",
   "execution_count": 51,
   "metadata": {
    "collapsed": false
   },
   "outputs": [
    {
     "data": {
      "text/plain": [
       "array([[False, False, False],\n",
       "       [False, False, False]], dtype=bool)"
      ]
     },
     "execution_count": 51,
     "metadata": {},
     "output_type": "execute_result"
    }
   ],
   "source": [
    "zb = np.zeros_like(b)\n",
    "zb"
   ]
  },
  {
   "cell_type": "markdown",
   "metadata": {},
   "source": [
    "You can also create a diagonal array with a given vector along the diagonal. These can be offset with an optional argument `k` (default=0). This example creates a tri-diagonal array similar to that used for finite difference calculations"
   ]
  },
  {
   "cell_type": "code",
   "execution_count": 52,
   "metadata": {
    "collapsed": false
   },
   "outputs": [
    {
     "data": {
      "text/plain": [
       "array([[-2.,  1.,  0.,  0.,  0.,  0.],\n",
       "       [ 1., -2.,  1.,  0.,  0.,  0.],\n",
       "       [ 0.,  1., -2.,  1.,  0.,  0.],\n",
       "       [ 0.,  0.,  1., -2.,  1.,  0.],\n",
       "       [ 0.,  0.,  0.,  1., -2.,  1.],\n",
       "       [ 0.,  0.,  0.,  0.,  1., -2.]])"
      ]
     },
     "execution_count": 52,
     "metadata": {},
     "output_type": "execute_result"
    }
   ],
   "source": [
    "np.diag(-2*np.ones(6)) + np.diag(np.ones(5), k=-1) + np.diag(np.ones(5), k=1)"
   ]
  },
  {
   "cell_type": "markdown",
   "metadata": {},
   "source": [
    "There are also a number of ways to generate sequences of numbers.\n",
    " - `np.arange([start,] stop [[, stride]])` Create a sequence of numbers, similar to `range`\n",
    " - `np.linspace(min, max, length)` Create a uniform series of specified `length` between `min` and `max`, inclusive.\n",
    " - `np.logspace(minpow, maxpow, length)` Create a uniform series in logspace of specified `length` between `10**minpow` and `10**maxpow`, inclusive.\n",
    " "
   ]
  },
  {
   "cell_type": "code",
   "execution_count": 53,
   "metadata": {
    "collapsed": false
   },
   "outputs": [
    {
     "data": {
      "text/plain": [
       "array([ 0.,  1.,  2.,  3.,  4.,  5.,  6.,  7.,  8.,  9.])"
      ]
     },
     "execution_count": 53,
     "metadata": {},
     "output_type": "execute_result"
    }
   ],
   "source": [
    "np.arange(10.)"
   ]
  },
  {
   "cell_type": "code",
   "execution_count": 54,
   "metadata": {
    "collapsed": false
   },
   "outputs": [
    {
     "data": {
      "text/plain": [
       "array([2, 4, 6, 8])"
      ]
     },
     "execution_count": 54,
     "metadata": {},
     "output_type": "execute_result"
    }
   ],
   "source": [
    "np.arange(2, 10, 2)"
   ]
  },
  {
   "cell_type": "code",
   "execution_count": 55,
   "metadata": {
    "collapsed": false
   },
   "outputs": [
    {
     "data": {
      "text/plain": [
       "array([ 2.   ,  2.125,  2.25 ,  2.375,  2.5  ,  2.625,  2.75 ,  2.875,\n",
       "        3.   ,  3.125,  3.25 ,  3.375,  3.5  ,  3.625,  3.75 ,  3.875,  4.   ])"
      ]
     },
     "execution_count": 55,
     "metadata": {},
     "output_type": "execute_result"
    }
   ],
   "source": [
    "np.linspace(2, 4, 17)"
   ]
  },
  {
   "cell_type": "code",
   "execution_count": 56,
   "metadata": {
    "collapsed": false
   },
   "outputs": [
    {
     "data": {
      "text/plain": [
       "array([  1.00000000e-02,   3.16227766e-02,   1.00000000e-01,\n",
       "         3.16227766e-01,   1.00000000e+00,   3.16227766e+00,\n",
       "         1.00000000e+01,   3.16227766e+01,   1.00000000e+02])"
      ]
     },
     "execution_count": 56,
     "metadata": {},
     "output_type": "execute_result"
    }
   ],
   "source": [
    "np.logspace(-2, 2, 9)"
   ]
  },
  {
   "cell_type": "markdown",
   "metadata": {},
   "source": [
    "## Finding values\n",
    "\n",
    "There are a number of ways to find values in an array. The simplest is always to create a boolean array, like"
   ]
  },
  {
   "cell_type": "code",
   "execution_count": 57,
   "metadata": {
    "collapsed": false
   },
   "outputs": [
    {
     "name": "stdout",
     "output_type": "stream",
     "text": [
      "[[ 0.11873289  0.40188555  0.96426409  0.60360203  0.54526375]\n",
      " [ 0.20289134  0.98457289  0.3847002   0.00733166  0.63739985]\n",
      " [ 0.50234835  0.25930096  0.36977497  0.05787961  0.95391643]\n",
      " [ 0.02016065  0.69361985  0.5945571   0.381457    0.33079702]\n",
      " [ 0.62571904  0.18626591  0.35990447  0.65804042  0.12489787]]\n",
      "[[False False  True  True  True]\n",
      " [False  True False False  True]\n",
      " [ True False False False  True]\n",
      " [False  True  True False False]\n",
      " [ True False False  True False]]\n"
     ]
    }
   ],
   "source": [
    "x = np.random.rand(5, 5)\n",
    "print(x)\n",
    "ind = x > 0.5\n",
    "print(ind)"
   ]
  },
  {
   "cell_type": "code",
   "execution_count": 59,
   "metadata": {
    "collapsed": false
   },
   "outputs": [
    {
     "data": {
      "text/plain": [
       "array([ 0.96426409,  0.60360203,  0.54526375,  0.98457289,  0.63739985,\n",
       "        0.50234835,  0.95391643,  0.69361985,  0.5945571 ,  0.62571904,\n",
       "        0.65804042])"
      ]
     },
     "execution_count": 59,
     "metadata": {},
     "output_type": "execute_result"
    }
   ],
   "source": [
    "y = np.random.rand(5, 5)\n",
    "y[x>0.5]"
   ]
  },
  {
   "cell_type": "code",
   "execution_count": null,
   "metadata": {
    "collapsed": true
   },
   "outputs": [],
   "source": []
  },
  {
   "cell_type": "markdown",
   "metadata": {},
   "source": [
    "The boolean array can be used as an index to other arrays. Note this will return a 1D array, no matter what dimension the origial arrays are, because there is no way to know what structure the true values have."
   ]
  },
  {
   "cell_type": "code",
   "execution_count": 60,
   "metadata": {
    "collapsed": false
   },
   "outputs": [
    {
     "data": {
      "text/plain": [
       "array([ 0.63127609,  0.775866  ,  0.71526395,  0.77716728,  0.66380859,\n",
       "        0.57566832,  0.77979431,  0.79410003,  0.81556793,  0.82887742])"
      ]
     },
     "execution_count": 60,
     "metadata": {},
     "output_type": "execute_result"
    }
   ],
   "source": [
    "x = np.random.rand(5, 5)\n",
    "y = np.sin(x)\n",
    "\n",
    "y[x > 0.5]\n",
    "# or, equivalently, as two lines\n",
    "idx = x > 0.5\n",
    "y[idx]"
   ]
  },
  {
   "cell_type": "markdown",
   "metadata": {},
   "source": [
    "To get the indices of the places where the conditional is true (i.e., the locations of the `True` values in the boolean array), use the `np.where` command. "
   ]
  },
  {
   "cell_type": "code",
   "execution_count": 61,
   "metadata": {
    "collapsed": false
   },
   "outputs": [
    {
     "data": {
      "text/plain": [
       "(array([0, 0, 0, 1, 1, 1, 3, 3, 3, 4]), array([1, 2, 3, 0, 2, 3, 1, 3, 4, 3]))"
      ]
     },
     "execution_count": 61,
     "metadata": {},
     "output_type": "execute_result"
    }
   ],
   "source": [
    "x = np.random.rand(5, 5)\n",
    "idx = np.where(x > 0.5)\n",
    "idx"
   ]
  },
  {
   "cell_type": "code",
   "execution_count": 68,
   "metadata": {
    "collapsed": false
   },
   "outputs": [
    {
     "data": {
      "text/plain": [
       "(array([0, 1, 2]),)"
      ]
     },
     "execution_count": 68,
     "metadata": {},
     "output_type": "execute_result"
    }
   ],
   "source": [
    "x = np.random.rand(5)\n",
    "np.where(x > 0.5)"
   ]
  },
  {
   "cell_type": "code",
   "execution_count": null,
   "metadata": {
    "collapsed": true
   },
   "outputs": [],
   "source": []
  },
  {
   "cell_type": "markdown",
   "metadata": {},
   "source": [
    "Note that `np.where` ~always returns a tuple of indices for each dimension. This is a little strange for 1D arrays, but is done for consistency across all input values. Often, you will want to explicitly pull out the (single) array of indices from the tuple, like"
   ]
  },
  {
   "cell_type": "code",
   "execution_count": null,
   "metadata": {
    "collapsed": false
   },
   "outputs": [],
   "source": [
    "x = np.random.rand(10)\n",
    "idx = np.where(x>0.5)[0]\n",
    "print(idx)"
   ]
  },
  {
   "cell_type": "markdown",
   "metadata": {},
   "source": [
    "_What happens with the [0] is missing behind the call to `where`?_"
   ]
  },
  {
   "cell_type": "markdown",
   "metadata": {},
   "source": [
    "---\n",
    "### *Exercise*\n",
    "\n",
    "> You can also use these calculated indices, or boolean matricies on the left hand side for assignment.\n",
    "\n",
    "> Create a 10x10 random array, with values between 0 and 1. Replace all of the numbers smaller than 0.5 with zero.\n",
    "\n",
    "---"
   ]
  },
  {
   "cell_type": "code",
   "execution_count": 75,
   "metadata": {
    "collapsed": false
   },
   "outputs": [
    {
     "data": {
      "text/plain": [
       "array([[ 0.54460911,  0.        ,  0.80238189,  0.62070015,  0.        ,\n",
       "         0.94004015,  0.        ,  0.        ,  0.72038213,  0.        ],\n",
       "       [ 0.        ,  0.58304075,  0.61788918,  0.        ,  0.        ,\n",
       "         0.92610982,  0.88596625,  0.70450082,  0.7197461 ,  0.73425021],\n",
       "       [ 0.60667752,  0.        ,  0.        ,  0.        ,  0.61179269,\n",
       "         0.        ,  0.        ,  0.98498925,  0.94464754,  0.6614633 ],\n",
       "       [ 0.        ,  0.9590715 ,  0.        ,  0.        ,  0.6755507 ,\n",
       "         0.        ,  0.87500321,  0.59201391,  0.70415043,  0.63323311],\n",
       "       [ 0.61086217,  0.76021368,  0.        ,  0.72044474,  0.60422162,\n",
       "         0.82445867,  0.        ,  0.74989426,  0.9646105 ,  0.51751842],\n",
       "       [ 0.        ,  0.        ,  0.8039365 ,  0.        ,  0.        ,\n",
       "         0.61390564,  0.        ,  0.88862019,  0.        ,  0.76083366],\n",
       "       [ 0.96436955,  0.79114161,  0.        ,  0.        ,  0.        ,\n",
       "         0.        ,  0.89853331,  0.70500057,  0.60749978,  0.93083929],\n",
       "       [ 0.59330377,  0.        ,  0.86204624,  0.        ,  0.76176823,\n",
       "         0.66800801,  0.        ,  0.9829303 ,  0.        ,  0.58186524],\n",
       "       [ 0.        ,  0.        ,  0.        ,  0.63302706,  0.        ,\n",
       "         0.        ,  0.        ,  0.        ,  0.        ,  0.7445818 ],\n",
       "       [ 0.        ,  0.59146375,  0.        ,  0.89671582,  0.52236908,\n",
       "         0.52122848,  0.51936179,  0.59116519,  0.7435436 ,  0.        ]])"
      ]
     },
     "execution_count": 75,
     "metadata": {},
     "output_type": "execute_result"
    }
   ],
   "source": [
    "x = np.random.rand(10, 10)\n",
    "x[x<0.5] = 0 \n",
    "x"
   ]
  },
  {
   "cell_type": "code",
   "execution_count": null,
   "metadata": {
    "collapsed": true
   },
   "outputs": [],
   "source": [
    "x = np.random.rand"
   ]
  },
  {
   "cell_type": "markdown",
   "metadata": {},
   "source": [
    "## Importing data\n",
    "\n",
    "One of the basic commands in numpy for loading in data is the `loadtxt` command. There are other ways to do this, such as the [`genfromtxt`](http://docs.scipy.org/doc/numpy-dev/user/basics.io.genfromtxt.html) command, but `loadtxt` is sufficient for most purposes, and is easy to use."
   ]
  },
  {
   "cell_type": "code",
   "execution_count": 77,
   "metadata": {
    "collapsed": false
   },
   "outputs": [
    {
     "data": {
      "text/plain": [
       "array([[  2.013   ,   2.      ,  26.5827  ,  26.5823  ,   4.575059,\n",
       "         28.6303  ,  18.0579  ,   4.62032 ,   3.1596  ,  56.9022  ,\n",
       "          2.8503  ,   0.62493 ,   0.3862  ,   3.9016  ,   2.6426  ,\n",
       "          2.5965  ,   1.731   ],\n",
       "       [  2.515   ,   2.5     ,  25.9263  ,  25.9258  ,   4.727182,\n",
       "         30.1208  ,  19.3798  ,   4.37469 ,   3.0143  ,  60.8058  ,\n",
       "          3.0417  ,   0.55938 ,   0.339   ,   3.7094  ,   2.6212  ,\n",
       "          2.6264  ,   1.751   ],\n",
       "       [  3.02    ,   3.      ,  25.3695  ,  25.3688  ,   4.983968,\n",
       "         32.35    ,  21.2286  ,   4.04875 ,   2.8266  ,  74.4409  ,\n",
       "          3.7104  ,   0.49003 ,   0.2819  ,   2.6419  ,   2.4727  ,\n",
       "          2.3413  ,   1.5609  ],\n",
       "       [  3.524   ,   3.5     ,  25.2304  ,  25.2296  ,   5.016042,\n",
       "         32.6833  ,  21.5222  ,   3.86168 ,   2.7138  ,  77.8474  ,\n",
       "          3.8774  ,   0.44482 ,   0.2396  ,   1.9937  ,   2.3524  ,\n",
       "          1.8684  ,   1.2456  ],\n",
       "       [  4.026   ,   4.      ,  24.568   ,  24.5671  ,   5.051934,\n",
       "         33.4325  ,  22.2871  ,   3.42057 ,   2.4863  ,  80.6842  ,\n",
       "          4.0166  ,   0.4113  ,   0.2056  ,   1.5597  ,   2.2455  ,\n",
       "          1.7666  ,   1.1777  ],\n",
       "       [  4.531   ,   4.5     ,  24.6885  ,  24.6875  ,   5.193132,\n",
       "         34.3913  ,  22.9757  ,   3.66067 ,   2.6229  ,  83.2554  ,\n",
       "          4.1427  ,   0.38664 ,   0.1791  ,   0.9636  ,   2.0401  ,\n",
       "          1.6703  ,   1.1135  ],\n",
       "       [  5.034   ,   5.      ,  24.7855  ,  24.7844  ,   5.241169,\n",
       "         34.6742  ,  23.1603  ,   3.7742  ,   2.686   ,  82.4341  ,\n",
       "          4.1024  ,   0.3765  ,   0.1675  ,   0.6497  ,   1.8711  ,\n",
       "          1.6017  ,   1.0678  ],\n",
       "       [  5.538   ,   5.5     ,  24.7213  ,  24.7201  ,   5.263355,\n",
       "         34.8889  ,  23.342   ,   3.80708 ,   2.7     ,  81.7989  ,\n",
       "          4.0712  ,   0.36692 ,   0.1563  ,   0.5132  ,   1.775   ,\n",
       "          1.5905  ,   1.0603  ],\n",
       "       [  6.04    ,   6.      ,  24.5692  ,  24.5679  ,   5.285194,\n",
       "         35.1705  ,  23.6008  ,   3.78426 ,   2.6834  ,  82.4157  ,\n",
       "          4.1015  ,   0.35886 ,   0.1467  ,   0.4507  ,   1.7205  ,\n",
       "          1.6583  ,   1.1056  ],\n",
       "       [  6.545   ,   6.5     ,  24.3945  ,  24.3931  ,   5.285643,\n",
       "         35.3111  ,  23.7597  ,   3.64367 ,   2.6034  ,  83.0791  ,\n",
       "          4.134   ,   0.35486 ,   0.1418  ,   0.4163  ,   1.6878  ,\n",
       "          1.6521  ,   1.1014  ],\n",
       "       [  7.047   ,   7.      ,  24.3252  ,  24.3237  ,   5.299917,\n",
       "         35.4731  ,  23.9031  ,   3.52267 ,   2.534   ,  83.8917  ,\n",
       "          4.1739  ,   0.35048 ,   0.1364  ,   0.4251  ,   1.6965  ,\n",
       "          1.6019  ,   1.068   ],\n",
       "       [  7.551   ,   7.5     ,  24.2424  ,  24.2408  ,   5.301194,\n",
       "         35.5484  ,  23.9849  ,   3.47868 ,   2.5075  ,  84.3093  ,\n",
       "          4.1943  ,   0.34609 ,   0.1309  ,   0.4295  ,   1.7007  ,\n",
       "          1.5436  ,   1.0291  ],\n",
       "       [  8.055   ,   8.      ,  24.1822  ,  24.1805  ,   5.298561,\n",
       "         35.5763  ,  24.024   ,   3.46935 ,   2.4986  ,  84.2073  ,\n",
       "          4.1893  ,   0.34559 ,   0.1303  ,   0.4557  ,   1.7255  ,\n",
       "          1.5279  ,   1.0186  ],\n",
       "       [  8.558   ,   8.5     ,  24.1057  ,  24.1039  ,   5.294033,\n",
       "         35.6029  ,  24.067   ,   3.46966 ,   2.4961  ,  83.9218  ,\n",
       "          4.1754  ,   0.34049 ,   0.1238  ,   0.4944  ,   1.7596  ,\n",
       "          1.5275  ,   1.0183  ],\n",
       "       [  9.06    ,   9.      ,  23.9863  ,  23.9844  ,   5.290402,\n",
       "         35.6708  ,  24.154   ,   3.44662 ,   2.4813  ,  84.2771  ,\n",
       "          4.1928  ,   0.33726 ,   0.1197  ,   0.4986  ,   1.7632  ,\n",
       "          1.5505  ,   1.0336  ],\n",
       "       [  9.567   ,   9.5     ,  23.9235  ,  23.9215  ,   5.290679,\n",
       "         35.7231  ,  24.2123  ,   3.43409 ,   2.4702  ,  84.8025  ,\n",
       "          4.2185  ,   0.33329 ,   0.1146  ,   0.5074  ,   1.7705  ,\n",
       "          1.5558  ,   1.0372  ],\n",
       "       [ 10.067   ,  10.      ,  23.8288  ,  23.8267  ,   5.283119,\n",
       "         35.7416  ,  24.2544  ,   3.42576 ,   2.4632  ,  85.0635  ,\n",
       "          4.2313  ,   0.33077 ,   0.1113  ,   0.5162  ,   1.7777  ,\n",
       "          1.5155  ,   1.0103  ],\n",
       "       [ 10.571   ,  10.5     ,  23.7446  ,  23.7424  ,   5.276477,\n",
       "         35.7587  ,  24.2922  ,   3.43403 ,   2.4655  ,  85.3002  ,\n",
       "          4.2429  ,   0.32903 ,   0.109   ,   0.5069  ,   1.7701  ,\n",
       "          1.5265  ,   1.0177  ],\n",
       "       [ 11.076   ,  11.      ,  23.6302  ,  23.6279  ,   5.264635,\n",
       "         35.7604  ,  24.3272  ,   3.42438 ,   2.4636  ,  85.1457  ,\n",
       "          4.2354  ,   0.32783 ,   0.1074  ,   0.496   ,   1.761   ,\n",
       "          1.5267  ,   1.0178  ],\n",
       "       [ 11.578   ,  11.5     ,  23.711   ,  23.7086  ,   5.284763,\n",
       "         35.8487  ,  24.3704  ,   3.43764 ,   2.4638  ,  85.4358  ,\n",
       "          4.2496  ,   0.32717 ,   0.1065  ,   0.4916  ,   1.7572  ,\n",
       "          1.5157  ,   1.0105  ],\n",
       "       [ 12.081   ,  12.      ,  23.6082  ,  23.6057  ,   5.27541 ,\n",
       "         35.8603  ,  24.4095  ,   3.36434 ,   2.4213  ,  85.9359  ,\n",
       "          4.2741  ,   0.32633 ,   0.1054  ,   0.4552  ,   1.7243  ,\n",
       "          1.5121  ,   1.0081  ],\n",
       "       [ 12.587   ,  12.5     ,  23.4458  ,  23.4432  ,   5.257677,\n",
       "         35.856   ,  24.4539  ,   3.18706 ,   2.3248  ,  86.0294  ,\n",
       "          4.2787  ,   0.32615 ,   0.1052  ,   0.3793  ,   1.6496  ,\n",
       "          1.5069  ,   1.0046  ],\n",
       "       [ 13.088   ,  13.      ,  23.4764  ,  23.4737  ,   5.268183,\n",
       "         35.9116  ,  24.4871  ,   3.09821 ,   2.2753  ,  85.5425  ,\n",
       "          4.2548  ,   0.32522 ,   0.104   ,   0.3807  ,   1.6506  ,\n",
       "          1.4974  ,   0.9983  ],\n",
       "       [ 13.591   ,  13.5     ,  23.4612  ,  23.4584  ,   5.267762,\n",
       "         35.9205  ,  24.4984  ,   3.07823 ,   2.2635  ,  85.2657  ,\n",
       "          4.2413  ,   0.32498 ,   0.1036  ,   0.3578  ,   1.6248  ,\n",
       "          1.5346  ,   1.0231  ],\n",
       "       [ 14.096   ,  14.      ,  23.4353  ,  23.4324  ,   5.264903,\n",
       "         35.9195  ,  24.5052  ,   3.05358 ,   2.2483  ,  84.5898  ,\n",
       "          4.2081  ,   0.32371 ,   0.1019  ,   0.3382  ,   1.6016  ,\n",
       "          1.5619  ,   1.0412  ],\n",
       "       [ 14.599   ,  14.5     ,  23.4063  ,  23.4033  ,   5.261464,\n",
       "         35.9165  ,  24.5115  ,   3.01636 ,   2.2263  ,  84.6701  ,\n",
       "          4.212   ,   0.3233  ,   0.1013  ,   0.3309  ,   1.5927  ,\n",
       "          1.5621  ,   1.0414  ],\n",
       "       [ 15.102   ,  15.      ,  23.358   ,  23.3549  ,   5.255675,\n",
       "         35.9111  ,  24.5216  ,   2.96978 ,   2.1993  ,  83.9191  ,\n",
       "          4.1752  ,   0.32317 ,   0.1011  ,   0.3299  ,   1.5914  ,\n",
       "          1.6069  ,   1.0713  ],\n",
       "       [ 15.605   ,  15.5     ,  23.3041  ,  23.3009  ,   5.249433,\n",
       "         35.9069  ,  24.5341  ,   2.88443 ,   2.1502  ,  81.1542  ,\n",
       "          4.0396  ,   0.32255 ,   0.1003  ,   0.3081  ,   1.5633  ,\n",
       "          1.6936  ,   1.129   ],\n",
       "       [ 16.11    ,  16.      ,  23.2337  ,  23.2304  ,   5.241798,\n",
       "         35.9053  ,  24.5535  ,   2.73975 ,   2.069   ,  74.5688  ,\n",
       "          3.7167  ,   0.32235 ,   0.1001  ,   0.3045  ,   1.5584  ,\n",
       "          1.8209  ,   1.214   ],\n",
       "       [ 16.612   ,  16.5     ,  23.1621  ,  23.1587  ,   5.234012,\n",
       "         35.9035  ,  24.573   ,   2.58368 ,   1.984   ,  65.1178  ,\n",
       "          3.2532  ,   0.32243 ,   0.1002  ,   0.2852  ,   1.5315  ,\n",
       "          2.2357  ,   1.4905  ],\n",
       "       [ 17.116   ,  17.      ,  23.1239  ,  23.1204  ,   5.229688,\n",
       "         35.9011  ,  24.5823  ,   2.4569  ,   1.9128  ,  58.2498  ,\n",
       "          2.9164  ,   0.32238 ,   0.1001  ,   0.2765  ,   1.519   ,\n",
       "          2.8591  ,   1.9061  ],\n",
       "       [ 17.619   ,  17.5     ,  23.045   ,  23.0414  ,   5.220671,\n",
       "         35.8957  ,  24.6011  ,   2.27295 ,   1.8119  ,  47.6081  ,\n",
       "          2.3945  ,   0.32241 ,   0.1002  ,   0.2598  ,   1.4936  ,\n",
       "          3.8565  ,   2.571   ],\n",
       "       [ 18.123   ,  18.      ,  23.0066  ,  23.0029  ,   5.216195,\n",
       "         35.8923  ,  24.6097  ,   2.16211 ,   1.7508  ,  41.5527  ,\n",
       "          2.0975  ,   0.32158 ,   0.099   ,   0.2406  ,   1.4625  ,\n",
       "          4.9708  ,   3.3139  ],\n",
       "       [ 18.626   ,  18.5     ,  22.9947  ,  22.9909  ,   5.214803,\n",
       "         35.891   ,  24.6122  ,   2.12785 ,   1.732   ,  39.7434  ,\n",
       "          2.0088  ,   0.32075 ,   0.098   ,   0.2415  ,   1.464   ,\n",
       "          5.4901  ,   3.6601  ],\n",
       "       [ 19.129   ,  19.      ,  22.9833  ,  22.9794  ,   5.213493,\n",
       "         35.8901  ,  24.6148  ,   2.09126 ,   1.712   ,  38.8811  ,\n",
       "          1.9665  ,   0.32066 ,   0.0978  ,   0.2388  ,   1.4596  ,\n",
       "          5.2755  ,   3.517   ],\n",
       "       [ 19.633   ,  19.5     ,  22.9804  ,  22.9764  ,   5.213144,\n",
       "         35.8895  ,  24.6153  ,   2.08627 ,   1.7092  ,  36.7616  ,\n",
       "          1.8626  ,   0.32065 ,   0.0978  ,   0.2401  ,   1.4615  ,\n",
       "          6.0477  ,   4.0318  ],\n",
       "       [ 20.133   ,  20.      ,  22.9798  ,  22.9757  ,   5.21312 ,\n",
       "         35.8897  ,  24.6156  ,   2.07638 ,   1.7039  ,  36.5524  ,\n",
       "          1.8523  ,   0.32527 ,   0.104   ,   0.2352  ,   1.4535  ,\n",
       "          6.4111  ,   4.2741  ]])"
      ]
     },
     "execution_count": 77,
     "metadata": {},
     "output_type": "execute_result"
    }
   ],
   "source": [
    "data = np.loadtxt('../data/CTD.txt', comments='*')\n",
    "data[:,2]    # a column of data representing temperature\n",
    "data"
   ]
  },
  {
   "cell_type": "markdown",
   "metadata": {},
   "source": [
    "## Linear algebra\n",
    "\n",
    "One of the key elements of the `numpy` package is the `numpy.linalg` subpackage that contains a number of linear algebra functions that work efficiently on arrays."
   ]
  },
  {
   "cell_type": "code",
   "execution_count": 78,
   "metadata": {
    "collapsed": false
   },
   "outputs": [],
   "source": [
    "a = np.random.randn(100, 100)\n",
    "e, v = np.linalg.eig(a)\n",
    "\n",
    "b = np.random.randn(500, 200)\n",
    "u, s, v = np.linalg.svd(b)"
   ]
  },
  {
   "cell_type": "markdown",
   "metadata": {},
   "source": [
    "Matrix multiplication is done using the `np.dot` function. In this case, matrices do _not_ need to be the same shape, but must follow the rules of matrix multiplication. E.g., the operation dot(<4x5 array>, <5x12 array>) results in a 4x12 array; i.e., the inner dimensions must match (technically last and second-to-last, for arrays with more than two dimensions).   "
   ]
  },
  {
   "cell_type": "code",
   "execution_count": 81,
   "metadata": {
    "collapsed": false
   },
   "outputs": [
    {
     "name": "stdout",
     "output_type": "stream",
     "text": [
      "(4, 12)\n"
     ]
    }
   ],
   "source": [
    "x = np.random.rand(4, 5)\n",
    "y = np.random.rand(5, 12)\n",
    "\n",
    "res = np.dot(x, y)\n",
    "print(res.shape)\n",
    "\n",
    "# np.dot(y, x)  # This gives an error -- order is important."
   ]
  },
  {
   "cell_type": "markdown",
   "metadata": {},
   "source": [
    "## Polynomial fitting\n",
    "\n",
    "The basic function for fitting a polynomial (e.g., a straight line) is `np.polyfit(x, y, deg)`. There are a number of other functions that let you add (`np.polyadd`), multiply (`np.polymul`), find zeros (`np.roots`), and do other operations to polynomials."
   ]
  },
  {
   "cell_type": "code",
   "execution_count": 89,
   "metadata": {
    "collapsed": false
   },
   "outputs": [
    {
     "name": "stdout",
     "output_type": "stream",
     "text": [
      "[ 2.98676281  4.99327375]\n"
     ]
    }
   ],
   "source": [
    "x = np.random.rand(100)\n",
    "y = 5 + 3*x + 0.1*np.random.randn(100)   # A line with some noise\n",
    "\n",
    "p = np.polyfit(x, y, 1)\n",
    "print(p)  # The coefficients of the polynomial, with highest order first. (i.e,. [slope, intercept])"
   ]
  },
  {
   "cell_type": "code",
   "execution_count": 90,
   "metadata": {
    "collapsed": false
   },
   "outputs": [
    {
     "data": {
      "text/plain": [
       "7.9800365590356073"
      ]
     },
     "execution_count": 90,
     "metadata": {},
     "output_type": "execute_result"
    }
   ],
   "source": [
    "np.polyval(p, 1)"
   ]
  },
  {
   "cell_type": "code",
   "execution_count": null,
   "metadata": {
    "collapsed": true
   },
   "outputs": [],
   "source": []
  },
  {
   "cell_type": "markdown",
   "metadata": {},
   "source": [
    "You can also use the `np.polynomial.Polynomial` class to work with polynomials. Note, these define polynomials the opposite way, with the _lowest_ order first. The Polynomial class gives an excellent example of operator overloading, and the flexibility of classes."
   ]
  },
  {
   "cell_type": "code",
   "execution_count": 91,
   "metadata": {
    "collapsed": false
   },
   "outputs": [
    {
     "name": "stdout",
     "output_type": "stream",
     "text": [
      "Evaluation\n",
      "p1(0.0) =  5.0\n",
      "p1(5.0) =  483.0\n",
      "\n",
      "Roots\n",
      "Roots of p2 =  [-3.21124270+0.j         -0.39437865-0.55818847j -0.39437865+0.55818847j]\n",
      "\n",
      "Operations\n",
      "p1 + p2 =  poly([ 8.  9.  8.  2.])\n",
      "p1 * p2 =  poly([ 15.  39.  58.  34.   6.])\n",
      "\n",
      "Calculus\n",
      "Derivative of p1 poly([ 3.])\n",
      "Inegral of p2 poly([ 1.          2.          1.5         0.66666667  0.125       0.05\n",
      "  0.02222222  0.00238095])\n"
     ]
    }
   ],
   "source": [
    "p1 = np.polynomial.Polynomial([5, 3])         # y = 5 + 3 x\n",
    "p2 = np.polynomial.Polynomial([3, 6, 8, 2])   # y = 3 + 6 x + 8 x**2 + 2 x**3\n",
    "\n",
    "print('Evaluation')\n",
    "print('p1(0.0) = ', p1(0))\n",
    "print('p1(5.0) = ', p2(5))\n",
    "print()\n",
    "print('Roots')\n",
    "print('Roots of p2 = ', p2.roots())\n",
    "print()\n",
    "print('Operations')\n",
    "print('p1 + p2 = ', p1 + p2)\n",
    "print('p1 * p2 = ', p1 * p2)\n",
    "print()\n",
    "print('Calculus')\n",
    "print('Derivative of p1', p1.deriv(1))\n",
    "print('Inegral of p2', p2.integ(4, k=[4, 3, 2, 1]))"
   ]
  },
  {
   "cell_type": "code",
   "execution_count": null,
   "metadata": {
    "collapsed": true
   },
   "outputs": [],
   "source": [
    "np.polynomial."
   ]
  },
  {
   "cell_type": "markdown",
   "metadata": {},
   "source": [
    "## Basic performance evaluation\n",
    "\n",
    "We can do some very basic perfomance testing using the `%time` special function in jupyter notebooks. Lets use this to examine the time it takes to do a singular value decomposition for different sized matricies."
   ]
  },
  {
   "cell_type": "code",
   "execution_count": 97,
   "metadata": {
    "collapsed": false
   },
   "outputs": [
    {
     "name": "stdout",
     "output_type": "stream",
     "text": [
      "CPU times: user 1min 54s, sys: 6min 18s, total: 8min 12s\n",
      "Wall time: 28 s\n"
     ]
    }
   ],
   "source": [
    "b = np.random.randn(5000, 2000)\n",
    "%time u, s, v = np.linalg.svd(b)"
   ]
  },
  {
   "cell_type": "markdown",
   "metadata": {},
   "source": [
    "If the time might change, say based on the values chosen, the `%timeit` function can be used to perform the test a number of times to get an average calculation time."
   ]
  },
  {
   "cell_type": "code",
   "execution_count": 96,
   "metadata": {
    "collapsed": false
   },
   "outputs": [
    {
     "name": "stdout",
     "output_type": "stream",
     "text": [
      "1000 loops, best of 3: 465 µs per loop\n"
     ]
    }
   ],
   "source": [
    "%timeit b = np.random.randn(50, 20); u, s, v = np.linalg.svd(b)"
   ]
  },
  {
   "cell_type": "markdown",
   "metadata": {},
   "source": [
    "For statements that are longer than a single line, the `time.time` function can be used."
   ]
  },
  {
   "cell_type": "code",
   "execution_count": 100,
   "metadata": {
    "collapsed": false
   },
   "outputs": [
    {
     "name": "stdout",
     "output_type": "stream",
     "text": [
      "0.2506 seconds have passed.\n"
     ]
    }
   ],
   "source": [
    "import time\n",
    "\n",
    "t_start = time.time()\n",
    "time.sleep(0.25)   # Do nothing for 0.25 seconds\n",
    "t_stop = time.time()\n",
    "\n",
    "print('{:6.4f} seconds have passed.'.format(t_stop-t_start))"
   ]
  },
  {
   "cell_type": "markdown",
   "metadata": {},
   "source": [
    "## Masked arrays\n",
    "\n",
    "Masked arrays are ways to create arrays with missing values. MATLAB&trade; uses NaNs (NaN stands for 'Not a Number'), and the NaNs are the values of the arrays at those points. This approach also works in Python. Masked arrays are preferred since they retain the masked array vaules, and also some plotting routines require masked arrays when plotting arrays with missing values. Masked arrays are usually created through some condition, like"
   ]
  },
  {
   "cell_type": "code",
   "execution_count": 109,
   "metadata": {
    "collapsed": false
   },
   "outputs": [
    {
     "name": "stdout",
     "output_type": "stream",
     "text": [
      "[[1.5044880900401147 -- -- -- -- -- -0.8559097651680614\n",
      "  -0.10830818402423435]\n",
      " [-- -- -- -- -- -- -- --]\n",
      " [-- -- -- -- -- -- -- --]\n",
      " [-- -- -- -- -- -- -1.6104378357093447 -0.5572202365072358]\n",
      " [0.2923289569425864 -- -- -- -- 0.28830759738450523 -- --]\n",
      " [-- -- -- -- -- -- -- --]\n",
      " [-- -- -- -- -- -- -- --]]\n"
     ]
    },
    {
     "data": {
      "text/plain": [
       "True"
      ]
     },
     "execution_count": 109,
     "metadata": {},
     "output_type": "execute_result"
    }
   ],
   "source": [
    "arr = np.random.randn(7, 8)\n",
    "cond = np.random.rand(7, 8) > 0.1   # `cond` is True for the random values greater than 0.5\n",
    "\n",
    "marr = np.ma.masked_where(cond, arr)\n",
    "\n",
    "print(marr)\n",
    "\n",
    "np.allclose(marr.data, arr)"
   ]
  },
  {
   "cell_type": "code",
   "execution_count": 110,
   "metadata": {
    "collapsed": false
   },
   "outputs": [
    {
     "data": {
      "text/plain": [
       "masked_array(data = [0.8984085234913506 -- -- -- -- 0.28830759738450523 -1.2331738004387032\n",
       " -0.3327642102657351],\n",
       "             mask = [False  True  True  True  True False False False],\n",
       "       fill_value = 1e+20)"
      ]
     },
     "execution_count": 110,
     "metadata": {},
     "output_type": "execute_result"
    }
   ],
   "source": [
    "marr.mean(axis=0)"
   ]
  },
  {
   "cell_type": "code",
   "execution_count": null,
   "metadata": {
    "collapsed": true
   },
   "outputs": [],
   "source": []
  },
  {
   "cell_type": "markdown",
   "metadata": {},
   "source": [
    "The mask can also be supplied explicity when creating the masked array,"
   ]
  },
  {
   "cell_type": "code",
   "execution_count": null,
   "metadata": {
    "collapsed": false
   },
   "outputs": [],
   "source": [
    "marr = np.ma.masked_array([1, 2, 3, 4, 5], mask=[True, True, False, False, True])\n",
    "marr"
   ]
  },
  {
   "cell_type": "markdown",
   "metadata": {},
   "source": [
    "## Overview of scipy packages\n",
    "\n",
    "The `scipy` package contains a number of specialized numerical computational tools. These tools are usually very specific, and in the case of the linear algebra tools, may be optimized for your particular hardware.\n",
    "\n",
    "     cluster                      --- Vector Quantization / Kmeans\n",
    "     fftpack                      --- Discrete Fourier Transform algorithms\n",
    "     integrate                    --- Integration routines\n",
    "     interpolate                  --- Interpolation Tools\n",
    "     io                           --- Data input and output\n",
    "     lib                          --- Python wrappers to external libraries\n",
    "     lib.lapack                   --- Wrappers to LAPACK library\n",
    "     linalg                       --- Linear algebra routines\n",
    "     misc                         --- Various utilities that don't have\n",
    "                                      another home.\n",
    "     ndimage                      --- n-dimensional image package\n",
    "     odr                          --- Orthogonal Distance Regression\n",
    "     optimize                     --- Optimization Tools\n",
    "     signal                       --- Signal Processing Tools\n",
    "     sparse                       --- Sparse Matrices\n",
    "     sparse.linalg                --- Sparse Linear Algebra\n",
    "     sparse.linalg.dsolve         --- Linear Solvers\n",
    "     sparse.linalg.dsolve.umfpack --- :Interface to the UMFPACK library:\n",
    "                                      Conjugate Gradient Method (LOBPCG)\n",
    "     sparse.linalg.eigen.lobpcg   --- Locally Optimal Block Preconditioned\n",
    "                                      Conjugate Gradient Method (LOBPCG) [*]\n",
    "     special                      --- Airy Functions [*]\n",
    "     lib.blas                     --- Wrappers to BLAS library [*]\n",
    "     sparse.linalg.eigen          --- Sparse Eigenvalue Solvers [*]\n",
    "     stats                        --- Statistical Functions [*]\n",
    "     lib                          --- Python wrappers to external libraries\n",
    "                                      [*]\n",
    "     lib.lapack                   --- Wrappers to LAPACK library [*]\n",
    "     integrate                    --- Integration routines [*]\n",
    "     ndimage                      --- n-dimensional image package [*]\n",
    "     linalg                       --- Linear algebra routines [*]\n",
    "     spatial                      --- Spatial data structures and algorithms\n",
    "     special                      --- Airy Functions\n",
    "     stats                        --- Statistical Functions\n"
   ]
  },
  {
   "cell_type": "code",
   "execution_count": null,
   "metadata": {
    "collapsed": true
   },
   "outputs": [],
   "source": [
    "import scipy   # This actually does nothing. Submodules must be explicitly imported"
   ]
  },
  {
   "cell_type": "markdown",
   "metadata": {},
   "source": [
    "## `scipy.stats`"
   ]
  },
  {
   "cell_type": "code",
   "execution_count": 111,
   "metadata": {
    "collapsed": true
   },
   "outputs": [],
   "source": [
    "import scipy.stats"
   ]
  },
  {
   "cell_type": "code",
   "execution_count": 112,
   "metadata": {
    "collapsed": false
   },
   "outputs": [
    {
     "data": {
      "text/plain": [
       "array([ 0.02489353,  0.02643286,  0.02806738,  0.02980297,  0.03164588,\n",
       "        0.03360276,  0.03568063,  0.037887  ,  0.0402298 ,  0.04271748,\n",
       "        0.04535898,  0.04816382,  0.0511421 ,  0.05430455,  0.05766256,\n",
       "        0.06122821,  0.06501436,  0.06903462,  0.07330348,  0.07783632,\n",
       "        0.08264944,  0.0877602 ,  0.09318699,  0.09894935,  0.10506804,\n",
       "        0.11156508,  0.11846388,  0.12578928,  0.13356765,  0.14182701,\n",
       "        0.15059711,  0.15990951,  0.16979776,  0.18029747,  0.19144644,\n",
       "        0.20328483,  0.21585526,  0.22920301,  0.24337613,  0.25842567,\n",
       "        0.27440582,  0.29137413,  0.3093917 ,  0.32852341,  0.34883816,\n",
       "        0.37040911,  0.39331393,  0.41763511,  0.44346022,  0.47088227,\n",
       "        0.5       ,  0.47088227,  0.44346022,  0.41763511,  0.39331393,\n",
       "        0.37040911,  0.34883816,  0.32852341,  0.3093917 ,  0.29137413,\n",
       "        0.27440582,  0.25842567,  0.24337613,  0.22920301,  0.21585526,\n",
       "        0.20328483,  0.19144644,  0.18029747,  0.16979776,  0.15990951,\n",
       "        0.15059711,  0.14182701,  0.13356765,  0.12578928,  0.11846388,\n",
       "        0.11156508,  0.10506804,  0.09894935,  0.09318699,  0.0877602 ,\n",
       "        0.08264944,  0.07783632,  0.07330348,  0.06903462,  0.06501436,\n",
       "        0.06122821,  0.05766256,  0.05430455,  0.0511421 ,  0.04816382,\n",
       "        0.04535898,  0.04271748,  0.0402298 ,  0.037887  ,  0.03568063,\n",
       "        0.03360276,  0.03164588,  0.02980297,  0.02806738,  0.02643286,\n",
       "        0.02489353])"
      ]
     },
     "execution_count": 112,
     "metadata": {},
     "output_type": "execute_result"
    }
   ],
   "source": [
    "rv = scipy.stats.laplace(loc=0, scale=1)\n",
    "rv.pdf(np.linspace(-3, 3, 101))    # create a pdf of the laplace distribution with parameters loc=0, scale=1"
   ]
  },
  {
   "cell_type": "code",
   "execution_count": null,
   "metadata": {
    "collapsed": false
   },
   "outputs": [],
   "source": [
    "r = scipy.stats.laplace.rvs(size=100) # Generate 100 random numbers based on the laplace distribution\n",
    "r"
   ]
  },
  {
   "cell_type": "markdown",
   "metadata": {},
   "source": [
    "## `scipy.integrate`"
   ]
  },
  {
   "cell_type": "code",
   "execution_count": 113,
   "metadata": {
    "collapsed": false
   },
   "outputs": [],
   "source": [
    "import scipy.integrate\n",
    "\n",
    "sigma=10.0\n",
    "beta=8.0/3.0\n",
    "rho=28.0\n",
    "\n",
    "def lorenz(state, to):\n",
    "    x, y, z = state\n",
    "    xdot = sigma*(y-x)\n",
    "    ydot = x*(rho-z)-y\n",
    "    zdot = x*y - beta*z\n",
    "    return (xdot, ydot, zdot)\n",
    "    \n",
    "t = np.linspace(0, 30, 3000)\n",
    "sol = scipy.integrate.odeint(lorenz, (1., 2., 3.), t)\n",
    "x, y, z = sol.T"
   ]
  },
  {
   "cell_type": "code",
   "execution_count": 114,
   "metadata": {
    "collapsed": false
   },
   "outputs": [
    {
     "data": {
      "text/plain": [
       "[<mpl_toolkits.mplot3d.art3d.Line3D at 0x7fd9b38beac8>]"
      ]
     },
     "execution_count": 114,
     "metadata": {},
     "output_type": "execute_result"
    },
    {
     "data": {
      "image/png": "[encoded data removed]",
      "text/plain": [
       "<matplotlib.figure.Figure at 0x7fd945510e10>"
      ]
     },
     "metadata": {},
     "output_type": "display_data"
    }
   ],
   "source": [
    "import matplotlib.pyplot as plt\n",
    "from mpl_toolkits.mplot3d import Axes3D\n",
    "% matplotlib inline\n",
    "\n",
    "fig = plt.figure(figsize=(10, 10))\n",
    "ax = fig.add_subplot(111, projection='3d')\n",
    "ax.plot(x, y, z)"
   ]
  },
  {
   "cell_type": "markdown",
   "metadata": {},
   "source": [
    "---\n",
    "### *Exercise*\n",
    "\n",
    "> Read in again the oceanographic data file '../data/CTD.txt' into an array. You can look at the data file itself to see what variables are stored in each column.\n",
    "\n",
    "> Using this data, write a function to calculate the linear equation of state. This is an approximation of the density of water, as it depends on salinity, temperature, and some empirical constants. We will use the following form for the linear equation of state:\n",
    "\n",
    "> $\\rho = 1027[1+7.6\\times 10^{-4}(S-35) -1.7\\times 10^{-4}(T-25)]$\n",
    "\n",
    "> where $\\rho$ is the density, $S$ is the salinity, and $T$ is the temperature.\n",
    "\n",
    "> This is more free form than the homework, so you should set up all of the associated code to call the function, and write out the function yourself. Don't forget docstrings! For a check, the first value of your density array in order should equal 1021.7519981630001 and the last should equal 1028.0471353619998.\n",
    "\n",
    "---"
   ]
  },
  {
   "cell_type": "code",
   "execution_count": null,
   "metadata": {
    "collapsed": false
   },
   "outputs": [],
   "source": []
  },
  {
   "cell_type": "markdown",
   "metadata": {},
   "source": [
    "---\n",
    "### *Exercise*\n",
    "\n",
    "> Output from a numerical model of the northwestern Gulf of Mexico are saved in a file `../data/model.npz`. Read in this file. Among other things, it contains `h`, the depths within the numerical domain, and `ssh`, the sea surface heights at two time steps. The sea surface height gives the deviation above and below sea level from a reference water level (which changes in time as the water moves), and the depths of the seabed are also given with respect to that reference water level. \n",
    "\n",
    "> Find the full water column depth, between the seabed and the sea surface, for the two given times. \n",
    "\n",
    "> You can use as a comparison that at the first time step the [0,0] value of this array should be 3007.6088347392124, and at the second time step the [0,-1] value should be 605.25282427018749. Note that there is a differences between the two time steps though it is generally quite small since it is the difference between time steps in the numerical circulation model.\n",
    "\n",
    "---"
   ]
  },
  {
   "cell_type": "code",
   "execution_count": null,
   "metadata": {
    "collapsed": false
   },
   "outputs": [],
   "source": []
  },
  {
   "cell_type": "markdown",
   "metadata": {},
   "source": [
    "---\n",
    "### *Exercise*\n",
    "\n",
    "> Earlier, we discussed using array operations instead of looping because it is faster. Let's compare.\n",
    "\n",
    "> Calculate the time it takes to do what we did before:\n",
    "\n",
    "    a = np.arange(1024.0).reshape(4, 8, 16, 2)   # a 4D array using sequential numbers\n",
    "    b = np.random.rand(4, 8, 16, 2)              # a 4D array using random numbers\n",
    "    sol = a * b  # element-by-element multiplication. This operation is about as fast as it can be on your computer.\n",
    "\n",
    "> and the time required for doing the same operation with a series of 4 `for` loops, one for each dimension of the arrays. Compare the times by calculating a ratio.\n",
    "\n",
    "---"
   ]
  },
  {
   "cell_type": "code",
   "execution_count": null,
   "metadata": {
    "collapsed": true
   },
   "outputs": [],
   "source": []
  }
 ],
 "metadata": {
  "anaconda-cloud": {},
  "kernelspec": {
   "display_name": "Python [default]",
   "language": "python",
   "name": "python3"
  },
  "language_info": {
   "codemirror_mode": {
    "name": "ipython",
    "version": 3
   },
   "file_extension": ".py",
   "mimetype": "text/x-python",
   "name": "python",
   "nbconvert_exporter": "python",
   "pygments_lexer": "ipython3",
   "version": "3.5.2"
  }
 },
 "nbformat": 4,
 "nbformat_minor": 0
}
