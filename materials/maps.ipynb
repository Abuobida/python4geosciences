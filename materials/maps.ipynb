{
 "cells": [
  {
   "cell_type": "markdown",
   "metadata": {},
   "source": [
    "# Maps"
   ]
  },
  {
   "cell_type": "markdown",
   "metadata": {},
   "source": [
    "## 1. Introduction\n",
    "\n",
    "Maps are a way to present information on a (roughly) spherical earth on a flat plane, like a page or a screen. Here are two examples of common map projections. The projection is only accurate in the region where the plane touches the sphere, and is less accurate as the distance between the plane and the sphere increases.\n",
    "\n",
    "#### Mercator\n",
    "![Mercator](https://upload.wikimedia.org/wikipedia/commons/thumb/6/62/Usgs_map_mercator.svg/413px-Usgs_map_mercator.svg.png)\n",
    "\n",
    "#### Lambert conformal conic\n",
    "![Lambert conformal conic](https://upload.wikimedia.org/wikipedia/commons/d/da/USGS_map_Albers_conic_tall.gif)\n",
    "\n",
    "You can read more about map projections from [_Map Projections – a Working Manual_](http://pubs.usgs.gov/pp/1395/report.pdf), the source of the images above, or, more entertainingly, from [XKCD](https://xkcd.com/977/).\n",
    "\n",
    "We'll use `cartopy` to plot on maps. Check out the [gallery](http://scitools.org.uk/cartopy/docs/latest/gallery.html) for inspiration.\n"
   ]
  },
  {
   "cell_type": "code",
   "execution_count": null,
   "metadata": {
    "collapsed": true
   },
   "outputs": [],
   "source": [
    "import numpy as np\n",
    "import matplotlib.pyplot as plt\n",
    "%matplotlib inline\n",
    "import cartopy\n",
    "import cartopy.crs as ccrs"
   ]
  },
  {
   "cell_type": "markdown",
   "metadata": {},
   "source": [
    "Here we have the most basic projection: plate carrée, which is an [equirectangular projection](https://en.wikipedia.org/wiki/Equirectangular_projection), and is essentially equivalent to just plotting the longitude and latitude values without a projection.\n",
    "\n",
    "To set this plot up as knowing about relevant geographic coordinates, we can simply input the `projection` keyword argument."
   ]
  },
  {
   "cell_type": "code",
   "execution_count": null,
   "metadata": {
    "collapsed": false
   },
   "outputs": [],
   "source": [
    "fig = plt.figure(figsize=(6, 3))\n",
    "ax = fig.add_subplot(1, 1, 1, projection=ccrs.PlateCarree())\n",
    "ax.coastlines(resolution='110m')  # coastline resolution options are '110m', '50m', '10m'\n",
    "ax.gridlines()"
   ]
  },
  {
   "cell_type": "markdown",
   "metadata": {},
   "source": [
    "`cartopy` provides a number of projections, but these require more information be input when the map class is instantiated. [Available projections](http://scitools.org.uk/cartopy/docs/latest/crs/projections.html) are:\n",
    "\n",
    "    PlateCarree\n",
    "    AlbersEqualArea\n",
    "    AzimuthalEquidistant\n",
    "    LambertConformal\n",
    "    LambertCylindrical\n",
    "    Mercator\n",
    "    Miller\n",
    "    Mollweide\n",
    "    Orthographic\n",
    "    Robinson\n",
    "    Sinusoidal\n",
    "    Stereographic\n",
    "    TransverseMercator\n",
    "    UTM\n",
    "    InterruptedGoodeHomolosine\n",
    "    RotatedPole\n",
    "    OSGB\n",
    "    EuroPP\n",
    "    Geostationary\n",
    "    Gnomonic\n",
    "    LambertAzimuthalEqualArea\n",
    "    NorthPolarStereo\n",
    "    OSNI\n",
    "    SouthPolarStereo  \n",
    "\n",
    "Lambert Conformal Conic is a useful projection in numerical modeling because it preserves right angles. Here is the default version of this projection:"
   ]
  },
  {
   "cell_type": "code",
   "execution_count": null,
   "metadata": {
    "collapsed": false
   },
   "outputs": [],
   "source": [
    "plt.figure()\n",
    "ax = plt.axes(projection=ccrs.LambertConformal(central_longitude=-96.0, central_latitude=28.0))\n",
    "ax.coastlines(resolution='110m')\n",
    "ax.gridlines()"
   ]
  },
  {
   "cell_type": "markdown",
   "metadata": {},
   "source": [
    "Let's make a map of the Gulf of Mexico using the `LambertConformal` projection. For most projections that do not include the whole earth, some information about the range of latitudes and longitudes to be included need to be specified.\n"
   ]
  },
  {
   "cell_type": "code",
   "execution_count": null,
   "metadata": {
    "collapsed": false
   },
   "outputs": [],
   "source": [
    "plt.figure(figsize=(10,6))\n",
    "# the central_longitude and central_latitude parameters tell the projection where to be centered for the calculation\n",
    "ax = plt.axes(projection=ccrs.LambertConformal(central_longitude=-85.0, central_latitude=25.0))\n",
    "gl = ax.gridlines(linewidth=0.2, color='gray', alpha=0.5, linestyle='-')\n",
    "# we control what we actually see in the plot with this:\n",
    "# We can set the extent using latitude and longitude, but then we need to tell it the projection, which is\n",
    "# PlateCarree since that is equivalent\n",
    "ax.set_extent([-100, -70, 15, 35], ccrs.PlateCarree())\n",
    "\n",
    "# add geographic information\n",
    "ax.add_feature(cartopy.feature.LAND)\n",
    "ax.add_feature(cartopy.feature.OCEAN)\n",
    "ax.coastlines(resolution='110m')  # looks better with resolution='10m'\n",
    "ax.add_feature(cartopy.feature.BORDERS, linestyle='-', lw=.1)\n",
    "ax.add_feature(cartopy.feature.RIVERS)"
   ]
  },
  {
   "cell_type": "markdown",
   "metadata": {},
   "source": [
    "The map is actually plotted in a 'projected' coordinate system, with units in meters, but the package deals with the projection behind the scenes. We can see this by looking at the limits of the two axes, which don't look like longitude/latitude at all:"
   ]
  },
  {
   "cell_type": "code",
   "execution_count": null,
   "metadata": {
    "collapsed": false
   },
   "outputs": [],
   "source": [
    "ax.get_xlim(), ax.get_ylim()"
   ]
  },
  {
   "cell_type": "markdown",
   "metadata": {},
   "source": [
    "This is pretty good, but there are some limitations in this package currently. One is that we can't add labels to the lat/lon lines for the Lambert Conformal Conic projection. We can do this using Mercator, though:"
   ]
  },
  {
   "cell_type": "code",
   "execution_count": null,
   "metadata": {
    "collapsed": false
   },
   "outputs": [],
   "source": [
    "plt.figure(figsize=(10, 6))\n",
    "# the central_longitude and central_latitude parameters tell the projection where to be centered for the calculation\n",
    "ax = plt.axes(projection=ccrs.Mercator(central_longitude=-85.0))\n",
    "gl = ax.gridlines(linewidth=0.2, color='gray', alpha=0.5, linestyle='-', draw_labels=True)\n",
    "# we control what we actually see in the plot with this:\n",
    "# We can set the extent using latitude and longitude, but then we need to tell it the projection, which is\n",
    "# PlateCarree since that is equivalent\n",
    "ax.set_extent([-100, -70, 15, 35], ccrs.PlateCarree())\n",
    "\n",
    "# add geographic information\n",
    "ax.add_feature(cartopy.feature.LAND)\n",
    "ax.add_feature(cartopy.feature.OCEAN)\n",
    "ax.coastlines(resolution='110m')  # looks better with resolution='10m'\n",
    "ax.add_feature(cartopy.feature.BORDERS, linestyle='-', lw=.1)\n",
    "ax.add_feature(cartopy.feature.RIVERS)\n",
    "\n",
    "# Now we can add on lat/lon labels:\n",
    "# more info: http://scitools.org.uk/cartopy/docs/v0.13/matplotlib/gridliner.html\n",
    "from cartopy.mpl.gridliner import LONGITUDE_FORMATTER, LATITUDE_FORMATTER\n",
    "import matplotlib.ticker as mticker\n",
    "# the following two make the labels look like lat/lon format\n",
    "gl.xformatter = LONGITUDE_FORMATTER\n",
    "gl.yformatter = LATITUDE_FORMATTER\n",
    "gl.xlocator = mticker.FixedLocator([-105, -95, -85, -75, -65])  # control where the ticks are\n",
    "gl.xlabel_style = {'size': 15, 'color': 'gray'}  # control how the tick labels look\n",
    "gl.ylabel_style = {'color': 'red', 'weight': 'bold'}\n",
    "gl.xlabels_top = False  # turn off labels where you don't want them\n",
    "gl.ylabels_right = False"
   ]
  },
  {
   "cell_type": "markdown",
   "metadata": {},
   "source": [
    "When we want to add something to the plot, we just need to tell it what projection the information is given in using the `transform` keyword argument.\n",
    "\n",
    "If the information is in latitude/longitude – typical for the way people tend to think about information (instead of arbitrary projected locations) – then we give the Plate Carree projection with the `transform` keyword argument to the plot call:\n",
    "> `transform=ccrs.PlateCarree()`\n",
    "\n",
    "A nice thing about the `cartopy` package is that you can plot directly data from any projection — you just tell it the projection through the `transform` keyword argument when you add to the plot."
   ]
  },
  {
   "cell_type": "markdown",
   "metadata": {},
   "source": [
    "---\n",
    "### _Exercise_\n",
    "\n",
    "> The latitude and longitude of College Station are given below. Plot the location of College Station on the map above with a red dot.\n",
    "\n",
    "---"
   ]
  },
  {
   "cell_type": "code",
   "execution_count": null,
   "metadata": {
    "collapsed": true
   },
   "outputs": [],
   "source": [
    "# College Station: 30°36′05″N 96°18′52″W\n",
    "lat_cll = 30.0 + 36.0/60.0 + 5.0/3600.0\n",
    "lon_cll = -(96.0 + 18.0/60.0 + 52.0/3600.0)"
   ]
  },
  {
   "cell_type": "markdown",
   "metadata": {},
   "source": [
    "We can also just plot data without any of the nice additional features that come with `cartopy` (like coastline, rivers, etc) because we want the information to look correct on a map.\n",
    "\n",
    "Below, I demonstrate the the PlateCarree projection is the same as just plotting longitude and latitude on a plot without a projection."
   ]
  },
  {
   "cell_type": "code",
   "execution_count": null,
   "metadata": {
    "collapsed": false
   },
   "outputs": [],
   "source": [
    "import cmocean.cm as cmo\n",
    "\n",
    "d = np.load('../data/cascadia.npz')\n",
    "\n",
    "fig = plt.figure(figsize=(12, 20))\n",
    "\n",
    "# no projection\n",
    "ax1 = fig.add_subplot(2, 1, 1)\n",
    "mappable = ax1.pcolormesh(d['lon'], d['lat'], d['z'], cmap=cmo.delta)\n",
    "ax1.axis('equal')\n",
    "\n",
    "# PlateCarree projection\n",
    "# we input here the projection that we want the plot to use\n",
    "ax2 = fig.add_subplot(2, 1, 2, projection=ccrs.PlateCarree())\n",
    "ax2.gridlines(linewidth=0.2, color='gray', alpha=0.5, linestyle='-', draw_labels=True)\n",
    "# we input here the transform that the coordinates are being presented in.\n",
    "# in this case, the data is in lon/lat so we use PlateCarree:\n",
    "ax2.pcolormesh(d['lon'], d['lat'], d['z'], cmap=cmo.delta, transform=ccrs.PlateCarree())\n",
    "\n",
    "# the same data values and therefore data range are being plotted in each subplot so the mappable\n",
    "# from one of them will work for the colorbar for all of them\n",
    "fig.colorbar(mappable, orientation='horizontal')  "
   ]
  },
  {
   "cell_type": "markdown",
   "metadata": {},
   "source": [
    "---\n",
    "### _Exercise_\n",
    "\n",
    "> Add another subplot to the figure above and in it, plot another projection of your choice. How do they compare?\n",
    "\n",
    "---"
   ]
  },
  {
   "cell_type": "markdown",
   "metadata": {},
   "source": [
    "Next we look at hurricanes tracks on a map.\n",
    "\n",
    "We start with some code to read in the hurricane track information and quickly look at them:"
   ]
  },
  {
   "cell_type": "code",
   "execution_count": null,
   "metadata": {
    "collapsed": false
   },
   "outputs": [],
   "source": [
    "from pykml import parser\n",
    "from zipfile import ZipFile\n",
    "\n",
    "kmz = ZipFile('../data/AtlanticHurricanes.kmz', 'r')\n",
    "kml = kmz.open('doc.kml', 'r')\n",
    "\n",
    "hurricanes = parser.fromstring(kml.read())\n",
    "\n",
    "tracks = []\n",
    "for decade in range(len(hurricanes.Document.Folder.Folder)):\n",
    "    doc = hurricanes.Document.Folder.Folder[decade]\n",
    "    try:\n",
    "        for storm in range(len(doc.Document.Placemark)):\n",
    "            track_text = hurricanes.Document.Folder.Folder[decade].Document.Placemark[storm].LineString.coordinates.text\n",
    "            track = []\n",
    "            for location in track_text.split():\n",
    "                track.append(np.fromstring(location, sep=','))\n",
    "            tracks.append(np.array(track)[:, :2])\n",
    "    except:\n",
    "        pass  # there is more recent data to be had here... Perhaps a good homework topic.\n",
    "\n",
    "            \n",
    "for track in tracks:\n",
    "    plt.plot(track[:, 0], track[:, 1], '-k', lw=0.2)"
   ]
  },
  {
   "cell_type": "markdown",
   "metadata": {},
   "source": [
    "The plot isn't particularly helpful without land for context, and we'd also like to use a projection to get a less flat view."
   ]
  },
  {
   "cell_type": "code",
   "execution_count": null,
   "metadata": {
    "collapsed": false
   },
   "outputs": [],
   "source": [
    "# set up our projection for the plot\n",
    "projection = ccrs.LambertAzimuthalEqualArea(central_longitude=-40.0, central_latitude=25.0)\n",
    "\n",
    "fig = plt.figure(figsize=(10, 5))\n",
    "ax = fig.add_subplot(111, projection=projection)\n",
    "ax.set_extent([-100, 20, 0, 50])\n",
    "\n",
    "ax.add_feature(cartopy.feature.LAND, facecolor='0.8')\n",
    "ax.add_feature(cartopy.feature.OCEAN, facecolor='w')\n",
    "gl = ax.gridlines(linewidth=0.2, color='gray', alpha=0.5, linestyle='-')\n",
    "import matplotlib.ticker as mticker\n",
    "gl.xlocator = mticker.FixedLocator(np.arange(-120, 80, 10))\n",
    "\n",
    "for track in tracks:\n",
    "    ax.plot(track[:, 0], track[:, 1], '-r', lw=0.1, transform=ccrs.PlateCarree())\n"
   ]
  },
  {
   "cell_type": "markdown",
   "metadata": {},
   "source": [
    "## Point conversion\n",
    "\n",
    "While `cartopy` removes the need to convert points on your own between projections (instead doing it behind the scenes), you can always convert between projections if you want using the following:"
   ]
  },
  {
   "cell_type": "code",
   "execution_count": null,
   "metadata": {
    "collapsed": false
   },
   "outputs": [],
   "source": [
    "projection = ccrs.Mercator()\n",
    "\n",
    "x, y = projection.transform_point(-93.0-45.0/60.0, 27.0+55.0/60.0, ccrs.PlateCarree())\n",
    "print(x, y)"
   ]
  },
  {
   "cell_type": "markdown",
   "metadata": {},
   "source": [
    "---\n",
    "### _Exercise_\n",
    "\n",
    "> Show that you can plot data from multiple projections onto a single map.\n",
    "> Set up a figure with a projection and add a coastline and whatever other features you want. Plot College Station in lon/lat. Next convert the location for College Station to another projection, and plot it (in the new coordinates) onto your map.\n",
    "\n",
    "---"
   ]
  },
  {
   "cell_type": "code",
   "execution_count": null,
   "metadata": {
    "collapsed": true
   },
   "outputs": [],
   "source": []
  },
  {
   "cell_type": "markdown",
   "metadata": {},
   "source": [
    "## Other features you can add\n",
    "\n",
    "The code we used earlier, like:\n",
    "\n",
    "    ax.add_feature(cartopy.feature.LAND)\n",
    "\n",
    "was a convenience function wrapping more complex and capable code options. Here we explore a little more the capabilities. Note that this requires downloading data which you will see a warning about.\n",
    "\n",
    "We can set up the ability to plot with high resolution land data:"
   ]
  },
  {
   "cell_type": "code",
   "execution_count": 65,
   "metadata": {
    "collapsed": false
   },
   "outputs": [],
   "source": [
    "# this is another way to do `ax.add_feature(cartopy.feature.LAND)` but to have more control over it\n",
    "# 50m: moderate resolution data\n",
    "import cartopy.feature as cfeature\n",
    "# set up for plotting land\n",
    "land_50m = cfeature.NaturalEarthFeature('physical', 'land', '50m',\n",
    "                                        edgecolor='face', facecolor=cfeature.COLORS['land'])\n",
    "# set up for plotting water at higher resolution\n",
    "ocean_50m = cfeature.NaturalEarthFeature('physical', 'ocean', '50m',\n",
    "                                         edgecolor='face', facecolor=cfeature.COLORS['water'])"
   ]
  },
  {
   "cell_type": "markdown",
   "metadata": {},
   "source": [
    "There are also some built-in colors:"
   ]
  },
  {
   "cell_type": "code",
   "execution_count": 58,
   "metadata": {
    "collapsed": false
   },
   "outputs": [
    {
     "data": {
      "text/plain": [
       "['land', 'land_alt1', 'water']"
      ]
     },
     "execution_count": 58,
     "metadata": {},
     "output_type": "execute_result"
    }
   ],
   "source": [
    "sorted(cfeature.COLORS.keys())"
   ]
  },
  {
   "cell_type": "markdown",
   "metadata": {},
   "source": [
    "Here is a list (with reference names in some cases appended) of the [many features](http://www.naturalearthdata.com/features/) that are available through Natural Earth:\n",
    "\n",
    "*(10, 50, 110 for high, medium, low resolution)*\n",
    "\n",
    "**Physical Vector Data Themes:**\n",
    "\n",
    "(`physical`)\n",
    "\n",
    "* Coastline (10, 50, 110): `coastline`\n",
    "* Land (10, 50, 110): `land`\n",
    "* Ocean (10, 50, 110): `ocean`\n",
    "* Minor Islands (10): `minor_islands`, `minor_islands_coastline`\n",
    "* Reefs (10): `reefs`\n",
    "* Physical region features (10): `geography_regions_polys`, `geography_regions_points`, `geography_regions_elevation_points`, `geography_marine_polys`\n",
    "* Rivers and Lake Centerlines (10, 50, 110): `rivers_lake_centerlines`\n",
    "* Lakes (10, 50, 110): `lakes`\n",
    "* Glaciated areas (10, 50, 110): `glaciated_areas`\n",
    "* Antarctic ice shelves (10, 50): `antarctic_ice_shelves_polys`, `antarctic_ice_shelves_lines`\n",
    "* Bathymetry (10): `bathymetry_all` or choose which depth(s)\n",
    "* Geographic lines (10, 50): `geographic_lines`\n",
    "* Graticules (10, 50, 110): (grid lines) `graticules_all` or choose degree interval\n",
    "\n",
    "\n",
    "**Raster Data Themes:**\n",
    "\n",
    "(`raster`: land coloring)\n",
    "\n",
    "* Cross Blended Hypsometric Tints (10, 50)\n",
    "* Natural Earth 1 (10, 50)\n",
    "* Natural Earth 2 (10, 50)\n",
    "* Ocean Bottom (10, 50)\n",
    "* Bathymetry (50)\n",
    "* Shaded Relief (10, 50)\n",
    "* Gray Earth (10, 50)\n",
    "* Manual Shaded Relief (10, 50)\n",
    "\n",
    "\n",
    "**Cultural Vector Data Themes:**\n",
    "\n",
    "(`cultural`)\n",
    "\n",
    "* Countries (10, 50, 110): `admin_0_countries`, `admin_0_countries_lakes`, `admin_0_boundary_lines`\n",
    "* Disputed areas and breakaway regions (10, 50)\n",
    "* First order admin (provinces, departments, states, etc.) (10, 50): e.g. `admin_1_states_provinces_lines`\n",
    "* Populated places (10, 50, 110)\n",
    "* Urban polygons (10, 50)\n",
    "* Parks and protected areas (10): `parks_and_protected_lands`\n",
    "* Pacific nation groupings (10, 50, 110)\n",
    "* Water boundary indicators (10)"
   ]
  },
  {
   "cell_type": "markdown",
   "metadata": {},
   "source": [
    "Using higher resolution can be pretty significantly different.\n",
    "\n",
    "Prep higher resolution land and ocean information"
   ]
  },
  {
   "cell_type": "code",
   "execution_count": 91,
   "metadata": {
    "collapsed": true
   },
   "outputs": [],
   "source": [
    "land_10m = cfeature.NaturalEarthFeature('physical', 'land', '10m',\n",
    "                                        edgecolor='face',\n",
    "                                        facecolor=cfeature.COLORS['land'])\n",
    "ocean_50m = cfeature.NaturalEarthFeature('physical', 'ocean', '50m',\n",
    "                                        edgecolor='face',\n",
    "                                        facecolor=cfeature.COLORS['water'])"
   ]
  },
  {
   "cell_type": "code",
   "execution_count": 94,
   "metadata": {
    "collapsed": false
   },
   "outputs": [
    {
     "data": {
      "text/plain": [
       "<cartopy.mpl.feature_artist.FeatureArtist at 0x7ff9ccb55c18>"
      ]
     },
     "execution_count": 94,
     "metadata": {},
     "output_type": "execute_result"
    },
    {
     "data": {
      "image/png": "[encoded data removed]",
      "text/plain": [
       "<matplotlib.figure.Figure at 0x7ff9ccbf56d8>"
      ]
     },
     "metadata": {},
     "output_type": "display_data"
    }
   ],
   "source": [
    "projection=cartopy.crs.LambertConformal(central_longitude=-95.0, central_latitude=29.0)\n",
    "\n",
    "fig = plt.figure()\n",
    "\n",
    "# lower resolution\n",
    "ax1 = fig.add_subplot(1,2,1, projection=projection)\n",
    "ax1.set_extent([-96, -94, 28.5, 30], cartopy.crs.PlateCarree())\n",
    "ax1.add_feature(cartopy.feature.LAND)\n",
    "ax1.add_feature(cartopy.feature.OCEAN)\n",
    "\n",
    "\n",
    "# now higher resolution\n",
    "ax2 = fig.add_subplot(1,2,2, projection=projection)\n",
    "ax2.set_extent([-96, -94, 28.5, 30], cartopy.crs.PlateCarree())\n",
    "ax2.add_feature(ocean_50m)\n",
    "ax2.add_feature(land_10m)\n"
   ]
  }
 ],
 "metadata": {
  "anaconda-cloud": {},
  "kernelspec": {
   "display_name": "Python [default]",
   "language": "python",
   "name": "python3"
  },
  "language_info": {
   "codemirror_mode": {
    "name": "ipython",
    "version": 3
   },
   "file_extension": ".py",
   "mimetype": "text/x-python",
   "name": "python",
   "nbconvert_exporter": "python",
   "pygments_lexer": "ipython3",
   "version": "3.5.2"
  }
 },
 "nbformat": 4,
 "nbformat_minor": 0
}
