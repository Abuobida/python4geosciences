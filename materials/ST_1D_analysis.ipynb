{
 "cells": [
  {
   "cell_type": "code",
   "execution_count": 31,
   "metadata": {
    "collapsed": true
   },
   "outputs": [],
   "source": [
    "import numpy as np\n",
    "import matplotlib.pyplot as plt\n",
    "%matplotlib inline\n",
    "\n",
    "import pandas as pd\n",
    "pd.set_option('max_rows', 6)  # max number of rows to show in this notebook — to save space!\n",
    "\n",
    "import seaborn as sns  # for better style in plots"
   ]
  },
  {
   "cell_type": "markdown",
   "metadata": {},
   "source": [
    "# 1D analysis: `pandas`!"
   ]
  },
  {
   "cell_type": "markdown",
   "metadata": {},
   "source": [
    "For 1D analysis, we are generally thinking about data that varies in time, so time series analysis. The `pandas` package is particularly suited to deal with this type of data, particularly having very convenient methods for interpreting, searching through, and using time representations.\n",
    "\n",
    "Let's start with the example we started the class with: taxi rides in New York City."
   ]
  },
  {
   "cell_type": "code",
   "execution_count": 32,
   "metadata": {
    "collapsed": true
   },
   "outputs": [],
   "source": [
    "pd.read_csv?"
   ]
  },
  {
   "cell_type": "code",
   "execution_count": 2,
   "metadata": {
    "collapsed": true
   },
   "outputs": [],
   "source": [
    "df = pd.read_csv('../data/yellow_tripdata_2016-05-01_decimated.csv', header=0, parse_dates=[0, 2], index_col=[0])"
   ]
  },
  {
   "cell_type": "markdown",
   "metadata": {},
   "source": [
    "What do all these (and other) input keyword arguments do?\n",
    "\n",
    "* header: tells which row of the data file is the header, from which it will extract column names\n",
    "* parse_dates: try to interpret the values in `[col]` or `[[col1, col2]]` as dates, to convert them into `datetime` objects.\n",
    "* index_col: if no index column is given, an index counting from 0 is given to the rows. By inputting `index_col=[column integer]`, that column will be used as the index instead. This is usually done with the time information for the dataset.\n",
    "* skiprows: can skip specific rows, `skiprows=[row number list]`, or number of rows to skip, `skiprows=[number of rows integer]`.\n"
   ]
  },
  {
   "cell_type": "code",
   "execution_count": 3,
   "metadata": {
    "collapsed": false
   },
   "outputs": [
    {
     "data": {
      "text/html": [
       "<div>\n",
       "<table border=\"1\" class=\"dataframe\">\n",
       "  <thead>\n",
       "    <tr style=\"text-align: right;\">\n",
       "      <th></th>\n",
       "      <th>VendorID</th>\n",
       "      <th>tpep_dropoff_datetime</th>\n",
       "      <th>passenger_count</th>\n",
       "      <th>trip_distance</th>\n",
       "      <th>pickup_longitude</th>\n",
       "      <th>pickup_latitude</th>\n",
       "      <th>RatecodeID</th>\n",
       "      <th>store_and_fwd_flag</th>\n",
       "      <th>dropoff_longitude</th>\n",
       "      <th>dropoff_latitude</th>\n",
       "      <th>payment_type</th>\n",
       "      <th>fare_amount</th>\n",
       "      <th>extra</th>\n",
       "      <th>mta_tax</th>\n",
       "      <th>tip_amount</th>\n",
       "      <th>tolls_amount</th>\n",
       "      <th>improvement_surcharge</th>\n",
       "      <th>total_amount</th>\n",
       "    </tr>\n",
       "    <tr>\n",
       "      <th>tpep_pickup_datetime</th>\n",
       "      <th></th>\n",
       "      <th></th>\n",
       "      <th></th>\n",
       "      <th></th>\n",
       "      <th></th>\n",
       "      <th></th>\n",
       "      <th></th>\n",
       "      <th></th>\n",
       "      <th></th>\n",
       "      <th></th>\n",
       "      <th></th>\n",
       "      <th></th>\n",
       "      <th></th>\n",
       "      <th></th>\n",
       "      <th></th>\n",
       "      <th></th>\n",
       "      <th></th>\n",
       "      <th></th>\n",
       "    </tr>\n",
       "  </thead>\n",
       "  <tbody>\n",
       "    <tr>\n",
       "      <th>2016-05-01 00:00:00</th>\n",
       "      <td>1</td>\n",
       "      <td>2016-05-01 00:17:00</td>\n",
       "      <td>1</td>\n",
       "      <td>3.60</td>\n",
       "      <td>-73.985901</td>\n",
       "      <td>40.768040</td>\n",
       "      <td>1</td>\n",
       "      <td>N</td>\n",
       "      <td>-73.983986</td>\n",
       "      <td>40.730099</td>\n",
       "      <td>1</td>\n",
       "      <td>15.0</td>\n",
       "      <td>0.5</td>\n",
       "      <td>0.5</td>\n",
       "      <td>1.50</td>\n",
       "      <td>0.0</td>\n",
       "      <td>0.3</td>\n",
       "      <td>17.80</td>\n",
       "    </tr>\n",
       "    <tr>\n",
       "      <th>2016-05-01 00:00:00</th>\n",
       "      <td>2</td>\n",
       "      <td>2016-05-01 00:00:00</td>\n",
       "      <td>2</td>\n",
       "      <td>18.41</td>\n",
       "      <td>-73.781059</td>\n",
       "      <td>40.645020</td>\n",
       "      <td>2</td>\n",
       "      <td>N</td>\n",
       "      <td>-73.984573</td>\n",
       "      <td>40.768398</td>\n",
       "      <td>2</td>\n",
       "      <td>52.0</td>\n",
       "      <td>0.0</td>\n",
       "      <td>0.5</td>\n",
       "      <td>0.00</td>\n",
       "      <td>0.0</td>\n",
       "      <td>0.3</td>\n",
       "      <td>52.80</td>\n",
       "    </tr>\n",
       "    <tr>\n",
       "      <th>2016-05-01 00:00:00</th>\n",
       "      <td>2</td>\n",
       "      <td>2016-05-01 00:08:00</td>\n",
       "      <td>1</td>\n",
       "      <td>1.60</td>\n",
       "      <td>-74.002769</td>\n",
       "      <td>40.728619</td>\n",
       "      <td>1</td>\n",
       "      <td>N</td>\n",
       "      <td>-73.984161</td>\n",
       "      <td>40.737438</td>\n",
       "      <td>1</td>\n",
       "      <td>8.0</td>\n",
       "      <td>0.5</td>\n",
       "      <td>0.5</td>\n",
       "      <td>1.86</td>\n",
       "      <td>0.0</td>\n",
       "      <td>0.3</td>\n",
       "      <td>11.16</td>\n",
       "    </tr>\n",
       "    <tr>\n",
       "      <th>...</th>\n",
       "      <td>...</td>\n",
       "      <td>...</td>\n",
       "      <td>...</td>\n",
       "      <td>...</td>\n",
       "      <td>...</td>\n",
       "      <td>...</td>\n",
       "      <td>...</td>\n",
       "      <td>...</td>\n",
       "      <td>...</td>\n",
       "      <td>...</td>\n",
       "      <td>...</td>\n",
       "      <td>...</td>\n",
       "      <td>...</td>\n",
       "      <td>...</td>\n",
       "      <td>...</td>\n",
       "      <td>...</td>\n",
       "      <td>...</td>\n",
       "      <td>...</td>\n",
       "    </tr>\n",
       "    <tr>\n",
       "      <th>2016-05-01 23:59:00</th>\n",
       "      <td>1</td>\n",
       "      <td>2016-05-02 00:38:00</td>\n",
       "      <td>2</td>\n",
       "      <td>19.80</td>\n",
       "      <td>-73.789543</td>\n",
       "      <td>40.647316</td>\n",
       "      <td>2</td>\n",
       "      <td>N</td>\n",
       "      <td>-74.000298</td>\n",
       "      <td>40.744408</td>\n",
       "      <td>1</td>\n",
       "      <td>52.0</td>\n",
       "      <td>0.0</td>\n",
       "      <td>0.5</td>\n",
       "      <td>6.00</td>\n",
       "      <td>0.0</td>\n",
       "      <td>0.3</td>\n",
       "      <td>58.80</td>\n",
       "    </tr>\n",
       "    <tr>\n",
       "      <th>2016-05-01 23:59:00</th>\n",
       "      <td>1</td>\n",
       "      <td>2016-05-02 00:05:00</td>\n",
       "      <td>1</td>\n",
       "      <td>0.50</td>\n",
       "      <td>-73.984489</td>\n",
       "      <td>40.760044</td>\n",
       "      <td>1</td>\n",
       "      <td>N</td>\n",
       "      <td>-73.988449</td>\n",
       "      <td>40.764175</td>\n",
       "      <td>2</td>\n",
       "      <td>5.5</td>\n",
       "      <td>0.5</td>\n",
       "      <td>0.5</td>\n",
       "      <td>0.00</td>\n",
       "      <td>0.0</td>\n",
       "      <td>0.3</td>\n",
       "      <td>6.80</td>\n",
       "    </tr>\n",
       "    <tr>\n",
       "      <th>2016-05-01 23:59:00</th>\n",
       "      <td>2</td>\n",
       "      <td>2016-05-02 00:13:00</td>\n",
       "      <td>1</td>\n",
       "      <td>4.05</td>\n",
       "      <td>-73.989357</td>\n",
       "      <td>40.758759</td>\n",
       "      <td>1</td>\n",
       "      <td>N</td>\n",
       "      <td>-73.949982</td>\n",
       "      <td>40.805481</td>\n",
       "      <td>1</td>\n",
       "      <td>14.5</td>\n",
       "      <td>0.5</td>\n",
       "      <td>0.5</td>\n",
       "      <td>2.20</td>\n",
       "      <td>0.0</td>\n",
       "      <td>0.3</td>\n",
       "      <td>18.00</td>\n",
       "    </tr>\n",
       "  </tbody>\n",
       "</table>\n",
       "<p>38211 rows × 18 columns</p>\n",
       "</div>"
      ],
      "text/plain": [
       "                      VendorID tpep_dropoff_datetime  passenger_count  \\\n",
       "tpep_pickup_datetime                                                    \n",
       "2016-05-01 00:00:00          1   2016-05-01 00:17:00                1   \n",
       "2016-05-01 00:00:00          2   2016-05-01 00:00:00                2   \n",
       "2016-05-01 00:00:00          2   2016-05-01 00:08:00                1   \n",
       "...                        ...                   ...              ...   \n",
       "2016-05-01 23:59:00          1   2016-05-02 00:38:00                2   \n",
       "2016-05-01 23:59:00          1   2016-05-02 00:05:00                1   \n",
       "2016-05-01 23:59:00          2   2016-05-02 00:13:00                1   \n",
       "\n",
       "                      trip_distance  pickup_longitude  pickup_latitude  \\\n",
       "tpep_pickup_datetime                                                     \n",
       "2016-05-01 00:00:00            3.60        -73.985901        40.768040   \n",
       "2016-05-01 00:00:00           18.41        -73.781059        40.645020   \n",
       "2016-05-01 00:00:00            1.60        -74.002769        40.728619   \n",
       "...                             ...               ...              ...   \n",
       "2016-05-01 23:59:00           19.80        -73.789543        40.647316   \n",
       "2016-05-01 23:59:00            0.50        -73.984489        40.760044   \n",
       "2016-05-01 23:59:00            4.05        -73.989357        40.758759   \n",
       "\n",
       "                      RatecodeID store_and_fwd_flag  dropoff_longitude  \\\n",
       "tpep_pickup_datetime                                                     \n",
       "2016-05-01 00:00:00            1                  N         -73.983986   \n",
       "2016-05-01 00:00:00            2                  N         -73.984573   \n",
       "2016-05-01 00:00:00            1                  N         -73.984161   \n",
       "...                          ...                ...                ...   \n",
       "2016-05-01 23:59:00            2                  N         -74.000298   \n",
       "2016-05-01 23:59:00            1                  N         -73.988449   \n",
       "2016-05-01 23:59:00            1                  N         -73.949982   \n",
       "\n",
       "                      dropoff_latitude  payment_type  fare_amount  extra  \\\n",
       "tpep_pickup_datetime                                                       \n",
       "2016-05-01 00:00:00          40.730099             1         15.0    0.5   \n",
       "2016-05-01 00:00:00          40.768398             2         52.0    0.0   \n",
       "2016-05-01 00:00:00          40.737438             1          8.0    0.5   \n",
       "...                                ...           ...          ...    ...   \n",
       "2016-05-01 23:59:00          40.744408             1         52.0    0.0   \n",
       "2016-05-01 23:59:00          40.764175             2          5.5    0.5   \n",
       "2016-05-01 23:59:00          40.805481             1         14.5    0.5   \n",
       "\n",
       "                      mta_tax  tip_amount  tolls_amount  \\\n",
       "tpep_pickup_datetime                                      \n",
       "2016-05-01 00:00:00       0.5        1.50           0.0   \n",
       "2016-05-01 00:00:00       0.5        0.00           0.0   \n",
       "2016-05-01 00:00:00       0.5        1.86           0.0   \n",
       "...                       ...         ...           ...   \n",
       "2016-05-01 23:59:00       0.5        6.00           0.0   \n",
       "2016-05-01 23:59:00       0.5        0.00           0.0   \n",
       "2016-05-01 23:59:00       0.5        2.20           0.0   \n",
       "\n",
       "                      improvement_surcharge  total_amount  \n",
       "tpep_pickup_datetime                                       \n",
       "2016-05-01 00:00:00                     0.3         17.80  \n",
       "2016-05-01 00:00:00                     0.3         52.80  \n",
       "2016-05-01 00:00:00                     0.3         11.16  \n",
       "...                                     ...           ...  \n",
       "2016-05-01 23:59:00                     0.3         58.80  \n",
       "2016-05-01 23:59:00                     0.3          6.80  \n",
       "2016-05-01 23:59:00                     0.3         18.00  \n",
       "\n",
       "[38211 rows x 18 columns]"
      ]
     },
     "execution_count": 3,
     "metadata": {},
     "output_type": "execute_result"
    }
   ],
   "source": [
    "df"
   ]
  },
  {
   "cell_type": "markdown",
   "metadata": {},
   "source": [
    "We can check to make sure the date/time information has been read in as the index, which allows us to reference the other columns using this time information really easily:"
   ]
  },
  {
   "cell_type": "code",
   "execution_count": 37,
   "metadata": {
    "collapsed": false
   },
   "outputs": [
    {
     "data": {
      "text/plain": [
       "DatetimeIndex(['2016-05-01 00:00:00', '2016-05-01 00:00:00',\n",
       "               '2016-05-01 00:00:00', '2016-05-01 00:00:00',\n",
       "               '2016-05-01 00:00:00', '2016-05-01 00:00:00',\n",
       "               '2016-05-01 00:00:00', '2016-05-01 00:00:00',\n",
       "               '2016-05-01 00:00:00', '2016-05-01 00:00:00',\n",
       "               ...\n",
       "               '2016-05-01 23:59:00', '2016-05-01 23:59:00',\n",
       "               '2016-05-01 23:59:00', '2016-05-01 23:59:00',\n",
       "               '2016-05-01 23:59:00', '2016-05-01 23:59:00',\n",
       "               '2016-05-01 23:59:00', '2016-05-01 23:59:00',\n",
       "               '2016-05-01 23:59:00', '2016-05-01 23:59:00'],\n",
       "              dtype='datetime64[ns]', name='tpep_pickup_datetime', length=38211, freq=None)"
      ]
     },
     "execution_count": 37,
     "metadata": {},
     "output_type": "execute_result"
    }
   ],
   "source": [
    "df.index"
   ]
  },
  {
   "cell_type": "markdown",
   "metadata": {},
   "source": [
    "From this we see that the index is indeed using the timing information in the file, and we can see that the `dtype` is `datetime`.\n",
    "\n",
    "We can now access the file information using keyword arguments, like so:"
   ]
  },
  {
   "cell_type": "code",
   "execution_count": 5,
   "metadata": {
    "collapsed": false
   },
   "outputs": [
    {
     "data": {
      "text/plain": [
       "tpep_pickup_datetime\n",
       "2016-05-01 00:00:00     3.60\n",
       "2016-05-01 00:00:00    18.41\n",
       "2016-05-01 00:00:00     1.60\n",
       "                       ...  \n",
       "2016-05-01 23:59:00    19.80\n",
       "2016-05-01 23:59:00     0.50\n",
       "2016-05-01 23:59:00     4.05\n",
       "Name: trip_distance, dtype: float64"
      ]
     },
     "execution_count": 5,
     "metadata": {},
     "output_type": "execute_result"
    }
   ],
   "source": [
    "df['trip_distance']"
   ]
  },
  {
   "cell_type": "markdown",
   "metadata": {},
   "source": [
    "We can plot in this way, too:"
   ]
  },
  {
   "cell_type": "code",
   "execution_count": 56,
   "metadata": {
    "collapsed": false
   },
   "outputs": [
    {
     "data": {
      "text/plain": [
       "<matplotlib.axes._subplots.AxesSubplot at 0x7f185e3c57b8>"
      ]
     },
     "execution_count": 56,
     "metadata": {},
     "output_type": "execute_result"
    },
    {
     "data": {
      "image/png": "[encoded data removed]",
      "text/plain": [
       "<matplotlib.figure.Figure at 0x7f185e3cd470>"
      ]
     },
     "metadata": {},
     "output_type": "display_data"
    }
   ],
   "source": [
    "df['trip_distance']['2016-05-01 06:15:00':'2016-05-01 06:19:00'].plot(figsize=(14,6), marker='o', linestyle='none')"
   ]
  },
  {
   "cell_type": "markdown",
   "metadata": {},
   "source": [
    "One of the biggest benefits of using `pandas` is being able to easily reference the data in intuitive ways. For example, because we set up the index of the dataframe to be the date, we can pull out data using dates. In the following, we pull out all data from the first hour of the day:"
   ]
  },
  {
   "cell_type": "code",
   "execution_count": 57,
   "metadata": {
    "collapsed": false
   },
   "outputs": [
    {
     "data": {
      "text/html": [
       "<div>\n",
       "<table border=\"1\" class=\"dataframe\">\n",
       "  <thead>\n",
       "    <tr style=\"text-align: right;\">\n",
       "      <th></th>\n",
       "      <th>VendorID</th>\n",
       "      <th>tpep_dropoff_datetime</th>\n",
       "      <th>passenger_count</th>\n",
       "      <th>trip_distance</th>\n",
       "      <th>pickup_longitude</th>\n",
       "      <th>pickup_latitude</th>\n",
       "      <th>RatecodeID</th>\n",
       "      <th>store_and_fwd_flag</th>\n",
       "      <th>dropoff_longitude</th>\n",
       "      <th>dropoff_latitude</th>\n",
       "      <th>payment_type</th>\n",
       "      <th>fare_amount</th>\n",
       "      <th>extra</th>\n",
       "      <th>mta_tax</th>\n",
       "      <th>tip_amount</th>\n",
       "      <th>tolls_amount</th>\n",
       "      <th>improvement_surcharge</th>\n",
       "      <th>total_amount</th>\n",
       "      <th>minute</th>\n",
       "    </tr>\n",
       "    <tr>\n",
       "      <th>tpep_pickup_datetime</th>\n",
       "      <th></th>\n",
       "      <th></th>\n",
       "      <th></th>\n",
       "      <th></th>\n",
       "      <th></th>\n",
       "      <th></th>\n",
       "      <th></th>\n",
       "      <th></th>\n",
       "      <th></th>\n",
       "      <th></th>\n",
       "      <th></th>\n",
       "      <th></th>\n",
       "      <th></th>\n",
       "      <th></th>\n",
       "      <th></th>\n",
       "      <th></th>\n",
       "      <th></th>\n",
       "      <th></th>\n",
       "      <th></th>\n",
       "    </tr>\n",
       "  </thead>\n",
       "  <tbody>\n",
       "    <tr>\n",
       "      <th>2016-05-01 05:00:00</th>\n",
       "      <td>1</td>\n",
       "      <td>2016-05-01 05:02:00</td>\n",
       "      <td>1</td>\n",
       "      <td>0.40</td>\n",
       "      <td>-73.986313</td>\n",
       "      <td>40.726517</td>\n",
       "      <td>1</td>\n",
       "      <td>N</td>\n",
       "      <td>-73.979393</td>\n",
       "      <td>40.723602</td>\n",
       "      <td>2</td>\n",
       "      <td>3.5</td>\n",
       "      <td>0.5</td>\n",
       "      <td>0.5</td>\n",
       "      <td>0.00</td>\n",
       "      <td>0.00</td>\n",
       "      <td>0.3</td>\n",
       "      <td>4.80</td>\n",
       "      <td>0</td>\n",
       "    </tr>\n",
       "    <tr>\n",
       "      <th>2016-05-01 05:00:00</th>\n",
       "      <td>1</td>\n",
       "      <td>2016-05-01 05:01:00</td>\n",
       "      <td>2</td>\n",
       "      <td>0.30</td>\n",
       "      <td>-73.989182</td>\n",
       "      <td>40.743855</td>\n",
       "      <td>1</td>\n",
       "      <td>N</td>\n",
       "      <td>-73.992561</td>\n",
       "      <td>40.746086</td>\n",
       "      <td>1</td>\n",
       "      <td>3.5</td>\n",
       "      <td>0.5</td>\n",
       "      <td>0.5</td>\n",
       "      <td>0.00</td>\n",
       "      <td>0.00</td>\n",
       "      <td>0.3</td>\n",
       "      <td>4.80</td>\n",
       "      <td>0</td>\n",
       "    </tr>\n",
       "    <tr>\n",
       "      <th>2016-05-01 05:00:00</th>\n",
       "      <td>2</td>\n",
       "      <td>2016-05-01 05:18:00</td>\n",
       "      <td>1</td>\n",
       "      <td>5.81</td>\n",
       "      <td>-73.998199</td>\n",
       "      <td>40.750980</td>\n",
       "      <td>1</td>\n",
       "      <td>N</td>\n",
       "      <td>-73.950920</td>\n",
       "      <td>40.799171</td>\n",
       "      <td>2</td>\n",
       "      <td>20.0</td>\n",
       "      <td>0.5</td>\n",
       "      <td>0.5</td>\n",
       "      <td>0.00</td>\n",
       "      <td>0.00</td>\n",
       "      <td>0.3</td>\n",
       "      <td>21.30</td>\n",
       "      <td>0</td>\n",
       "    </tr>\n",
       "    <tr>\n",
       "      <th>...</th>\n",
       "      <td>...</td>\n",
       "      <td>...</td>\n",
       "      <td>...</td>\n",
       "      <td>...</td>\n",
       "      <td>...</td>\n",
       "      <td>...</td>\n",
       "      <td>...</td>\n",
       "      <td>...</td>\n",
       "      <td>...</td>\n",
       "      <td>...</td>\n",
       "      <td>...</td>\n",
       "      <td>...</td>\n",
       "      <td>...</td>\n",
       "      <td>...</td>\n",
       "      <td>...</td>\n",
       "      <td>...</td>\n",
       "      <td>...</td>\n",
       "      <td>...</td>\n",
       "      <td>...</td>\n",
       "    </tr>\n",
       "    <tr>\n",
       "      <th>2016-05-01 06:59:00</th>\n",
       "      <td>2</td>\n",
       "      <td>2016-05-01 07:04:00</td>\n",
       "      <td>1</td>\n",
       "      <td>1.16</td>\n",
       "      <td>-73.963753</td>\n",
       "      <td>40.771049</td>\n",
       "      <td>1</td>\n",
       "      <td>N</td>\n",
       "      <td>-73.952911</td>\n",
       "      <td>40.785870</td>\n",
       "      <td>1</td>\n",
       "      <td>6.0</td>\n",
       "      <td>0.0</td>\n",
       "      <td>0.5</td>\n",
       "      <td>1.36</td>\n",
       "      <td>0.00</td>\n",
       "      <td>0.3</td>\n",
       "      <td>8.16</td>\n",
       "      <td>59</td>\n",
       "    </tr>\n",
       "    <tr>\n",
       "      <th>2016-05-01 06:59:00</th>\n",
       "      <td>2</td>\n",
       "      <td>2016-05-01 07:22:00</td>\n",
       "      <td>1</td>\n",
       "      <td>13.17</td>\n",
       "      <td>-73.950783</td>\n",
       "      <td>40.799202</td>\n",
       "      <td>2</td>\n",
       "      <td>N</td>\n",
       "      <td>-73.850761</td>\n",
       "      <td>40.749844</td>\n",
       "      <td>1</td>\n",
       "      <td>52.0</td>\n",
       "      <td>0.0</td>\n",
       "      <td>0.5</td>\n",
       "      <td>17.50</td>\n",
       "      <td>5.54</td>\n",
       "      <td>0.3</td>\n",
       "      <td>75.84</td>\n",
       "      <td>59</td>\n",
       "    </tr>\n",
       "    <tr>\n",
       "      <th>2016-05-01 06:59:00</th>\n",
       "      <td>1</td>\n",
       "      <td>2016-05-01 07:08:00</td>\n",
       "      <td>1</td>\n",
       "      <td>2.00</td>\n",
       "      <td>-73.952225</td>\n",
       "      <td>40.777050</td>\n",
       "      <td>1</td>\n",
       "      <td>N</td>\n",
       "      <td>-73.980202</td>\n",
       "      <td>40.783524</td>\n",
       "      <td>2</td>\n",
       "      <td>9.0</td>\n",
       "      <td>0.0</td>\n",
       "      <td>0.5</td>\n",
       "      <td>0.00</td>\n",
       "      <td>0.00</td>\n",
       "      <td>0.3</td>\n",
       "      <td>9.80</td>\n",
       "      <td>59</td>\n",
       "    </tr>\n",
       "  </tbody>\n",
       "</table>\n",
       "<p>772 rows × 19 columns</p>\n",
       "</div>"
      ],
      "text/plain": [
       "                      VendorID tpep_dropoff_datetime  passenger_count  \\\n",
       "tpep_pickup_datetime                                                    \n",
       "2016-05-01 05:00:00          1   2016-05-01 05:02:00                1   \n",
       "2016-05-01 05:00:00          1   2016-05-01 05:01:00                2   \n",
       "2016-05-01 05:00:00          2   2016-05-01 05:18:00                1   \n",
       "...                        ...                   ...              ...   \n",
       "2016-05-01 06:59:00          2   2016-05-01 07:04:00                1   \n",
       "2016-05-01 06:59:00          2   2016-05-01 07:22:00                1   \n",
       "2016-05-01 06:59:00          1   2016-05-01 07:08:00                1   \n",
       "\n",
       "                      trip_distance  pickup_longitude  pickup_latitude  \\\n",
       "tpep_pickup_datetime                                                     \n",
       "2016-05-01 05:00:00            0.40        -73.986313        40.726517   \n",
       "2016-05-01 05:00:00            0.30        -73.989182        40.743855   \n",
       "2016-05-01 05:00:00            5.81        -73.998199        40.750980   \n",
       "...                             ...               ...              ...   \n",
       "2016-05-01 06:59:00            1.16        -73.963753        40.771049   \n",
       "2016-05-01 06:59:00           13.17        -73.950783        40.799202   \n",
       "2016-05-01 06:59:00            2.00        -73.952225        40.777050   \n",
       "\n",
       "                      RatecodeID store_and_fwd_flag  dropoff_longitude  \\\n",
       "tpep_pickup_datetime                                                     \n",
       "2016-05-01 05:00:00            1                  N         -73.979393   \n",
       "2016-05-01 05:00:00            1                  N         -73.992561   \n",
       "2016-05-01 05:00:00            1                  N         -73.950920   \n",
       "...                          ...                ...                ...   \n",
       "2016-05-01 06:59:00            1                  N         -73.952911   \n",
       "2016-05-01 06:59:00            2                  N         -73.850761   \n",
       "2016-05-01 06:59:00            1                  N         -73.980202   \n",
       "\n",
       "                      dropoff_latitude  payment_type  fare_amount  extra  \\\n",
       "tpep_pickup_datetime                                                       \n",
       "2016-05-01 05:00:00          40.723602             2          3.5    0.5   \n",
       "2016-05-01 05:00:00          40.746086             1          3.5    0.5   \n",
       "2016-05-01 05:00:00          40.799171             2         20.0    0.5   \n",
       "...                                ...           ...          ...    ...   \n",
       "2016-05-01 06:59:00          40.785870             1          6.0    0.0   \n",
       "2016-05-01 06:59:00          40.749844             1         52.0    0.0   \n",
       "2016-05-01 06:59:00          40.783524             2          9.0    0.0   \n",
       "\n",
       "                      mta_tax  tip_amount  tolls_amount  \\\n",
       "tpep_pickup_datetime                                      \n",
       "2016-05-01 05:00:00       0.5        0.00          0.00   \n",
       "2016-05-01 05:00:00       0.5        0.00          0.00   \n",
       "2016-05-01 05:00:00       0.5        0.00          0.00   \n",
       "...                       ...         ...           ...   \n",
       "2016-05-01 06:59:00       0.5        1.36          0.00   \n",
       "2016-05-01 06:59:00       0.5       17.50          5.54   \n",
       "2016-05-01 06:59:00       0.5        0.00          0.00   \n",
       "\n",
       "                      improvement_surcharge  total_amount  minute  \n",
       "tpep_pickup_datetime                                               \n",
       "2016-05-01 05:00:00                     0.3          4.80       0  \n",
       "2016-05-01 05:00:00                     0.3          4.80       0  \n",
       "2016-05-01 05:00:00                     0.3         21.30       0  \n",
       "...                                     ...           ...     ...  \n",
       "2016-05-01 06:59:00                     0.3          8.16      59  \n",
       "2016-05-01 06:59:00                     0.3         75.84      59  \n",
       "2016-05-01 06:59:00                     0.3          9.80      59  \n",
       "\n",
       "[772 rows x 19 columns]"
      ]
     },
     "execution_count": 57,
     "metadata": {},
     "output_type": "execute_result"
    }
   ],
   "source": [
    "df['2016-05-01 05':'2016-05-01 06']"
   ]
  },
  {
   "cell_type": "markdown",
   "metadata": {},
   "source": [
    "Here we further subdivide to examine the passenger count during that time period:"
   ]
  },
  {
   "cell_type": "code",
   "execution_count": 53,
   "metadata": {
    "collapsed": false
   },
   "outputs": [
    {
     "data": {
      "text/plain": [
       "tpep_pickup_datetime\n",
       "2016-05-01 00:00:00    1\n",
       "2016-05-01 00:00:00    2\n",
       "2016-05-01 00:00:00    1\n",
       "                      ..\n",
       "2016-05-01 00:59:00    2\n",
       "2016-05-01 00:59:00    5\n",
       "2016-05-01 00:59:00    1\n",
       "Name: passenger_count, dtype: int64"
      ]
     },
     "execution_count": 53,
     "metadata": {},
     "output_type": "execute_result"
    }
   ],
   "source": [
    "df['passenger_count']['2016-05-01 00']"
   ]
  },
  {
   "cell_type": "markdown",
   "metadata": {},
   "source": [
    "---\n",
    "###  *Exercise*\n",
    "\n",
    "> Figure out how to access the data from dataframe `df` for the first three hours of the day at once. Plot the tip amount (`tip_amount`) for this time period.\n",
    "\n",
    "> After you can make a line plot, try making a histogram of the data. Play around with the data range and the number of bins.\n",
    "\n",
    "---"
   ]
  },
  {
   "cell_type": "code",
   "execution_count": 71,
   "metadata": {
    "collapsed": false
   },
   "outputs": [
    {
     "data": {
      "text/plain": [
       "<matplotlib.axes._subplots.AxesSubplot at 0x7f185d42fb38>"
      ]
     },
     "execution_count": 71,
     "metadata": {},
     "output_type": "execute_result"
    },
    {
     "data": {
      "image/png": "[encoded data removed]",
      "text/plain": [
       "<matplotlib.figure.Figure at 0x7f185d646588>"
      ]
     },
     "metadata": {},
     "output_type": "display_data"
    }
   ],
   "source": [
    "df['2016-05-01 00':'2016-05-01 02']['fare_amount'].hist(bins=np.linspace(0.1, 50, 100))"
   ]
  },
  {
   "cell_type": "markdown",
   "metadata": {},
   "source": [
    "## `groupby`\n",
    "\n",
    "We can add data to our dataframe very easily. Below we add an index that gives the minute in the hour throughout the day.\n",
    "\n",
    "We now can use the values from the key `minute` to compute the average of properties over all of the hours in the file, by minute. We access the data in the dataframe, `groupby` the minute of the hour (spanning all of the hours), and then compute the mean. For this dataset, this isn't necessarily a very meaningful computation since why would one part of the hour consistently have different types of taxi rides?\n",
    "\n",
    "Note that we can change many `plot` parameters directly from `pandas`."
   ]
  },
  {
   "cell_type": "code",
   "execution_count": 78,
   "metadata": {
    "collapsed": false
   },
   "outputs": [
    {
     "data": {
      "text/plain": [
       "[<matplotlib.lines.Line2D at 0x7f185d254438>]"
      ]
     },
     "execution_count": 78,
     "metadata": {},
     "output_type": "execute_result"
    },
    {
     "data": {
      "image/png": "[encoded data removed]",
      "text/plain": [
       "<matplotlib.figure.Figure at 0x7f185d77f978>"
      ]
     },
     "metadata": {},
     "output_type": "display_data"
    }
   ],
   "source": [
    "df.index.minute"
   ]
  },
  {
   "cell_type": "code",
   "execution_count": 86,
   "metadata": {
    "collapsed": false
   },
   "outputs": [
    {
     "data": {
      "text/plain": [
       "<matplotlib.axes._subplots.AxesSubplot at 0x7f185d0a2ba8>"
      ]
     },
     "execution_count": 86,
     "metadata": {},
     "output_type": "execute_result"
    },
    {
     "data": {
      "image/png": "[encoded data removed]",
      "text/plain": [
       "<matplotlib.figure.Figure at 0x7f185d034470>"
      ]
     },
     "metadata": {},
     "output_type": "display_data"
    }
   ],
   "source": [
    "df.groupby('minute').aggregate(np.std)['fare_amount'].plot()"
   ]
  },
  {
   "cell_type": "code",
   "execution_count": 10,
   "metadata": {
    "collapsed": false
   },
   "outputs": [
    {
     "data": {
      "text/plain": [
       "<matplotlib.axes._subplots.AxesSubplot at 0x7f185e991978>"
      ]
     },
     "execution_count": 10,
     "metadata": {},
     "output_type": "execute_result"
    },
    {
     "data": {
      "image/png": "[encoded data removed]",
      "text/plain": [
       "<matplotlib.figure.Figure at 0x7f185e98aa58>"
      ]
     },
     "metadata": {},
     "output_type": "display_data"
    }
   ],
   "source": [
    "df.loc[:, 'minute'] = df.index.minute  # adding a field for the minute of the hour\n",
    "df.groupby('minute').aggregate(np.mean)['fare_amount'].plot(color='k', grid=True, figsize=(14, 4), lw=3)"
   ]
  },
  {
   "cell_type": "markdown",
   "metadata": {},
   "source": [
    "## Resampling\n",
    "\n",
    "Sometimes we want our data to be at a different sampling frequency that we have. Changing this is called resampling. We can upsample to increase the number of data point within a given dataset (or decrease the period between points) or we can downsample to decrease the number of data points.\n",
    "\n",
    "Let's read in the wind data file that we have used before to examine this further:"
   ]
  },
  {
   "cell_type": "code",
   "execution_count": 11,
   "metadata": {
    "collapsed": false
   },
   "outputs": [
    {
     "data": {
      "text/html": [
       "<div>\n",
       "<table border=\"1\" class=\"dataframe\">\n",
       "  <thead>\n",
       "    <tr style=\"text-align: right;\">\n",
       "      <th></th>\n",
       "      <th>mm</th>\n",
       "      <th>WDIR</th>\n",
       "      <th>WSPD</th>\n",
       "      <th>GST</th>\n",
       "      <th>WVHT</th>\n",
       "      <th>DPD</th>\n",
       "      <th>APD</th>\n",
       "      <th>MWD</th>\n",
       "      <th>PRES</th>\n",
       "      <th>ATMP</th>\n",
       "      <th>WTMP</th>\n",
       "      <th>DEWP</th>\n",
       "      <th>VIS</th>\n",
       "      <th>TIDE</th>\n",
       "    </tr>\n",
       "    <tr>\n",
       "      <th>dates</th>\n",
       "      <th></th>\n",
       "      <th></th>\n",
       "      <th></th>\n",
       "      <th></th>\n",
       "      <th></th>\n",
       "      <th></th>\n",
       "      <th></th>\n",
       "      <th></th>\n",
       "      <th></th>\n",
       "      <th></th>\n",
       "      <th></th>\n",
       "      <th></th>\n",
       "      <th></th>\n",
       "      <th></th>\n",
       "    </tr>\n",
       "  </thead>\n",
       "  <tbody>\n",
       "    <tr>\n",
       "      <th>2010-01-01 00:00:00</th>\n",
       "      <td>0</td>\n",
       "      <td>134</td>\n",
       "      <td>3.0</td>\n",
       "      <td>3.0</td>\n",
       "      <td>99.0</td>\n",
       "      <td>99.0</td>\n",
       "      <td>99.0</td>\n",
       "      <td>999</td>\n",
       "      <td>1019.1</td>\n",
       "      <td>13.3</td>\n",
       "      <td>999.0</td>\n",
       "      <td>12.4</td>\n",
       "      <td>99.0</td>\n",
       "      <td>99.0</td>\n",
       "    </tr>\n",
       "    <tr>\n",
       "      <th>2010-01-01 01:00:00</th>\n",
       "      <td>0</td>\n",
       "      <td>123</td>\n",
       "      <td>3.6</td>\n",
       "      <td>3.6</td>\n",
       "      <td>99.0</td>\n",
       "      <td>99.0</td>\n",
       "      <td>99.0</td>\n",
       "      <td>999</td>\n",
       "      <td>1019.1</td>\n",
       "      <td>13.6</td>\n",
       "      <td>999.0</td>\n",
       "      <td>12.7</td>\n",
       "      <td>99.0</td>\n",
       "      <td>99.0</td>\n",
       "    </tr>\n",
       "    <tr>\n",
       "      <th>2010-01-01 02:00:00</th>\n",
       "      <td>0</td>\n",
       "      <td>130</td>\n",
       "      <td>3.3</td>\n",
       "      <td>3.3</td>\n",
       "      <td>99.0</td>\n",
       "      <td>99.0</td>\n",
       "      <td>99.0</td>\n",
       "      <td>999</td>\n",
       "      <td>1019.7</td>\n",
       "      <td>13.6</td>\n",
       "      <td>999.0</td>\n",
       "      <td>12.9</td>\n",
       "      <td>99.0</td>\n",
       "      <td>99.0</td>\n",
       "    </tr>\n",
       "    <tr>\n",
       "      <th>...</th>\n",
       "      <td>...</td>\n",
       "      <td>...</td>\n",
       "      <td>...</td>\n",
       "      <td>...</td>\n",
       "      <td>...</td>\n",
       "      <td>...</td>\n",
       "      <td>...</td>\n",
       "      <td>...</td>\n",
       "      <td>...</td>\n",
       "      <td>...</td>\n",
       "      <td>...</td>\n",
       "      <td>...</td>\n",
       "      <td>...</td>\n",
       "      <td>...</td>\n",
       "    </tr>\n",
       "    <tr>\n",
       "      <th>2010-12-31 21:00:00</th>\n",
       "      <td>0</td>\n",
       "      <td>147</td>\n",
       "      <td>11.4</td>\n",
       "      <td>11.8</td>\n",
       "      <td>99.0</td>\n",
       "      <td>99.0</td>\n",
       "      <td>99.0</td>\n",
       "      <td>999</td>\n",
       "      <td>1012.4</td>\n",
       "      <td>20.4</td>\n",
       "      <td>999.0</td>\n",
       "      <td>19.2</td>\n",
       "      <td>99.0</td>\n",
       "      <td>99.0</td>\n",
       "    </tr>\n",
       "    <tr>\n",
       "      <th>2010-12-31 22:00:00</th>\n",
       "      <td>0</td>\n",
       "      <td>152</td>\n",
       "      <td>11.9</td>\n",
       "      <td>12.9</td>\n",
       "      <td>99.0</td>\n",
       "      <td>99.0</td>\n",
       "      <td>99.0</td>\n",
       "      <td>999</td>\n",
       "      <td>1012.6</td>\n",
       "      <td>20.6</td>\n",
       "      <td>999.0</td>\n",
       "      <td>19.6</td>\n",
       "      <td>99.0</td>\n",
       "      <td>99.0</td>\n",
       "    </tr>\n",
       "    <tr>\n",
       "      <th>2010-12-31 23:00:00</th>\n",
       "      <td>0</td>\n",
       "      <td>150</td>\n",
       "      <td>10.2</td>\n",
       "      <td>10.9</td>\n",
       "      <td>99.0</td>\n",
       "      <td>99.0</td>\n",
       "      <td>99.0</td>\n",
       "      <td>999</td>\n",
       "      <td>1012.8</td>\n",
       "      <td>20.4</td>\n",
       "      <td>999.0</td>\n",
       "      <td>19.6</td>\n",
       "      <td>99.0</td>\n",
       "      <td>99.0</td>\n",
       "    </tr>\n",
       "  </tbody>\n",
       "</table>\n",
       "<p>8755 rows × 14 columns</p>\n",
       "</div>"
      ],
      "text/plain": [
       "                     mm  WDIR  WSPD   GST  WVHT   DPD   APD  MWD    PRES  \\\n",
       "dates                                                                      \n",
       "2010-01-01 00:00:00   0   134   3.0   3.0  99.0  99.0  99.0  999  1019.1   \n",
       "2010-01-01 01:00:00   0   123   3.6   3.6  99.0  99.0  99.0  999  1019.1   \n",
       "2010-01-01 02:00:00   0   130   3.3   3.3  99.0  99.0  99.0  999  1019.7   \n",
       "...                  ..   ...   ...   ...   ...   ...   ...  ...     ...   \n",
       "2010-12-31 21:00:00   0   147  11.4  11.8  99.0  99.0  99.0  999  1012.4   \n",
       "2010-12-31 22:00:00   0   152  11.9  12.9  99.0  99.0  99.0  999  1012.6   \n",
       "2010-12-31 23:00:00   0   150  10.2  10.9  99.0  99.0  99.0  999  1012.8   \n",
       "\n",
       "                     ATMP   WTMP  DEWP   VIS  TIDE  \n",
       "dates                                               \n",
       "2010-01-01 00:00:00  13.3  999.0  12.4  99.0  99.0  \n",
       "2010-01-01 01:00:00  13.6  999.0  12.7  99.0  99.0  \n",
       "2010-01-01 02:00:00  13.6  999.0  12.9  99.0  99.0  \n",
       "...                   ...    ...   ...   ...   ...  \n",
       "2010-12-31 21:00:00  20.4  999.0  19.2  99.0  99.0  \n",
       "2010-12-31 22:00:00  20.6  999.0  19.6  99.0  99.0  \n",
       "2010-12-31 23:00:00  20.4  999.0  19.6  99.0  99.0  \n",
       "\n",
       "[8755 rows x 14 columns]"
      ]
     },
     "execution_count": 11,
     "metadata": {},
     "output_type": "execute_result"
    }
   ],
   "source": [
    "df2 = pd.read_table('../data/burl1h2010.txt', header=0, skiprows=[1], delim_whitespace=True, \n",
    "                    parse_dates={'dates': ['#YY', 'MM', 'DD', 'hh']},  index_col=0)\n",
    "df2"
   ]
  },
  {
   "cell_type": "code",
   "execution_count": 87,
   "metadata": {
    "collapsed": false
   },
   "outputs": [
    {
     "data": {
      "text/plain": [
       "DatetimeIndex(['2010-01-01 00:00:00', '2010-01-01 01:00:00',\n",
       "               '2010-01-01 02:00:00', '2010-01-01 03:00:00',\n",
       "               '2010-01-01 04:00:00', '2010-01-01 05:00:00',\n",
       "               '2010-01-01 06:00:00', '2010-01-01 07:00:00',\n",
       "               '2010-01-01 08:00:00', '2010-01-01 09:00:00',\n",
       "               ...\n",
       "               '2010-12-31 14:00:00', '2010-12-31 15:00:00',\n",
       "               '2010-12-31 16:00:00', '2010-12-31 17:00:00',\n",
       "               '2010-12-31 18:00:00', '2010-12-31 19:00:00',\n",
       "               '2010-12-31 20:00:00', '2010-12-31 21:00:00',\n",
       "               '2010-12-31 22:00:00', '2010-12-31 23:00:00'],\n",
       "              dtype='datetime64[ns]', name='dates', length=8755, freq=None)"
      ]
     },
     "execution_count": 87,
     "metadata": {},
     "output_type": "execute_result"
    }
   ],
   "source": [
    "df2.index"
   ]
  },
  {
   "cell_type": "markdown",
   "metadata": {},
   "source": [
    "The data is sampled every hour. We could downsample it to be once a day instead. A method needs to be used for how to combine the data over the downsampling period — the default is 'mean'. We could use the maximum value over the 1-day period to represent each day:"
   ]
  },
  {
   "cell_type": "code",
   "execution_count": 88,
   "metadata": {
    "collapsed": false
   },
   "outputs": [
    {
     "data": {
      "text/plain": [
       "DatetimeIndexResampler [freq=<Day>, axis=0, closed=left, label=left, convention=start, base=0]"
      ]
     },
     "execution_count": 88,
     "metadata": {},
     "output_type": "execute_result"
    }
   ],
   "source": [
    "df2.resample('1d')"
   ]
  },
  {
   "cell_type": "code",
   "execution_count": 103,
   "metadata": {
    "collapsed": false
   },
   "outputs": [
    {
     "data": {
      "text/html": [
       "<div>\n",
       "<table border=\"1\" class=\"dataframe\">\n",
       "  <thead>\n",
       "    <tr style=\"text-align: right;\">\n",
       "      <th></th>\n",
       "      <th>mm</th>\n",
       "      <th>WDIR</th>\n",
       "      <th>WSPD</th>\n",
       "      <th>GST</th>\n",
       "      <th>WVHT</th>\n",
       "      <th>DPD</th>\n",
       "      <th>APD</th>\n",
       "      <th>MWD</th>\n",
       "      <th>PRES</th>\n",
       "      <th>ATMP</th>\n",
       "      <th>WTMP</th>\n",
       "      <th>DEWP</th>\n",
       "      <th>VIS</th>\n",
       "      <th>TIDE</th>\n",
       "    </tr>\n",
       "    <tr>\n",
       "      <th>dates</th>\n",
       "      <th></th>\n",
       "      <th></th>\n",
       "      <th></th>\n",
       "      <th></th>\n",
       "      <th></th>\n",
       "      <th></th>\n",
       "      <th></th>\n",
       "      <th></th>\n",
       "      <th></th>\n",
       "      <th></th>\n",
       "      <th></th>\n",
       "      <th></th>\n",
       "      <th></th>\n",
       "      <th></th>\n",
       "    </tr>\n",
       "  </thead>\n",
       "  <tbody>\n",
       "    <tr>\n",
       "      <th>2010-01-01</th>\n",
       "      <td>0.0</td>\n",
       "      <td>74.708333</td>\n",
       "      <td>8.891667</td>\n",
       "      <td>9.683333</td>\n",
       "      <td>99.0</td>\n",
       "      <td>99.0</td>\n",
       "      <td>99.0</td>\n",
       "      <td>999.0</td>\n",
       "      <td>1021.425000</td>\n",
       "      <td>10.787500</td>\n",
       "      <td>999.0</td>\n",
       "      <td>9.025000</td>\n",
       "      <td>99.0</td>\n",
       "      <td>99.0</td>\n",
       "    </tr>\n",
       "    <tr>\n",
       "      <th>2010-01-02</th>\n",
       "      <td>0.0</td>\n",
       "      <td>18.541667</td>\n",
       "      <td>8.837500</td>\n",
       "      <td>9.600000</td>\n",
       "      <td>99.0</td>\n",
       "      <td>99.0</td>\n",
       "      <td>99.0</td>\n",
       "      <td>999.0</td>\n",
       "      <td>1026.450000</td>\n",
       "      <td>8.283333</td>\n",
       "      <td>999.0</td>\n",
       "      <td>3.025000</td>\n",
       "      <td>99.0</td>\n",
       "      <td>99.0</td>\n",
       "    </tr>\n",
       "    <tr>\n",
       "      <th>2010-01-03</th>\n",
       "      <td>0.0</td>\n",
       "      <td>31.000000</td>\n",
       "      <td>7.200000</td>\n",
       "      <td>7.754167</td>\n",
       "      <td>99.0</td>\n",
       "      <td>99.0</td>\n",
       "      <td>99.0</td>\n",
       "      <td>999.0</td>\n",
       "      <td>1024.320833</td>\n",
       "      <td>7.129167</td>\n",
       "      <td>999.0</td>\n",
       "      <td>1.900000</td>\n",
       "      <td>99.0</td>\n",
       "      <td>99.0</td>\n",
       "    </tr>\n",
       "    <tr>\n",
       "      <th>...</th>\n",
       "      <td>...</td>\n",
       "      <td>...</td>\n",
       "      <td>...</td>\n",
       "      <td>...</td>\n",
       "      <td>...</td>\n",
       "      <td>...</td>\n",
       "      <td>...</td>\n",
       "      <td>...</td>\n",
       "      <td>...</td>\n",
       "      <td>...</td>\n",
       "      <td>...</td>\n",
       "      <td>...</td>\n",
       "      <td>...</td>\n",
       "      <td>...</td>\n",
       "    </tr>\n",
       "    <tr>\n",
       "      <th>2010-12-29</th>\n",
       "      <td>0.0</td>\n",
       "      <td>138.750000</td>\n",
       "      <td>7.550000</td>\n",
       "      <td>8.166667</td>\n",
       "      <td>99.0</td>\n",
       "      <td>99.0</td>\n",
       "      <td>99.0</td>\n",
       "      <td>999.0</td>\n",
       "      <td>1020.250000</td>\n",
       "      <td>15.245833</td>\n",
       "      <td>999.0</td>\n",
       "      <td>8.970833</td>\n",
       "      <td>99.0</td>\n",
       "      <td>99.0</td>\n",
       "    </tr>\n",
       "    <tr>\n",
       "      <th>2010-12-30</th>\n",
       "      <td>0.0</td>\n",
       "      <td>163.125000</td>\n",
       "      <td>9.783333</td>\n",
       "      <td>10.520833</td>\n",
       "      <td>99.0</td>\n",
       "      <td>99.0</td>\n",
       "      <td>99.0</td>\n",
       "      <td>999.0</td>\n",
       "      <td>1013.150000</td>\n",
       "      <td>19.391667</td>\n",
       "      <td>999.0</td>\n",
       "      <td>15.629167</td>\n",
       "      <td>99.0</td>\n",
       "      <td>99.0</td>\n",
       "    </tr>\n",
       "    <tr>\n",
       "      <th>2010-12-31</th>\n",
       "      <td>0.0</td>\n",
       "      <td>138.541667</td>\n",
       "      <td>10.937500</td>\n",
       "      <td>11.787500</td>\n",
       "      <td>99.0</td>\n",
       "      <td>99.0</td>\n",
       "      <td>99.0</td>\n",
       "      <td>999.0</td>\n",
       "      <td>1013.250000</td>\n",
       "      <td>20.404167</td>\n",
       "      <td>999.0</td>\n",
       "      <td>18.433333</td>\n",
       "      <td>99.0</td>\n",
       "      <td>99.0</td>\n",
       "    </tr>\n",
       "  </tbody>\n",
       "</table>\n",
       "<p>365 rows × 14 columns</p>\n",
       "</div>"
      ],
      "text/plain": [
       "             mm        WDIR       WSPD        GST  WVHT   DPD   APD    MWD  \\\n",
       "dates                                                                        \n",
       "2010-01-01  0.0   74.708333   8.891667   9.683333  99.0  99.0  99.0  999.0   \n",
       "2010-01-02  0.0   18.541667   8.837500   9.600000  99.0  99.0  99.0  999.0   \n",
       "2010-01-03  0.0   31.000000   7.200000   7.754167  99.0  99.0  99.0  999.0   \n",
       "...         ...         ...        ...        ...   ...   ...   ...    ...   \n",
       "2010-12-29  0.0  138.750000   7.550000   8.166667  99.0  99.0  99.0  999.0   \n",
       "2010-12-30  0.0  163.125000   9.783333  10.520833  99.0  99.0  99.0  999.0   \n",
       "2010-12-31  0.0  138.541667  10.937500  11.787500  99.0  99.0  99.0  999.0   \n",
       "\n",
       "                   PRES       ATMP   WTMP       DEWP   VIS  TIDE  \n",
       "dates                                                             \n",
       "2010-01-01  1021.425000  10.787500  999.0   9.025000  99.0  99.0  \n",
       "2010-01-02  1026.450000   8.283333  999.0   3.025000  99.0  99.0  \n",
       "2010-01-03  1024.320833   7.129167  999.0   1.900000  99.0  99.0  \n",
       "...                 ...        ...    ...        ...   ...   ...  \n",
       "2010-12-29  1020.250000  15.245833  999.0   8.970833  99.0  99.0  \n",
       "2010-12-30  1013.150000  19.391667  999.0  15.629167  99.0  99.0  \n",
       "2010-12-31  1013.250000  20.404167  999.0  18.433333  99.0  99.0  \n",
       "\n",
       "[365 rows x 14 columns]"
      ]
     },
     "execution_count": 103,
     "metadata": {},
     "output_type": "execute_result"
    }
   ],
   "source": [
    "df2.resample('1d').mean()    #['DEWP']  # now the data is daily"
   ]
  },
  {
   "cell_type": "markdown",
   "metadata": {},
   "source": [
    "We can instead upsample our data:"
   ]
  },
  {
   "cell_type": "code",
   "execution_count": 89,
   "metadata": {
    "collapsed": false
   },
   "outputs": [
    {
     "data": {
      "text/plain": [
       "DatetimeIndexResampler [freq=<15 * Minutes>, axis=0, closed=left, label=left, convention=start, base=0]"
      ]
     },
     "execution_count": 89,
     "metadata": {},
     "output_type": "execute_result"
    }
   ],
   "source": [
    "df2.resample('15min')"
   ]
  },
  {
   "cell_type": "markdown",
   "metadata": {},
   "source": [
    "Now the dates are every 15 minutes, as per our downsampling. However, the data is just filled in as NaNs until we tell it something else to do. A reasonable option is to interpolate:"
   ]
  },
  {
   "cell_type": "code",
   "execution_count": 24,
   "metadata": {
    "collapsed": false
   },
   "outputs": [
    {
     "data": {
      "text/html": [
       "<div>\n",
       "<table border=\"1\" class=\"dataframe\">\n",
       "  <thead>\n",
       "    <tr style=\"text-align: right;\">\n",
       "      <th></th>\n",
       "      <th>mm</th>\n",
       "      <th>WDIR</th>\n",
       "      <th>WSPD</th>\n",
       "      <th>GST</th>\n",
       "      <th>WVHT</th>\n",
       "      <th>DPD</th>\n",
       "      <th>APD</th>\n",
       "      <th>MWD</th>\n",
       "      <th>PRES</th>\n",
       "      <th>ATMP</th>\n",
       "      <th>WTMP</th>\n",
       "      <th>DEWP</th>\n",
       "      <th>VIS</th>\n",
       "      <th>TIDE</th>\n",
       "    </tr>\n",
       "    <tr>\n",
       "      <th>dates</th>\n",
       "      <th></th>\n",
       "      <th></th>\n",
       "      <th></th>\n",
       "      <th></th>\n",
       "      <th></th>\n",
       "      <th></th>\n",
       "      <th></th>\n",
       "      <th></th>\n",
       "      <th></th>\n",
       "      <th></th>\n",
       "      <th></th>\n",
       "      <th></th>\n",
       "      <th></th>\n",
       "      <th></th>\n",
       "    </tr>\n",
       "  </thead>\n",
       "  <tbody>\n",
       "    <tr>\n",
       "      <th>2010-01-01 00:00:00</th>\n",
       "      <td>0.0</td>\n",
       "      <td>134.00</td>\n",
       "      <td>3.000</td>\n",
       "      <td>3.00</td>\n",
       "      <td>99.0</td>\n",
       "      <td>99.0</td>\n",
       "      <td>99.0</td>\n",
       "      <td>999.0</td>\n",
       "      <td>1019.10</td>\n",
       "      <td>13.300</td>\n",
       "      <td>999.0</td>\n",
       "      <td>12.400</td>\n",
       "      <td>99.0</td>\n",
       "      <td>99.0</td>\n",
       "    </tr>\n",
       "    <tr>\n",
       "      <th>2010-01-01 00:15:00</th>\n",
       "      <td>0.0</td>\n",
       "      <td>131.25</td>\n",
       "      <td>3.150</td>\n",
       "      <td>3.15</td>\n",
       "      <td>99.0</td>\n",
       "      <td>99.0</td>\n",
       "      <td>99.0</td>\n",
       "      <td>999.0</td>\n",
       "      <td>1019.10</td>\n",
       "      <td>13.375</td>\n",
       "      <td>999.0</td>\n",
       "      <td>12.475</td>\n",
       "      <td>99.0</td>\n",
       "      <td>99.0</td>\n",
       "    </tr>\n",
       "    <tr>\n",
       "      <th>2010-01-01 00:30:00</th>\n",
       "      <td>0.0</td>\n",
       "      <td>128.50</td>\n",
       "      <td>3.300</td>\n",
       "      <td>3.30</td>\n",
       "      <td>99.0</td>\n",
       "      <td>99.0</td>\n",
       "      <td>99.0</td>\n",
       "      <td>999.0</td>\n",
       "      <td>1019.10</td>\n",
       "      <td>13.450</td>\n",
       "      <td>999.0</td>\n",
       "      <td>12.550</td>\n",
       "      <td>99.0</td>\n",
       "      <td>99.0</td>\n",
       "    </tr>\n",
       "    <tr>\n",
       "      <th>...</th>\n",
       "      <td>...</td>\n",
       "      <td>...</td>\n",
       "      <td>...</td>\n",
       "      <td>...</td>\n",
       "      <td>...</td>\n",
       "      <td>...</td>\n",
       "      <td>...</td>\n",
       "      <td>...</td>\n",
       "      <td>...</td>\n",
       "      <td>...</td>\n",
       "      <td>...</td>\n",
       "      <td>...</td>\n",
       "      <td>...</td>\n",
       "      <td>...</td>\n",
       "    </tr>\n",
       "    <tr>\n",
       "      <th>2010-12-31 22:30:00</th>\n",
       "      <td>0.0</td>\n",
       "      <td>151.00</td>\n",
       "      <td>11.050</td>\n",
       "      <td>11.90</td>\n",
       "      <td>99.0</td>\n",
       "      <td>99.0</td>\n",
       "      <td>99.0</td>\n",
       "      <td>999.0</td>\n",
       "      <td>1012.70</td>\n",
       "      <td>20.500</td>\n",
       "      <td>999.0</td>\n",
       "      <td>19.600</td>\n",
       "      <td>99.0</td>\n",
       "      <td>99.0</td>\n",
       "    </tr>\n",
       "    <tr>\n",
       "      <th>2010-12-31 22:45:00</th>\n",
       "      <td>0.0</td>\n",
       "      <td>150.50</td>\n",
       "      <td>10.625</td>\n",
       "      <td>11.40</td>\n",
       "      <td>99.0</td>\n",
       "      <td>99.0</td>\n",
       "      <td>99.0</td>\n",
       "      <td>999.0</td>\n",
       "      <td>1012.75</td>\n",
       "      <td>20.450</td>\n",
       "      <td>999.0</td>\n",
       "      <td>19.600</td>\n",
       "      <td>99.0</td>\n",
       "      <td>99.0</td>\n",
       "    </tr>\n",
       "    <tr>\n",
       "      <th>2010-12-31 23:00:00</th>\n",
       "      <td>0.0</td>\n",
       "      <td>150.00</td>\n",
       "      <td>10.200</td>\n",
       "      <td>10.90</td>\n",
       "      <td>99.0</td>\n",
       "      <td>99.0</td>\n",
       "      <td>99.0</td>\n",
       "      <td>999.0</td>\n",
       "      <td>1012.80</td>\n",
       "      <td>20.400</td>\n",
       "      <td>999.0</td>\n",
       "      <td>19.600</td>\n",
       "      <td>99.0</td>\n",
       "      <td>99.0</td>\n",
       "    </tr>\n",
       "  </tbody>\n",
       "</table>\n",
       "<p>35037 rows × 14 columns</p>\n",
       "</div>"
      ],
      "text/plain": [
       "                      mm    WDIR    WSPD    GST  WVHT   DPD   APD    MWD  \\\n",
       "dates                                                                      \n",
       "2010-01-01 00:00:00  0.0  134.00   3.000   3.00  99.0  99.0  99.0  999.0   \n",
       "2010-01-01 00:15:00  0.0  131.25   3.150   3.15  99.0  99.0  99.0  999.0   \n",
       "2010-01-01 00:30:00  0.0  128.50   3.300   3.30  99.0  99.0  99.0  999.0   \n",
       "...                  ...     ...     ...    ...   ...   ...   ...    ...   \n",
       "2010-12-31 22:30:00  0.0  151.00  11.050  11.90  99.0  99.0  99.0  999.0   \n",
       "2010-12-31 22:45:00  0.0  150.50  10.625  11.40  99.0  99.0  99.0  999.0   \n",
       "2010-12-31 23:00:00  0.0  150.00  10.200  10.90  99.0  99.0  99.0  999.0   \n",
       "\n",
       "                        PRES    ATMP   WTMP    DEWP   VIS  TIDE  \n",
       "dates                                                            \n",
       "2010-01-01 00:00:00  1019.10  13.300  999.0  12.400  99.0  99.0  \n",
       "2010-01-01 00:15:00  1019.10  13.375  999.0  12.475  99.0  99.0  \n",
       "2010-01-01 00:30:00  1019.10  13.450  999.0  12.550  99.0  99.0  \n",
       "...                      ...     ...    ...     ...   ...   ...  \n",
       "2010-12-31 22:30:00  1012.70  20.500  999.0  19.600  99.0  99.0  \n",
       "2010-12-31 22:45:00  1012.75  20.450  999.0  19.600  99.0  99.0  \n",
       "2010-12-31 23:00:00  1012.80  20.400  999.0  19.600  99.0  99.0  \n",
       "\n",
       "[35037 rows x 14 columns]"
      ]
     },
     "execution_count": 24,
     "metadata": {},
     "output_type": "execute_result"
    }
   ],
   "source": [
    "df2.resample('15min').interpolate()"
   ]
  },
  {
   "cell_type": "markdown",
   "metadata": {},
   "source": [
    "The codes for time period/frequency are [available](http://pandas.pydata.org/pandas-docs/stable/timeseries.html#offset-aliases) and are presented here for convenience:\n",
    "\n",
    "    Alias\tDescription\n",
    "    B\tbusiness day frequency\n",
    "    C\tcustom business day frequency (experimental)\n",
    "    D\tcalendar day frequency\n",
    "    W\tweekly frequency\n",
    "    M\tmonth end frequency\n",
    "    SM\tsemi-month end frequency (15th and end of month)\n",
    "    BM\tbusiness month end frequency\n",
    "    CBM\tcustom business month end frequency\n",
    "    MS\tmonth start frequency\n",
    "    SMS\tsemi-month start frequency (1st and 15th)\n",
    "    BMS\tbusiness month start frequency\n",
    "    CBMS\tcustom business month start frequency\n",
    "    Q\tquarter end frequency\n",
    "    BQ\tbusiness quarter endfrequency\n",
    "    QS\tquarter start frequency\n",
    "    BQS\tbusiness quarter start frequency\n",
    "    A\tyear end frequency\n",
    "    BA\tbusiness year end frequency\n",
    "    AS\tyear start frequency\n",
    "    BAS\tbusiness year start frequency\n",
    "    BH\tbusiness hour frequency\n",
    "    H\thourly frequency\n",
    "    T, min\tminutely frequency\n",
    "    S\tsecondly frequency\n",
    "    L, ms\tmilliseconds\n",
    "    U, us\tmicroseconds\n",
    "    N\tnanoseconds"
   ]
  },
  {
   "cell_type": "markdown",
   "metadata": {},
   "source": [
    "---\n",
    "###  *Exercise*\n",
    "\n",
    "> We looked at the trip distance earlier, but it was hard to tell what was going on with so much data. Resample this high resolution data to be lower resolution so that any trends in the information are easier to see. By what method do you want to do this downsampling? Plot your results.\n",
    "\n",
    "---"
   ]
  },
  {
   "cell_type": "code",
   "execution_count": 101,
   "metadata": {
    "collapsed": false
   },
   "outputs": [
    {
     "data": {
      "text/plain": [
       "array([ 1036.9,  1025.7,  1026.6,  1025.4,  1023.3,  1020.6,  1022.9,\n",
       "        1020.1,  1020.1,  1025.1,  1029.7,  1029.8])"
      ]
     },
     "execution_count": 101,
     "metadata": {},
     "output_type": "execute_result"
    }
   ],
   "source": [
    "df2.resample('1M')['PRES'].max().values"
   ]
  },
  {
   "cell_type": "code",
   "execution_count": 120,
   "metadata": {
    "collapsed": false
   },
   "outputs": [
    {
     "data": {
      "text/plain": [
       "<matplotlib.collections.PathCollection at 0x7f185ac3f128>"
      ]
     },
     "execution_count": 120,
     "metadata": {},
     "output_type": "execute_result"
    },
    {
     "data": {
      "image/png": "[encoded data removed]",
      "text/plain": [
       "<matplotlib.figure.Figure at 0x7f185c4e5518>"
      ]
     },
     "metadata": {},
     "output_type": "display_data"
    }
   ],
   "source": [
    "pres = df2['2010-03':'2010-08']['PRES'].values\n",
    "dewp = df2['2010-03':'2010-08']['DEWP'].values\n",
    "month = df2['2010-03':'2010-08'].index.month\n",
    "plt.scatter(pres, dewp, 50, month, cmap='viridis')"
   ]
  },
  {
   "cell_type": "code",
   "execution_count": 114,
   "metadata": {
    "collapsed": false
   },
   "outputs": [
    {
     "data": {
      "text/plain": [
       "array([6, 6, 6, ..., 8, 8, 8], dtype=int32)"
      ]
     },
     "execution_count": 114,
     "metadata": {},
     "output_type": "execute_result"
    }
   ],
   "source": [
    "month"
   ]
  },
  {
   "cell_type": "code",
   "execution_count": null,
   "metadata": {
    "collapsed": true
   },
   "outputs": [],
   "source": []
  }
 ],
 "metadata": {
  "anaconda-cloud": {},
  "kernelspec": {
   "display_name": "Python [default]",
   "language": "python",
   "name": "python3"
  },
  "language_info": {
   "codemirror_mode": {
    "name": "ipython",
    "version": 3
   },
   "file_extension": ".py",
   "mimetype": "text/x-python",
   "name": "python",
   "nbconvert_exporter": "python",
   "pygments_lexer": "ipython3",
   "version": "3.5.2"
  }
 },
 "nbformat": 4,
 "nbformat_minor": 0
}
