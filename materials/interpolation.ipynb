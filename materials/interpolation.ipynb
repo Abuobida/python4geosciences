{
 "cells": [
  {
   "cell_type": "markdown",
   "metadata": {},
   "source": [
    "# Interpolation\n",
    "\n",
    "When you have data at specific points, but want to know it at other points you need to interpolate. Here we discuss two-dimensional interpolation, though the same principles apply for 1D and ND interpolation.\n",
    "\n",
    "We'll start with interpolation from uniformly gridded or structured data and then move to unstructured, randomly-located data, since the first is a special, easier case of the second."
   ]
  },
  {
   "cell_type": "code",
   "execution_count": null,
   "metadata": {
    "collapsed": true
   },
   "outputs": [],
   "source": [
    "import numpy as np\n",
    "import matplotlib.pyplot as plt\n",
    "%matplotlib inline\n",
    "\n",
    "from scipy import spatial\n",
    "import scipy.interpolate\n",
    "from scipy.ndimage.interpolation import map_coordinates\n",
    "\n",
    "import cartopy\n",
    "import cmocean.cm as cmo"
   ]
  },
  {
   "cell_type": "markdown",
   "metadata": {},
   "source": [
    "# Structured data \n",
    "\n",
    "For when data is uniformly gridded. Say you have this gridded data, but you want to know it at points where you have other data so that you can do a calculation at those particular locations. Then the gridded data is the structured data input to the interpolation functions, and the points you want to know it at are the interpolation points.\n",
    "\n",
    "\n",
    "## `RectBivariateSpline`\n",
    "\n",
    "[`scipy.interpolate.RectBivariateSpline`](https://docs.scipy.org/doc/scipy/reference/generated/scipy.interpolate.RectBivariateSpline.html#scipy.interpolate.RectBivariateSpline)\n",
    "\n",
    "* Input the x and y coordinates, which need to be in monotonically increasing order. They are just 1d arrays (not 2d) because if they were arrays, the coordinates would just be repeated across the array, by definition of being uniformly gridded.\n",
    "* You can choose the degree of the spline with input keyword arguments `kx`, `ky`\n",
    "\n",
    "First create an object from which you can interpolate by inputting your data information, then use your interpolating function, f, to interpolate to other x, y locations.\n",
    "\n",
    "    pts = np.array([[x1, y1], [x2, y2]])  # points to interpolate to\n",
    "\n",
    "    f = scipy.interpolate.RectBivariateSpline(x, y, Z)\n",
    "    zinterp = f.ev(pts[:,0], pts[:,1])\n",
    "\n",
    "\n",
    "## `map_coordinates`\n",
    "\n",
    "[`scipy.ndimage.interpolation.map_coordinates`](https://docs.scipy.org/doc/scipy-0.14.0/reference/generated/scipy.ndimage.interpolation.map_coordinates.html)\n",
    "\n",
    "* Faster, but confusing to use.\n",
    "* You do not put in the coordinates of the original data because they are assumed to be located at indices from 0 to the size in each dimension.\n",
    "* You input the places you want to interpolate to with an array of shape [2xN] for N data points\n",
    "\n",
    "\n",
    "    zinterp = map_coordinates(Z, pts.T)"
   ]
  },
  {
   "cell_type": "markdown",
   "metadata": {},
   "source": [
    "We'll do a boring example so that we can be clear on the answers:"
   ]
  },
  {
   "cell_type": "code",
   "execution_count": null,
   "metadata": {
    "collapsed": false
   },
   "outputs": [],
   "source": [
    "# get an array of values\n",
    "x = np.arange(10)  # x coordinates of original function\n",
    "y = np.arange(20)  # y coordinates of original function\n",
    "\n",
    "Z = np.random.rand(x.size, y.size)  # original function\n",
    "\n",
    "\n",
    "# get coordinate arrays for plotting\n",
    "# these are shifted by 0.5 so that pcolormesh plots them aligned correctly\n",
    "X, Y = np.meshgrid(np.arange(x.min()-0.5, x.max()+0.5), np.arange(y.min()-0.5, y.max()+0.5))\n",
    "\n",
    "fig = plt.figure(figsize=(10,6))\n",
    "ax = fig.add_subplot(111)\n",
    "ax.pcolormesh(X, Y, Z.T, cmap='viridis')\n",
    "ax.set_title('RectBivariateSplie')\n",
    "ax.axis('tight')"
   ]
  },
  {
   "cell_type": "code",
   "execution_count": null,
   "metadata": {
    "collapsed": false
   },
   "outputs": [],
   "source": [
    "# where to interpolate to\n",
    "pts = np.array([[3, 15],[5.5, 11.5], [2.25, 17.8]])\n",
    "\n",
    "# RectBivariateSpline\n",
    "frbs = scipy.interpolate.RectBivariateSpline(x, y, Z)  # interpolator\n",
    "zrbs = frbs.ev(pts[:,0], pts[:,1])\n",
    "\n",
    "## map_coordinates\n",
    "out = map_coordinates(Z, pts.T)\n"
   ]
  },
  {
   "cell_type": "code",
   "execution_count": null,
   "metadata": {
    "collapsed": false
   },
   "outputs": [],
   "source": [
    "fig = plt.figure(figsize=(10,6))\n",
    "ax = fig.add_subplot(1,2,1)\n",
    "ax.pcolormesh(X, Y, Z.T, cmap='viridis')\n",
    "ax.scatter(pts[:,0], pts[:,1], c=zrbs, s=50, cmap='viridis', vmin=Z.min(), vmax=Z.max())\n",
    "ax.set_title('RectBivariateSplie')\n",
    "ax.axis('tight')\n",
    "\n",
    "ax = fig.add_subplot(1,2,2)\n",
    "ax.pcolormesh(X, Y, Z.T, cmap='viridis')\n",
    "ax.scatter(pts[:,0], pts[:,1], c=out, s=50, cmap='viridis', vmin=Z.min(), vmax=Z.max())\n",
    "ax.axis('tight')\n",
    "ax.set_title('map_coordinates')"
   ]
  },
  {
   "cell_type": "markdown",
   "metadata": {},
   "source": [
    "# Unstructured data \n",
    "\n",
    "For when data is *not* uniformly gridded. Say you have gathered data in the field at some points, but you want to have a nice spatial view of how it looks across a whole area. Then you may want to interpolate it from the triplet data (the field data at some points) to regularly-gridded locations (for viewing).\n",
    "\n",
    "Here is example data we'll use to interpolate onto a regular, uniform grid:"
   ]
  },
  {
   "cell_type": "code",
   "execution_count": null,
   "metadata": {
    "collapsed": false
   },
   "outputs": [],
   "source": [
    "# this time we have triplets, not structured data\n",
    "x = np.random.rand(10)\n",
    "y = np.random.rand(10)\n",
    "z = np.random.rand(10)\n",
    "\n",
    "# rename for later convenience\n",
    "pts = np.vstack((x,y)).T\n",
    "\n",
    "plt.scatter(x, y, c=z, s=100, cmap='viridis')"
   ]
  },
  {
   "cell_type": "markdown",
   "metadata": {},
   "source": [
    "## Delaunay triangulation and interpolation\n",
    "\n",
    "Given a number of points, [Delaunay triangulation](https://en.wikipedia.org/wiki/Delaunay_triangulation) divides the plane into a series of triangles, using the given points as the vertices of the triangles, such that each triangle does not contain any other points (technically, no points are within the circumcircle).\n",
    "\n",
    "An advantage of using this approach for interpolation is that you can create the triangulation once – which is the potentially slow step – and then use it for subsequent interpolations, assuming your underlying data is not changing.\n",
    "\n",
    "Here is a sample of what that looks like, for the points shown in black dots:"
   ]
  },
  {
   "cell_type": "code",
   "execution_count": null,
   "metadata": {
    "collapsed": false
   },
   "outputs": [],
   "source": [
    "tri = spatial.Delaunay(pts)\n",
    "\n",
    "# The individual triangles, colored randomly\n",
    "for indices in tri.vertices:\n",
    "    plt.fill(tri.points[indices, 0], tri.points[indices, 1], edgecolor='none', alpha=0.3)\n",
    "\n",
    "# The original points, the triangle vertices.\n",
    "plt.plot(pts[:, 0], pts[:, 1], '.k')\n",
    "\n",
    "# And, the convex hull that surrounds the region with triangles.\n",
    "for indices in tri.convex_hull:\n",
    "    plt.plot(tri.points[indices, 0], tri.points[indices, 1], color='red')\n"
   ]
  },
  {
   "cell_type": "markdown",
   "metadata": {},
   "source": [
    "To use triangulation for interpolation, we will functions in the `scipy.interpolate` subpackage. Most of these functions use Delaunay interpolation under the hood. For example, you can pass an existing Triangulation to `scipy.interpolate.LinearNDInterpolator`. However, you can also just pass it the points you want, and it will do the triangulation for you.\n",
    "\n",
    "We will interpolate first using Delaunay triangulation."
   ]
  },
  {
   "cell_type": "code",
   "execution_count": null,
   "metadata": {
    "collapsed": false
   },
   "outputs": [],
   "source": [
    "# Create triangulation\n",
    "tri = spatial.Delaunay(pts)\n",
    "\n",
    "# create an iterpolation object, f. We need to supply the data values on the specified xy points.\n",
    "f = scipy.interpolate.LinearNDInterpolator(tri, z, fill_value=0)\n",
    "\n",
    "# Now interpolate to new values \n",
    "xi = np.linspace(x.min(), x.max())\n",
    "yi = np.linspace(y.min(), y.max())\n",
    "X, Y = np.meshgrid(xi, yi)  # uniform grid\n",
    "Z = f(X, Y)  # this is the interpolation step\n",
    "\n",
    "plt.pcolormesh(X, Y, Z, cmap='viridis')\n",
    "plt.scatter(x, y, c=z, s=100, cmap='viridis')"
   ]
  },
  {
   "cell_type": "markdown",
   "metadata": {},
   "source": [
    "## `griddata`\n",
    "\n",
    "If we just need to do an interpolation once, we may prefer to use [`griddata`](https://docs.scipy.org/doc/scipy/reference/generated/scipy.interpolate.griddata.html).\n",
    "\n",
    "    Z = scipy.interpolate.griddata(pts, z, xy, method='cubic', fill_value=0)\n",
    "\n",
    "where `pts` contains the coordinates for the input data, `z` are the values at `pts`, `xy` are the coordinates where you want to interpolate to, `Z` are the values of the function `z` at `xy` locations. `method` can be 'linear', 'nearest', 'cubic', and `fill_value` fills in outside of the points."
   ]
  },
  {
   "cell_type": "code",
   "execution_count": null,
   "metadata": {
    "collapsed": false
   },
   "outputs": [],
   "source": [
    "values = z\n",
    "# griddata doesn't not assume you are inputting structured arrays, so we put them in as coordinates\n",
    "xi = np.vstack((X.flat, Y.flat)).T\n",
    "Zgrid = scipy.interpolate.griddata(pts, z, xi, method='cubic', fill_value=0)\n",
    "# reconstitute the output to structured array so we can plot it with pcolormesh\n",
    "Zgrid.shape = X.shape\n",
    "\n",
    "plt.pcolormesh(X, Y, Zgrid, cmap='viridis')\n",
    "plt.scatter(x, y, c=z, s=100, cmap='viridis')"
   ]
  },
  {
   "cell_type": "markdown",
   "metadata": {
    "collapsed": true
   },
   "source": [
    "# Interpolation on a map\n",
    "\n",
    "There is a special case to consider when you need to interpolate on a map with x/y coordinates that are in longitude/latitude. When latitude and longitude are changing uniformly, it is fine (such as when you are moving along a single latitude or single longitude), but when you are changing between multiple, the values of each decimal degree changes in space. This needs to be accounted for by first projecting your coordinates.\n",
    "\n",
    "See below for an illustration of how distance between longitude meridians can change substantially, especially near the poles:"
   ]
  },
  {
   "cell_type": "code",
   "execution_count": null,
   "metadata": {
    "collapsed": false
   },
   "outputs": [],
   "source": [
    "ax = plt.axes(projection=cartopy.crs.SouthPolarStereo())\n",
    "ax.add_feature(cartopy.feature.LAND)\n",
    "ax.gridlines()\n",
    "# Limit the map to -60 degrees latitude and below.\n",
    "ax.set_extent([-180, 180, -90, -60], cartopy.crs.PlateCarree())\n"
   ]
  },
  {
   "cell_type": "markdown",
   "metadata": {},
   "source": [
    "### _Exercise_\n",
    "\n",
    "Texas A&M at [GERG](http://gerg.tamu.edu/) maintains a set of buoys to measure currents, especially for oil spill prediction. We can access the [data](http://tabs.gerg.tamu.edu/) online. I have pulled out a few data points of speed of the currents at each location for this example."
   ]
  },
  {
   "cell_type": "code",
   "execution_count": null,
   "metadata": {
    "collapsed": false
   },
   "outputs": [],
   "source": [
    "# buoys in order B, F, K, R, V\n",
    "# 28° 58.9386'N   94° 53.9436'W, 28° 50.5500'N   94° 14.4960'W, 26° 13.0080'N   96° 29.9880'W\n",
    "# 29° 38.1000'N   93° 38.5020'W, 27° 53.7960'N   93° 35.8380'W\n",
    "x = np.array([-(94+53.9436/60), -(94+14.4960/60), -(96+29.9880/60), -(93+38.5020/60), -(93+35.8380/60)])\n",
    "y = np.array([28+58.9386/60, 28+50.5500/60, 26+13.0080/60, 29+38.1/60, 27+53.796/60])\n",
    "\n",
    "# Wind speeds 10/25/16, in cm/s, in order above\n",
    "s = np.array([6.21, 11.05, 3, 6.19, 8.61])\n",
    "\n",
    "proj = cartopy.crs.LambertConformal(central_latitude=28, central_longitude=-96)\n",
    "ax = plt.axes(projection=proj)\n",
    "ax.coastlines(resolution='10m')\n",
    "plt.scatter(x, y, c=s,s=100, cmap=cmo.speed, transform=cartopy.crs.PlateCarree())\n",
    "ax.set_extent([-98, -93, 26, 30], cartopy.crs.PlateCarree())\n",
    "plt.colorbar()"
   ]
  },
  {
   "cell_type": "markdown",
   "metadata": {},
   "source": [
    "Interpolate the speeds to have a uniformly gridded field of values. However, since this data is on a map, first project the data."
   ]
  },
  {
   "cell_type": "code",
   "execution_count": null,
   "metadata": {
    "collapsed": false
   },
   "outputs": [],
   "source": [
    "xyproj = proj.transform_points(cartopy.crs.PlateCarree(), x, y)\n",
    "\n",
    "# rename\n",
    "xp = xyproj[:,0]\n",
    "yp = xyproj[:,1]"
   ]
  },
  {
   "cell_type": "markdown",
   "metadata": {},
   "source": [
    "Interpolate to regular grid"
   ]
  },
  {
   "cell_type": "code",
   "execution_count": null,
   "metadata": {
    "collapsed": false
   },
   "outputs": [],
   "source": [
    "# put original locations into an array\n",
    "pts = np.vstack((xp, yp)).T\n",
    "\n"
   ]
  },
  {
   "cell_type": "code",
   "execution_count": null,
   "metadata": {
    "collapsed": false
   },
   "outputs": [],
   "source": []
  }
 ],
 "metadata": {
  "anaconda-cloud": {},
  "kernelspec": {
   "display_name": "Python [default]",
   "language": "python",
   "name": "python3"
  },
  "language_info": {
   "codemirror_mode": {
    "name": "ipython",
    "version": 3
   },
   "file_extension": ".py",
   "mimetype": "text/x-python",
   "name": "python",
   "nbconvert_exporter": "python",
   "pygments_lexer": "ipython3",
   "version": "3.5.2"
  }
 },
 "nbformat": 4,
 "nbformat_minor": 0
}
