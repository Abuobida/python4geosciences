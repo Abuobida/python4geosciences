{
 "cells": [
  {
   "cell_type": "code",
   "execution_count": 21,
   "metadata": {
    "collapsed": true
   },
   "outputs": [],
   "source": [
    "import numpy as np\n",
    "import matplotlib.pyplot as plt\n",
    "%matplotlib inline\n",
    "import pandas as pd\n",
    "pd.set_option('max_rows', 6)  # max number of rows to show in this notebook — to save space!\n",
    "import seaborn as sns  # for better style in plots"
   ]
  },
  {
   "cell_type": "markdown",
   "metadata": {},
   "source": [
    "# 1D analysis: `pandas`!"
   ]
  },
  {
   "cell_type": "markdown",
   "metadata": {},
   "source": [
    "For 1D analysis, we are generally thinking about data that varies in time, so time series analysis. The `pandas` package is particularly suited to deal with this type of data, particularly having very convenient methods for interpreted, searching through, and using time representations.\n",
    "\n",
    "Let's start with the example we started the class with: taxi rides in New York City."
   ]
  },
  {
   "cell_type": "code",
   "execution_count": 47,
   "metadata": {
    "collapsed": true
   },
   "outputs": [],
   "source": [
    "df = pd.read_csv('../data/yellow_tripdata_2016-05-01_decimated.csv', header=0, parse_dates=[0, 2], index_col=[0])"
   ]
  },
  {
   "cell_type": "markdown",
   "metadata": {},
   "source": [
    "What do all these (and other) input keyword arguments do?\n",
    "\n",
    "* header: tells which row of the data file is the header, from which it will extract column names\n",
    "* parse_dates: try to interpret the values in `[col]` or `[[col1, col2]]` as dates, to convert them into `datetime` objects.\n",
    "* index_col: if no index column is given, an index counting from 0 is given to the rows. By inputting `index_col=[column integer]`, that column will be used as the index instead. This is usually done with the time information for the dataset.\n",
    "* skiprows: can skip specific rows, `skiprows=[row number list]`, or number of rows to skip, `skiprows=[number of rows integer]`.\n"
   ]
  },
  {
   "cell_type": "code",
   "execution_count": 46,
   "metadata": {
    "collapsed": false
   },
   "outputs": [
    {
     "data": {
      "text/html": [
       "<div>\n",
       "<table border=\"1\" class=\"dataframe\">\n",
       "  <thead>\n",
       "    <tr style=\"text-align: right;\">\n",
       "      <th></th>\n",
       "      <th>VendorID</th>\n",
       "      <th>tpep_dropoff_datetime</th>\n",
       "      <th>passenger_count</th>\n",
       "      <th>trip_distance</th>\n",
       "      <th>pickup_longitude</th>\n",
       "      <th>pickup_latitude</th>\n",
       "      <th>RatecodeID</th>\n",
       "      <th>store_and_fwd_flag</th>\n",
       "      <th>dropoff_longitude</th>\n",
       "      <th>dropoff_latitude</th>\n",
       "      <th>payment_type</th>\n",
       "      <th>fare_amount</th>\n",
       "      <th>extra</th>\n",
       "      <th>mta_tax</th>\n",
       "      <th>tip_amount</th>\n",
       "      <th>tolls_amount</th>\n",
       "      <th>improvement_surcharge</th>\n",
       "      <th>total_amount</th>\n",
       "    </tr>\n",
       "    <tr>\n",
       "      <th>tpep_pickup_datetime</th>\n",
       "      <th></th>\n",
       "      <th></th>\n",
       "      <th></th>\n",
       "      <th></th>\n",
       "      <th></th>\n",
       "      <th></th>\n",
       "      <th></th>\n",
       "      <th></th>\n",
       "      <th></th>\n",
       "      <th></th>\n",
       "      <th></th>\n",
       "      <th></th>\n",
       "      <th></th>\n",
       "      <th></th>\n",
       "      <th></th>\n",
       "      <th></th>\n",
       "      <th></th>\n",
       "      <th></th>\n",
       "    </tr>\n",
       "  </thead>\n",
       "  <tbody>\n",
       "    <tr>\n",
       "      <th>2016-05-01 00:00:00</th>\n",
       "      <td>1</td>\n",
       "      <td>2016-05-01 00:17:00</td>\n",
       "      <td>1</td>\n",
       "      <td>3.60</td>\n",
       "      <td>-73.985901</td>\n",
       "      <td>40.768040</td>\n",
       "      <td>1</td>\n",
       "      <td>N</td>\n",
       "      <td>-73.983986</td>\n",
       "      <td>40.730099</td>\n",
       "      <td>1</td>\n",
       "      <td>15.0</td>\n",
       "      <td>0.5</td>\n",
       "      <td>0.5</td>\n",
       "      <td>1.50</td>\n",
       "      <td>0</td>\n",
       "      <td>0.3</td>\n",
       "      <td>17.80</td>\n",
       "    </tr>\n",
       "    <tr>\n",
       "      <th>2016-05-01 00:00:00</th>\n",
       "      <td>2</td>\n",
       "      <td>2016-05-01 00:00:00</td>\n",
       "      <td>2</td>\n",
       "      <td>18.41</td>\n",
       "      <td>-73.781059</td>\n",
       "      <td>40.645020</td>\n",
       "      <td>2</td>\n",
       "      <td>N</td>\n",
       "      <td>-73.984573</td>\n",
       "      <td>40.768398</td>\n",
       "      <td>2</td>\n",
       "      <td>52.0</td>\n",
       "      <td>0.0</td>\n",
       "      <td>0.5</td>\n",
       "      <td>0.00</td>\n",
       "      <td>0</td>\n",
       "      <td>0.3</td>\n",
       "      <td>52.80</td>\n",
       "    </tr>\n",
       "    <tr>\n",
       "      <th>2016-05-01 00:00:00</th>\n",
       "      <td>2</td>\n",
       "      <td>2016-05-01 00:08:00</td>\n",
       "      <td>1</td>\n",
       "      <td>1.60</td>\n",
       "      <td>-74.002769</td>\n",
       "      <td>40.728619</td>\n",
       "      <td>1</td>\n",
       "      <td>N</td>\n",
       "      <td>-73.984161</td>\n",
       "      <td>40.737438</td>\n",
       "      <td>1</td>\n",
       "      <td>8.0</td>\n",
       "      <td>0.5</td>\n",
       "      <td>0.5</td>\n",
       "      <td>1.86</td>\n",
       "      <td>0</td>\n",
       "      <td>0.3</td>\n",
       "      <td>11.16</td>\n",
       "    </tr>\n",
       "    <tr>\n",
       "      <th>...</th>\n",
       "      <td>...</td>\n",
       "      <td>...</td>\n",
       "      <td>...</td>\n",
       "      <td>...</td>\n",
       "      <td>...</td>\n",
       "      <td>...</td>\n",
       "      <td>...</td>\n",
       "      <td>...</td>\n",
       "      <td>...</td>\n",
       "      <td>...</td>\n",
       "      <td>...</td>\n",
       "      <td>...</td>\n",
       "      <td>...</td>\n",
       "      <td>...</td>\n",
       "      <td>...</td>\n",
       "      <td>...</td>\n",
       "      <td>...</td>\n",
       "      <td>...</td>\n",
       "    </tr>\n",
       "    <tr>\n",
       "      <th>2016-05-01 23:59:00</th>\n",
       "      <td>1</td>\n",
       "      <td>2016-05-02 00:38:00</td>\n",
       "      <td>2</td>\n",
       "      <td>19.80</td>\n",
       "      <td>-73.789543</td>\n",
       "      <td>40.647316</td>\n",
       "      <td>2</td>\n",
       "      <td>N</td>\n",
       "      <td>-74.000298</td>\n",
       "      <td>40.744408</td>\n",
       "      <td>1</td>\n",
       "      <td>52.0</td>\n",
       "      <td>0.0</td>\n",
       "      <td>0.5</td>\n",
       "      <td>6.00</td>\n",
       "      <td>0</td>\n",
       "      <td>0.3</td>\n",
       "      <td>58.80</td>\n",
       "    </tr>\n",
       "    <tr>\n",
       "      <th>2016-05-01 23:59:00</th>\n",
       "      <td>1</td>\n",
       "      <td>2016-05-02 00:05:00</td>\n",
       "      <td>1</td>\n",
       "      <td>0.50</td>\n",
       "      <td>-73.984489</td>\n",
       "      <td>40.760044</td>\n",
       "      <td>1</td>\n",
       "      <td>N</td>\n",
       "      <td>-73.988449</td>\n",
       "      <td>40.764175</td>\n",
       "      <td>2</td>\n",
       "      <td>5.5</td>\n",
       "      <td>0.5</td>\n",
       "      <td>0.5</td>\n",
       "      <td>0.00</td>\n",
       "      <td>0</td>\n",
       "      <td>0.3</td>\n",
       "      <td>6.80</td>\n",
       "    </tr>\n",
       "    <tr>\n",
       "      <th>2016-05-01 23:59:00</th>\n",
       "      <td>2</td>\n",
       "      <td>2016-05-02 00:13:00</td>\n",
       "      <td>1</td>\n",
       "      <td>4.05</td>\n",
       "      <td>-73.989357</td>\n",
       "      <td>40.758759</td>\n",
       "      <td>1</td>\n",
       "      <td>N</td>\n",
       "      <td>-73.949982</td>\n",
       "      <td>40.805481</td>\n",
       "      <td>1</td>\n",
       "      <td>14.5</td>\n",
       "      <td>0.5</td>\n",
       "      <td>0.5</td>\n",
       "      <td>2.20</td>\n",
       "      <td>0</td>\n",
       "      <td>0.3</td>\n",
       "      <td>18.00</td>\n",
       "    </tr>\n",
       "  </tbody>\n",
       "</table>\n",
       "<p>38211 rows × 18 columns</p>\n",
       "</div>"
      ],
      "text/plain": [
       "                      VendorID tpep_dropoff_datetime  passenger_count  \\\n",
       "tpep_pickup_datetime                                                    \n",
       "2016-05-01 00:00:00          1   2016-05-01 00:17:00                1   \n",
       "2016-05-01 00:00:00          2   2016-05-01 00:00:00                2   \n",
       "2016-05-01 00:00:00          2   2016-05-01 00:08:00                1   \n",
       "...                        ...                   ...              ...   \n",
       "2016-05-01 23:59:00          1   2016-05-02 00:38:00                2   \n",
       "2016-05-01 23:59:00          1   2016-05-02 00:05:00                1   \n",
       "2016-05-01 23:59:00          2   2016-05-02 00:13:00                1   \n",
       "\n",
       "                      trip_distance  pickup_longitude  pickup_latitude  \\\n",
       "tpep_pickup_datetime                                                     \n",
       "2016-05-01 00:00:00            3.60        -73.985901        40.768040   \n",
       "2016-05-01 00:00:00           18.41        -73.781059        40.645020   \n",
       "2016-05-01 00:00:00            1.60        -74.002769        40.728619   \n",
       "...                             ...               ...              ...   \n",
       "2016-05-01 23:59:00           19.80        -73.789543        40.647316   \n",
       "2016-05-01 23:59:00            0.50        -73.984489        40.760044   \n",
       "2016-05-01 23:59:00            4.05        -73.989357        40.758759   \n",
       "\n",
       "                      RatecodeID store_and_fwd_flag  dropoff_longitude  \\\n",
       "tpep_pickup_datetime                                                     \n",
       "2016-05-01 00:00:00            1                  N         -73.983986   \n",
       "2016-05-01 00:00:00            2                  N         -73.984573   \n",
       "2016-05-01 00:00:00            1                  N         -73.984161   \n",
       "...                          ...                ...                ...   \n",
       "2016-05-01 23:59:00            2                  N         -74.000298   \n",
       "2016-05-01 23:59:00            1                  N         -73.988449   \n",
       "2016-05-01 23:59:00            1                  N         -73.949982   \n",
       "\n",
       "                      dropoff_latitude  payment_type  fare_amount  extra  \\\n",
       "tpep_pickup_datetime                                                       \n",
       "2016-05-01 00:00:00          40.730099             1         15.0    0.5   \n",
       "2016-05-01 00:00:00          40.768398             2         52.0    0.0   \n",
       "2016-05-01 00:00:00          40.737438             1          8.0    0.5   \n",
       "...                                ...           ...          ...    ...   \n",
       "2016-05-01 23:59:00          40.744408             1         52.0    0.0   \n",
       "2016-05-01 23:59:00          40.764175             2          5.5    0.5   \n",
       "2016-05-01 23:59:00          40.805481             1         14.5    0.5   \n",
       "\n",
       "                      mta_tax  tip_amount  tolls_amount  \\\n",
       "tpep_pickup_datetime                                      \n",
       "2016-05-01 00:00:00       0.5        1.50             0   \n",
       "2016-05-01 00:00:00       0.5        0.00             0   \n",
       "2016-05-01 00:00:00       0.5        1.86             0   \n",
       "...                       ...         ...           ...   \n",
       "2016-05-01 23:59:00       0.5        6.00             0   \n",
       "2016-05-01 23:59:00       0.5        0.00             0   \n",
       "2016-05-01 23:59:00       0.5        2.20             0   \n",
       "\n",
       "                      improvement_surcharge  total_amount  \n",
       "tpep_pickup_datetime                                       \n",
       "2016-05-01 00:00:00                     0.3         17.80  \n",
       "2016-05-01 00:00:00                     0.3         52.80  \n",
       "2016-05-01 00:00:00                     0.3         11.16  \n",
       "...                                     ...           ...  \n",
       "2016-05-01 23:59:00                     0.3         58.80  \n",
       "2016-05-01 23:59:00                     0.3          6.80  \n",
       "2016-05-01 23:59:00                     0.3         18.00  \n",
       "\n",
       "[38211 rows x 18 columns]"
      ]
     },
     "execution_count": 46,
     "metadata": {},
     "output_type": "execute_result"
    }
   ],
   "source": [
    "df"
   ]
  },
  {
   "cell_type": "markdown",
   "metadata": {},
   "source": [
    "We can check to make sure the date/time information has been read in as the index:"
   ]
  },
  {
   "cell_type": "code",
   "execution_count": null,
   "metadata": {
    "collapsed": true
   },
   "outputs": [],
   "source": [
    "df.index"
   ]
  },
  {
   "cell_type": "markdown",
   "metadata": {},
   "source": [
    "From this we see that the index is indeed using the timing information in the file, and we can see that the `dtype` is `datetime`.\n",
    "\n",
    "We can now access the file information using keyword arguments, like so:"
   ]
  },
  {
   "cell_type": "code",
   "execution_count": 48,
   "metadata": {
    "collapsed": false
   },
   "outputs": [
    {
     "data": {
      "text/plain": [
       "tpep_pickup_datetime\n",
       "2016-05-01 00:00:00     3.60\n",
       "2016-05-01 00:00:00    18.41\n",
       "2016-05-01 00:00:00     1.60\n",
       "                       ...  \n",
       "2016-05-01 23:59:00    19.80\n",
       "2016-05-01 23:59:00     0.50\n",
       "2016-05-01 23:59:00     4.05\n",
       "Name: trip_distance, dtype: float64"
      ]
     },
     "execution_count": 48,
     "metadata": {},
     "output_type": "execute_result"
    }
   ],
   "source": [
    "df['trip_distance']"
   ]
  },
  {
   "cell_type": "markdown",
   "metadata": {},
   "source": [
    "We can plot in this way, too:"
   ]
  },
  {
   "cell_type": "code",
   "execution_count": 49,
   "metadata": {
    "collapsed": false
   },
   "outputs": [
    {
     "data": {
      "text/plain": [
       "<matplotlib.axes._subplots.AxesSubplot at 0x7f9d9fd7e710>"
      ]
     },
     "execution_count": 49,
     "metadata": {},
     "output_type": "execute_result"
    },
    {
     "data": {
      "image/png": "[encoded data removed]",
      "text/plain": [
       "<matplotlib.figure.Figure at 0x7f9d9fd68e10>"
      ]
     },
     "metadata": {},
     "output_type": "display_data"
    }
   ],
   "source": [
    "df['trip_distance'].plot(figsize=(14,6))"
   ]
  },
  {
   "cell_type": "markdown",
   "metadata": {},
   "source": [
    "One of the biggest benefits of using `pandas` is being able to easily reference the data in intuitive ways. For example, because we set up the index of the dataframe to be the date, we can pull out data using dates. In the following, we pull out all data from the first hour of the day:"
   ]
  },
  {
   "cell_type": "code",
   "execution_count": 16,
   "metadata": {
    "collapsed": false
   },
   "outputs": [
    {
     "data": {
      "text/html": [
       "<div>\n",
       "<table border=\"1\" class=\"dataframe\">\n",
       "  <thead>\n",
       "    <tr style=\"text-align: right;\">\n",
       "      <th></th>\n",
       "      <th>VendorID</th>\n",
       "      <th>tpep_dropoff_datetime</th>\n",
       "      <th>passenger_count</th>\n",
       "      <th>trip_distance</th>\n",
       "      <th>pickup_longitude</th>\n",
       "      <th>pickup_latitude</th>\n",
       "      <th>RatecodeID</th>\n",
       "      <th>store_and_fwd_flag</th>\n",
       "      <th>dropoff_longitude</th>\n",
       "      <th>dropoff_latitude</th>\n",
       "      <th>payment_type</th>\n",
       "      <th>fare_amount</th>\n",
       "      <th>extra</th>\n",
       "      <th>mta_tax</th>\n",
       "      <th>tip_amount</th>\n",
       "      <th>tolls_amount</th>\n",
       "      <th>improvement_surcharge</th>\n",
       "      <th>total_amount</th>\n",
       "    </tr>\n",
       "    <tr>\n",
       "      <th>tpep_pickup_datetime</th>\n",
       "      <th></th>\n",
       "      <th></th>\n",
       "      <th></th>\n",
       "      <th></th>\n",
       "      <th></th>\n",
       "      <th></th>\n",
       "      <th></th>\n",
       "      <th></th>\n",
       "      <th></th>\n",
       "      <th></th>\n",
       "      <th></th>\n",
       "      <th></th>\n",
       "      <th></th>\n",
       "      <th></th>\n",
       "      <th></th>\n",
       "      <th></th>\n",
       "      <th></th>\n",
       "      <th></th>\n",
       "    </tr>\n",
       "  </thead>\n",
       "  <tbody>\n",
       "    <tr>\n",
       "      <th>2016-05-01 00:00:00</th>\n",
       "      <td>1</td>\n",
       "      <td>2016-05-01 00:17:00</td>\n",
       "      <td>1</td>\n",
       "      <td>3.60</td>\n",
       "      <td>-73.985901</td>\n",
       "      <td>40.768040</td>\n",
       "      <td>1</td>\n",
       "      <td>N</td>\n",
       "      <td>-73.983986</td>\n",
       "      <td>40.730099</td>\n",
       "      <td>1</td>\n",
       "      <td>15.0</td>\n",
       "      <td>0.5</td>\n",
       "      <td>0.5</td>\n",
       "      <td>1.50</td>\n",
       "      <td>0</td>\n",
       "      <td>0.3</td>\n",
       "      <td>17.80</td>\n",
       "    </tr>\n",
       "    <tr>\n",
       "      <th>2016-05-01 00:00:00</th>\n",
       "      <td>2</td>\n",
       "      <td>2016-05-01 00:00:00</td>\n",
       "      <td>2</td>\n",
       "      <td>18.41</td>\n",
       "      <td>-73.781059</td>\n",
       "      <td>40.645020</td>\n",
       "      <td>2</td>\n",
       "      <td>N</td>\n",
       "      <td>-73.984573</td>\n",
       "      <td>40.768398</td>\n",
       "      <td>2</td>\n",
       "      <td>52.0</td>\n",
       "      <td>0.0</td>\n",
       "      <td>0.5</td>\n",
       "      <td>0.00</td>\n",
       "      <td>0</td>\n",
       "      <td>0.3</td>\n",
       "      <td>52.80</td>\n",
       "    </tr>\n",
       "    <tr>\n",
       "      <th>2016-05-01 00:00:00</th>\n",
       "      <td>2</td>\n",
       "      <td>2016-05-01 00:08:00</td>\n",
       "      <td>1</td>\n",
       "      <td>1.60</td>\n",
       "      <td>-74.002769</td>\n",
       "      <td>40.728619</td>\n",
       "      <td>1</td>\n",
       "      <td>N</td>\n",
       "      <td>-73.984161</td>\n",
       "      <td>40.737438</td>\n",
       "      <td>1</td>\n",
       "      <td>8.0</td>\n",
       "      <td>0.5</td>\n",
       "      <td>0.5</td>\n",
       "      <td>1.86</td>\n",
       "      <td>0</td>\n",
       "      <td>0.3</td>\n",
       "      <td>11.16</td>\n",
       "    </tr>\n",
       "    <tr>\n",
       "      <th>...</th>\n",
       "      <td>...</td>\n",
       "      <td>...</td>\n",
       "      <td>...</td>\n",
       "      <td>...</td>\n",
       "      <td>...</td>\n",
       "      <td>...</td>\n",
       "      <td>...</td>\n",
       "      <td>...</td>\n",
       "      <td>...</td>\n",
       "      <td>...</td>\n",
       "      <td>...</td>\n",
       "      <td>...</td>\n",
       "      <td>...</td>\n",
       "      <td>...</td>\n",
       "      <td>...</td>\n",
       "      <td>...</td>\n",
       "      <td>...</td>\n",
       "      <td>...</td>\n",
       "    </tr>\n",
       "    <tr>\n",
       "      <th>2016-05-01 00:59:00</th>\n",
       "      <td>1</td>\n",
       "      <td>2016-05-01 01:09:00</td>\n",
       "      <td>2</td>\n",
       "      <td>2.30</td>\n",
       "      <td>-73.999451</td>\n",
       "      <td>40.728214</td>\n",
       "      <td>1</td>\n",
       "      <td>N</td>\n",
       "      <td>-73.997505</td>\n",
       "      <td>40.745892</td>\n",
       "      <td>2</td>\n",
       "      <td>9.0</td>\n",
       "      <td>0.5</td>\n",
       "      <td>0.5</td>\n",
       "      <td>0.00</td>\n",
       "      <td>0</td>\n",
       "      <td>0.3</td>\n",
       "      <td>10.30</td>\n",
       "    </tr>\n",
       "    <tr>\n",
       "      <th>2016-05-01 00:59:00</th>\n",
       "      <td>2</td>\n",
       "      <td>2016-05-01 01:14:00</td>\n",
       "      <td>5</td>\n",
       "      <td>3.58</td>\n",
       "      <td>-74.001373</td>\n",
       "      <td>40.761669</td>\n",
       "      <td>1</td>\n",
       "      <td>N</td>\n",
       "      <td>-73.967537</td>\n",
       "      <td>40.791241</td>\n",
       "      <td>1</td>\n",
       "      <td>14.5</td>\n",
       "      <td>0.5</td>\n",
       "      <td>0.5</td>\n",
       "      <td>3.16</td>\n",
       "      <td>0</td>\n",
       "      <td>0.3</td>\n",
       "      <td>18.96</td>\n",
       "    </tr>\n",
       "    <tr>\n",
       "      <th>2016-05-01 00:59:00</th>\n",
       "      <td>2</td>\n",
       "      <td>2016-05-01 01:08:00</td>\n",
       "      <td>1</td>\n",
       "      <td>1.70</td>\n",
       "      <td>-73.986198</td>\n",
       "      <td>40.752426</td>\n",
       "      <td>1</td>\n",
       "      <td>N</td>\n",
       "      <td>-74.003548</td>\n",
       "      <td>40.740318</td>\n",
       "      <td>1</td>\n",
       "      <td>8.0</td>\n",
       "      <td>0.5</td>\n",
       "      <td>0.5</td>\n",
       "      <td>2.79</td>\n",
       "      <td>0</td>\n",
       "      <td>0.3</td>\n",
       "      <td>12.09</td>\n",
       "    </tr>\n",
       "  </tbody>\n",
       "</table>\n",
       "<p>2447 rows × 18 columns</p>\n",
       "</div>"
      ],
      "text/plain": [
       "                      VendorID tpep_dropoff_datetime  passenger_count  \\\n",
       "tpep_pickup_datetime                                                    \n",
       "2016-05-01 00:00:00          1   2016-05-01 00:17:00                1   \n",
       "2016-05-01 00:00:00          2   2016-05-01 00:00:00                2   \n",
       "2016-05-01 00:00:00          2   2016-05-01 00:08:00                1   \n",
       "...                        ...                   ...              ...   \n",
       "2016-05-01 00:59:00          1   2016-05-01 01:09:00                2   \n",
       "2016-05-01 00:59:00          2   2016-05-01 01:14:00                5   \n",
       "2016-05-01 00:59:00          2   2016-05-01 01:08:00                1   \n",
       "\n",
       "                      trip_distance  pickup_longitude  pickup_latitude  \\\n",
       "tpep_pickup_datetime                                                     \n",
       "2016-05-01 00:00:00            3.60        -73.985901        40.768040   \n",
       "2016-05-01 00:00:00           18.41        -73.781059        40.645020   \n",
       "2016-05-01 00:00:00            1.60        -74.002769        40.728619   \n",
       "...                             ...               ...              ...   \n",
       "2016-05-01 00:59:00            2.30        -73.999451        40.728214   \n",
       "2016-05-01 00:59:00            3.58        -74.001373        40.761669   \n",
       "2016-05-01 00:59:00            1.70        -73.986198        40.752426   \n",
       "\n",
       "                      RatecodeID store_and_fwd_flag  dropoff_longitude  \\\n",
       "tpep_pickup_datetime                                                     \n",
       "2016-05-01 00:00:00            1                  N         -73.983986   \n",
       "2016-05-01 00:00:00            2                  N         -73.984573   \n",
       "2016-05-01 00:00:00            1                  N         -73.984161   \n",
       "...                          ...                ...                ...   \n",
       "2016-05-01 00:59:00            1                  N         -73.997505   \n",
       "2016-05-01 00:59:00            1                  N         -73.967537   \n",
       "2016-05-01 00:59:00            1                  N         -74.003548   \n",
       "\n",
       "                      dropoff_latitude  payment_type  fare_amount  extra  \\\n",
       "tpep_pickup_datetime                                                       \n",
       "2016-05-01 00:00:00          40.730099             1         15.0    0.5   \n",
       "2016-05-01 00:00:00          40.768398             2         52.0    0.0   \n",
       "2016-05-01 00:00:00          40.737438             1          8.0    0.5   \n",
       "...                                ...           ...          ...    ...   \n",
       "2016-05-01 00:59:00          40.745892             2          9.0    0.5   \n",
       "2016-05-01 00:59:00          40.791241             1         14.5    0.5   \n",
       "2016-05-01 00:59:00          40.740318             1          8.0    0.5   \n",
       "\n",
       "                      mta_tax  tip_amount  tolls_amount  \\\n",
       "tpep_pickup_datetime                                      \n",
       "2016-05-01 00:00:00       0.5        1.50             0   \n",
       "2016-05-01 00:00:00       0.5        0.00             0   \n",
       "2016-05-01 00:00:00       0.5        1.86             0   \n",
       "...                       ...         ...           ...   \n",
       "2016-05-01 00:59:00       0.5        0.00             0   \n",
       "2016-05-01 00:59:00       0.5        3.16             0   \n",
       "2016-05-01 00:59:00       0.5        2.79             0   \n",
       "\n",
       "                      improvement_surcharge  total_amount  \n",
       "tpep_pickup_datetime                                       \n",
       "2016-05-01 00:00:00                     0.3         17.80  \n",
       "2016-05-01 00:00:00                     0.3         52.80  \n",
       "2016-05-01 00:00:00                     0.3         11.16  \n",
       "...                                     ...           ...  \n",
       "2016-05-01 00:59:00                     0.3         10.30  \n",
       "2016-05-01 00:59:00                     0.3         18.96  \n",
       "2016-05-01 00:59:00                     0.3         12.09  \n",
       "\n",
       "[2447 rows x 18 columns]"
      ]
     },
     "execution_count": 16,
     "metadata": {},
     "output_type": "execute_result"
    }
   ],
   "source": [
    "df['2016-05-01 00']"
   ]
  },
  {
   "cell_type": "markdown",
   "metadata": {},
   "source": [
    "Here we further subdivide to examine the passenger count during that time period:"
   ]
  },
  {
   "cell_type": "code",
   "execution_count": 22,
   "metadata": {
    "collapsed": false
   },
   "outputs": [
    {
     "data": {
      "text/plain": [
       "tpep_pickup_datetime\n",
       "2016-05-01 00:00:00    1\n",
       "2016-05-01 00:00:00    2\n",
       "2016-05-01 00:00:00    1\n",
       "                      ..\n",
       "2016-05-01 00:59:00    2\n",
       "2016-05-01 00:59:00    5\n",
       "2016-05-01 00:59:00    1\n",
       "Name: passenger_count, dtype: int64"
      ]
     },
     "execution_count": 22,
     "metadata": {},
     "output_type": "execute_result"
    }
   ],
   "source": [
    "df['2016-05-01 00']['passenger_count']"
   ]
  },
  {
   "cell_type": "markdown",
   "metadata": {},
   "source": [
    "---\n",
    "###  *Exercise*\n",
    "\n",
    "> Figure out how to access the data from dataframe `df` for the first three hours of the day at once. Plot the tip amount (`tip_amount`) for this time period.\n",
    "\n",
    "> After you can make a line plot, try making a histogram of the data. Play around with the data range and the number of bins.\n",
    "\n",
    "---"
   ]
  },
  {
   "cell_type": "code",
   "execution_count": null,
   "metadata": {
    "collapsed": false
   },
   "outputs": [],
   "source": []
  },
  {
   "cell_type": "markdown",
   "metadata": {},
   "source": [
    "We can change many `plot` parameters directly from `pandas`. We can do this in our exercise plot."
   ]
  },
  {
   "cell_type": "markdown",
   "metadata": {},
   "source": [
    "We can add data to our dataframe very easily. Below we add an index that gives the minute in the hour throughout the day.\n",
    "\n",
    "We now can use the values from the key `minute` to FIXcompute the daily river flow average over all of the years — one of the questions on the homework (for the grad students). We access the data in the dataframe, `groupby` the day of the year (spanning all of the years), and then compute the mean."
   ]
  },
  {
   "cell_type": "code",
   "execution_count": 42,
   "metadata": {
    "collapsed": false
   },
   "outputs": [
    {
     "data": {
      "text/plain": [
       "<matplotlib.axes._subplots.AxesSubplot at 0x7f9d9fe04ac8>"
      ]
     },
     "execution_count": 42,
     "metadata": {},
     "output_type": "execute_result"
    },
    {
     "data": {
      "image/png": "[encoded data removed]",
      "text/plain": [
       "<matplotlib.figure.Figure at 0x7f9d9fd7eb00>"
      ]
     },
     "metadata": {},
     "output_type": "display_data"
    }
   ],
   "source": [
    "df.loc[:, 'minute'] = df.index.minute  # adding a field for the minute of the hour\n",
    "df.groupby('minute').aggregate(np.mean)['total_amount'].plot(color='k', grid=True, figsize=(14, 4), lw=3)"
   ]
  },
  {
   "cell_type": "code",
   "execution_count": null,
   "metadata": {
    "collapsed": true
   },
   "outputs": [],
   "source": []
  },
  {
   "cell_type": "code",
   "execution_count": null,
   "metadata": {
    "collapsed": true
   },
   "outputs": [],
   "source": []
  },
  {
   "cell_type": "code",
   "execution_count": null,
   "metadata": {
    "collapsed": true
   },
   "outputs": [],
   "source": []
  }
 ],
 "metadata": {
  "kernelspec": {
   "display_name": "Python [default]",
   "language": "python",
   "name": "python3"
  },
  "language_info": {
   "codemirror_mode": {
    "name": "ipython",
    "version": 3
   },
   "file_extension": ".py",
   "mimetype": "text/x-python",
   "name": "python",
   "nbconvert_exporter": "python",
   "pygments_lexer": "ipython3",
   "version": "3.5.2"
  }
 },
 "nbformat": 4,
 "nbformat_minor": 0
}
